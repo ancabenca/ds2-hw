{
 "cells": [
  {
   "cell_type": "code",
   "execution_count": 4,
   "id": "c027d42f-5aab-4650-8bcb-7731d58871a2",
   "metadata": {},
   "outputs": [
    {
     "name": "stderr",
     "output_type": "stream",
     "text": [
      "[NbConvertApp] Converting notebook AI-VNO.ipynb to pdf\n",
      "[NbConvertApp] Support files will be in AI-VNO_files\\\n",
      "[NbConvertApp] Making directory .\\AI-VNO_files\n",
      "[NbConvertApp] Writing 51557 bytes to notebook.tex\n",
      "[NbConvertApp] Building PDF\n",
      "[NbConvertApp] Running xelatex 3 times: ['xelatex', 'notebook.tex', '-quiet']\n",
      "[NbConvertApp] Running bibtex 1 time: ['bibtex', 'notebook']\n",
      "[NbConvertApp] WARNING | b had problems, most likely because there were no citations\n",
      "[NbConvertApp] PDF successfully created\n",
      "[NbConvertApp] Writing 1942156 bytes to AI-VNO.pdf\n"
     ]
    }
   ],
   "source": [
    "#replace with your notebook file name and run to create PDF w/o code inputs\n",
    "!jupyter nbconvert --to pdf --TemplateExporter.exclude_input=True AI-VNO.ipynb"
   ]
  }
 ],
 "metadata": {
  "kernelspec": {
   "display_name": "Python 3 (ipykernel)",
   "language": "python",
   "name": "python3"
  },
  "language_info": {
   "codemirror_mode": {
    "name": "ipython",
    "version": 3
   },
   "file_extension": ".py",
   "mimetype": "text/x-python",
   "name": "python",
   "nbconvert_exporter": "python",
   "pygments_lexer": "ipython3",
   "version": "3.10.9"
  }
 },
 "nbformat": 4,
 "nbformat_minor": 5
}
