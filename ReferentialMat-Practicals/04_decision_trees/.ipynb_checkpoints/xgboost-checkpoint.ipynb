{
 "cells": [
  {
   "cell_type": "markdown",
   "metadata": {},
   "source": [
    "# XGBoost\n",
    "\n",
    "In this tutorial we learn how to process data, train an XGBoost model and validate any model."
   ]
  },
  {
   "cell_type": "markdown",
   "metadata": {},
   "source": [
    "# Import packages"
   ]
  },
  {
   "cell_type": "code",
   "execution_count": 1,
   "metadata": {
    "ExecuteTime": {
     "end_time": "2021-12-04T18:32:45.928517Z",
     "start_time": "2021-12-04T18:32:23.351767Z"
    }
   },
   "outputs": [],
   "source": [
    "import numpy as np\n",
    "import pandas as pd\n",
    "import matplotlib.pyplot as plt\n",
    "import seaborn as sns\n",
    "import datetime\n",
    "from tqdm.notebook import tqdm\n",
    "\n",
    "from sklearn.model_selection import train_test_split\n",
    "from sklearn.metrics import roc_auc_score, roc_curve\n",
    "from sklearn.model_selection import RandomizedSearchCV\n",
    "from sklearn.model_selection import StratifiedKFold\n",
    "import xgboost as xgb\n",
    "from pathlib import Path"
   ]
  },
  {
   "cell_type": "code",
   "execution_count": 2,
   "metadata": {
    "ExecuteTime": {
     "end_time": "2021-12-04T18:32:45.975518Z",
     "start_time": "2021-12-04T18:32:45.962519Z"
    }
   },
   "outputs": [
    {
     "data": {
      "text/html": [
       "<style>.container { width:70% !important; }</style>"
      ],
      "text/plain": [
       "<IPython.core.display.HTML object>"
      ]
     },
     "metadata": {},
     "output_type": "display_data"
    }
   ],
   "source": [
    "# set width of Jupyter notebook\n",
    "from IPython.core.display import HTML\n",
    "display(HTML(\"<style>.container { width:70% !important; }</style>\"))\n",
    "\n",
    "# set some visual properties of displaying pandas DataFrame\n",
    "pd.options.display.max_columns=200\n",
    "pd.options.display.max_rows=200"
   ]
  },
  {
   "cell_type": "markdown",
   "metadata": {},
   "source": [
    "**Download the data if needed (and unpack it into the Data folder), we use the same dataset as in the python intro:** <a href=\"https://www2.karlin.mff.cuni.cz/~kozmikk/files/data_devsample.zip\" target=\"_blank\">credit risk data</a> "
   ]
  },
  {
   "cell_type": "markdown",
   "metadata": {},
   "source": [
    "# Load Data\n",
    "- Data sample represents data used in financial institutions for development of credit risk scoring models.\n",
    "- This data sample was used in Kaggle competition arranged by Home Credit Group in 2018.\n",
    "- Data includes binary target variable `TARGET` and multiple regressors to be used in model.\n",
    "- Column `SK_ID_CURR` is used as unique identifier of credit application and columns `TIME` represents time of the application.\n",
    "- Model should predict solvency of applicants at the time of application for credit."
   ]
  },
  {
   "cell_type": "code",
   "execution_count": 3,
   "metadata": {
    "ExecuteTime": {
     "end_time": "2021-12-04T18:32:52.816842Z",
     "start_time": "2021-12-04T18:32:51.290202Z"
    }
   },
   "outputs": [
    {
     "name": "stdout",
     "output_type": "stream",
     "text": [
      "Data loaded on:   2024-04-02 17:43:04\n"
     ]
    }
   ],
   "source": [
    "# Load data - set index column, decimal point, separator\n",
    "data_file = Path(\"../Data/data_devsample.csv\")\n",
    "data = pd.read_csv(data_file, sep = ',', decimal = '.', index_col = 'SK_ID_CURR')\n",
    "\n",
    "# print time of data being loaded - use strftime\n",
    "print(f'Data loaded on:   {datetime.datetime.now().strftime(format=\"%Y-%m-%d %H:%M:%S\")}')"
   ]
  },
  {
   "cell_type": "code",
   "execution_count": null,
   "metadata": {
    "ExecuteTime": {
     "end_time": "2021-12-04T18:32:53.100845Z",
     "start_time": "2021-12-04T18:32:52.912844Z"
    }
   },
   "outputs": [],
   "source": [
    "data.head()"
   ]
  },
  {
   "cell_type": "code",
   "execution_count": 4,
   "metadata": {
    "ExecuteTime": {
     "end_time": "2021-12-04T18:32:53.227843Z",
     "start_time": "2021-12-04T18:32:53.196844Z"
    }
   },
   "outputs": [
    {
     "name": "stdout",
     "output_type": "stream",
     "text": [
      "Number of rows:   80 000\n",
      "Number of unique indexes:   80 000\n",
      "Number of columns:   196\n"
     ]
    }
   ],
   "source": [
    "# Print some numbers about data sample size\n",
    "print(f'Number of rows:   {data.shape[0]:,}'.replace(',', ' '))\n",
    "print(f'Number of unique indexes:   {data.index.nunique():,}'.replace(',', ' '))\n",
    "print(f'Number of columns:   {data.shape[1]:,}'.replace(',', ' '))"
   ]
  },
  {
   "cell_type": "markdown",
   "metadata": {},
   "source": [
    "# Metadata Definitions"
   ]
  },
  {
   "cell_type": "code",
   "execution_count": 5,
   "metadata": {
    "ExecuteTime": {
     "end_time": "2021-12-04T18:32:56.027567Z",
     "start_time": "2021-12-04T18:32:56.015537Z"
    }
   },
   "outputs": [
    {
     "data": {
      "text/plain": [
       "TARGET\n",
       "0.0    73584\n",
       "1.0     6416\n",
       "Name: count, dtype: int64"
      ]
     },
     "execution_count": 5,
     "metadata": {},
     "output_type": "execute_result"
    }
   ],
   "source": [
    "# check values in column TARGET\n",
    "data.TARGET.value_counts(dropna=False)"
   ]
  },
  {
   "cell_type": "code",
   "execution_count": 6,
   "metadata": {
    "ExecuteTime": {
     "end_time": "2021-12-04T18:32:56.282316Z",
     "start_time": "2021-12-04T18:32:56.268314Z"
    }
   },
   "outputs": [],
   "source": [
    "#name of the target column\n",
    "col_target = \"TARGET\"\n",
    "#name of the time column\n",
    "col_time = \"TIME\"\n",
    "\n",
    "#name of the month column\n",
    "col_month = \"MONTH\""
   ]
  },
  {
   "cell_type": "code",
   "execution_count": 7,
   "metadata": {
    "ExecuteTime": {
     "end_time": "2021-12-04T18:32:56.753865Z",
     "start_time": "2021-12-04T18:32:56.685863Z"
    }
   },
   "outputs": [
    {
     "name": "stdout",
     "output_type": "stream",
     "text": [
      "Numerical predictors:\n",
      "---------------------\n",
      "CNT_CHILDREN                                                                       float64\n",
      "AMT_INCOME_TOTAL                                                                   float64\n",
      "AMT_CREDIT                                                                         float64\n",
      "AMT_ANNUITY                                                                        float64\n",
      "AMT_GOODS_PRICE                                                                    float64\n",
      "REGION_POPULATION_RELATIVE                                                         float64\n",
      "DAYS_BIRTH                                                                         float64\n",
      "DAYS_EMPLOYED                                                                        int64\n",
      "DAYS_REGISTRATION                                                                  float64\n",
      "DAYS_ID_PUBLISH                                                                      int64\n",
      "OWN_CAR_AGE                                                                        float64\n",
      "FLAG_MOBIL                                                                           int64\n",
      "FLAG_EMP_PHONE                                                                       int64\n",
      "FLAG_WORK_PHONE                                                                      int64\n",
      "FLAG_CONT_MOBILE                                                                     int64\n",
      "FLAG_PHONE                                                                           int64\n",
      "FLAG_EMAIL                                                                           int64\n",
      "CNT_FAM_MEMBERS                                                                    float64\n",
      "REGION_RATING_CLIENT                                                                 int64\n",
      "REGION_RATING_CLIENT_W_CITY                                                          int64\n",
      "HOUR_APPR_PROCESS_START                                                              int64\n",
      "REG_REGION_NOT_LIVE_REGION                                                           int64\n",
      "REG_REGION_NOT_WORK_REGION                                                           int64\n",
      "LIVE_REGION_NOT_WORK_REGION                                                          int64\n",
      "REG_CITY_NOT_LIVE_CITY                                                               int64\n",
      "REG_CITY_NOT_WORK_CITY                                                               int64\n",
      "LIVE_CITY_NOT_WORK_CITY                                                              int64\n",
      "EXT_SOURCE_1                                                                       float64\n",
      "EXT_SOURCE_2                                                                       float64\n",
      "EXT_SOURCE_3                                                                       float64\n",
      "APARTMENTS_AVG                                                                     float64\n",
      "BASEMENTAREA_AVG                                                                   float64\n",
      "YEARS_BEGINEXPLUATATION_AVG                                                        float64\n",
      "YEARS_BUILD_AVG                                                                    float64\n",
      "COMMONAREA_AVG                                                                     float64\n",
      "ELEVATORS_AVG                                                                      float64\n",
      "ENTRANCES_AVG                                                                      float64\n",
      "FLOORSMAX_AVG                                                                      float64\n",
      "FLOORSMIN_AVG                                                                      float64\n",
      "LANDAREA_AVG                                                                       float64\n",
      "LIVINGAPARTMENTS_AVG                                                               float64\n",
      "LIVINGAREA_AVG                                                                     float64\n",
      "NONLIVINGAPARTMENTS_AVG                                                            float64\n",
      "NONLIVINGAREA_AVG                                                                  float64\n",
      "APARTMENTS_MODE                                                                    float64\n",
      "BASEMENTAREA_MODE                                                                  float64\n",
      "YEARS_BEGINEXPLUATATION_MODE                                                       float64\n",
      "YEARS_BUILD_MODE                                                                   float64\n",
      "COMMONAREA_MODE                                                                    float64\n",
      "ELEVATORS_MODE                                                                     float64\n",
      "ENTRANCES_MODE                                                                     float64\n",
      "FLOORSMAX_MODE                                                                     float64\n",
      "FLOORSMIN_MODE                                                                     float64\n",
      "LANDAREA_MODE                                                                      float64\n",
      "LIVINGAPARTMENTS_MODE                                                              float64\n",
      "LIVINGAREA_MODE                                                                    float64\n",
      "NONLIVINGAPARTMENTS_MODE                                                           float64\n",
      "NONLIVINGAREA_MODE                                                                 float64\n",
      "APARTMENTS_MEDI                                                                    float64\n",
      "BASEMENTAREA_MEDI                                                                  float64\n",
      "YEARS_BEGINEXPLUATATION_MEDI                                                       float64\n",
      "YEARS_BUILD_MEDI                                                                   float64\n",
      "COMMONAREA_MEDI                                                                    float64\n",
      "ELEVATORS_MEDI                                                                     float64\n",
      "ENTRANCES_MEDI                                                                     float64\n",
      "FLOORSMAX_MEDI                                                                     float64\n",
      "FLOORSMIN_MEDI                                                                     float64\n",
      "LANDAREA_MEDI                                                                      float64\n",
      "LIVINGAPARTMENTS_MEDI                                                              float64\n",
      "LIVINGAREA_MEDI                                                                    float64\n",
      "NONLIVINGAPARTMENTS_MEDI                                                           float64\n",
      "NONLIVINGAREA_MEDI                                                                 float64\n",
      "TOTALAREA_MODE                                                                     float64\n",
      "OBS_30_CNT_SOCIAL_CIRCLE                                                           float64\n",
      "DEF_30_CNT_SOCIAL_CIRCLE                                                           float64\n",
      "OBS_60_CNT_SOCIAL_CIRCLE                                                           float64\n",
      "DEF_60_CNT_SOCIAL_CIRCLE                                                           float64\n",
      "DAYS_LAST_PHONE_CHANGE                                                             float64\n",
      "FLAG_DOCUMENT_2                                                                      int64\n",
      "FLAG_DOCUMENT_3                                                                      int64\n",
      "FLAG_DOCUMENT_4                                                                      int64\n",
      "FLAG_DOCUMENT_5                                                                      int64\n",
      "FLAG_DOCUMENT_6                                                                      int64\n",
      "FLAG_DOCUMENT_7                                                                      int64\n",
      "FLAG_DOCUMENT_8                                                                      int64\n",
      "FLAG_DOCUMENT_9                                                                      int64\n",
      "FLAG_DOCUMENT_10                                                                     int64\n",
      "FLAG_DOCUMENT_11                                                                     int64\n",
      "FLAG_DOCUMENT_12                                                                     int64\n",
      "FLAG_DOCUMENT_13                                                                     int64\n",
      "FLAG_DOCUMENT_14                                                                     int64\n",
      "FLAG_DOCUMENT_15                                                                     int64\n",
      "FLAG_DOCUMENT_16                                                                     int64\n",
      "FLAG_DOCUMENT_17                                                                     int64\n",
      "FLAG_DOCUMENT_18                                                                     int64\n",
      "FLAG_DOCUMENT_19                                                                     int64\n",
      "FLAG_DOCUMENT_20                                                                     int64\n",
      "FLAG_DOCUMENT_21                                                                     int64\n",
      "AMT_REQ_CREDIT_BUREAU_HOUR                                                         float64\n",
      "AMT_REQ_CREDIT_BUREAU_DAY                                                          float64\n",
      "AMT_REQ_CREDIT_BUREAU_WEEK                                                         float64\n",
      "AMT_REQ_CREDIT_BUREAU_MON                                                          float64\n",
      "AMT_REQ_CREDIT_BUREAU_QRT                                                          float64\n",
      "AMT_REQ_CREDIT_BUREAU_YEAR                                                         float64\n",
      "MIN_AMTCR_0M_INFM                                                                  float64\n",
      "MAX_AMTCR_0M_INFM                                                                  float64\n",
      "MEAN_AMTCR_0M_INFM                                                                 float64\n",
      "MEDIAN_AMTCR_0M_INFM                                                               float64\n",
      "STD_AMTCR_0M_INFM                                                                  float64\n",
      "MIN_AMTCR_0M_6M                                                                    float64\n",
      "MAX_AMTCR_0M_6M                                                                    float64\n",
      "MEAN_AMTCR_0M_6M                                                                   float64\n",
      "MEDIAN_AMTCR_0M_6M                                                                 float64\n",
      "STD_AMTCR_0M_6M                                                                    float64\n",
      "MIN_AMTCR_0M_INFM_TYPE_EQ_ACTIVE                                                   float64\n",
      "MAX_AMTCR_0M_INFM_TYPE_EQ_ACTIVE                                                   float64\n",
      "MEAN_AMTCR_0M_INFM_TYPE_EQ_ACTIVE                                                  float64\n",
      "MEDIAN_AMTCR_0M_INFM_TYPE_EQ_ACTIVE                                                float64\n",
      "STD_AMTCR_0M_INFM_TYPE_EQ_ACTIVE                                                   float64\n",
      "MIN_AMTCR_0M_6M_TYPE_EQ_ACTIVE                                                     float64\n",
      "MAX_AMTCR_0M_6M_TYPE_EQ_ACTIVE                                                     float64\n",
      "MEAN_AMTCR_0M_6M_TYPE_EQ_ACTIVE                                                    float64\n",
      "MEDIAN_AMTCR_0M_6M_TYPE_EQ_ACTIVE                                                  float64\n",
      "STD_AMTCR_0M_6M_TYPE_EQ_ACTIVE                                                     float64\n",
      "MIN_AMTCR_0M_INFM_TYPE_EQ_CLOSED                                                   float64\n",
      "MAX_AMTCR_0M_INFM_TYPE_EQ_CLOSED                                                   float64\n",
      "MEAN_AMTCR_0M_INFM_TYPE_EQ_CLOSED                                                  float64\n",
      "MEDIAN_AMTCR_0M_INFM_TYPE_EQ_CLOSED                                                float64\n",
      "STD_AMTCR_0M_INFM_TYPE_EQ_CLOSED                                                   float64\n",
      "MIN_AMTCR_0M_6M_TYPE_EQ_CLOSED                                                     float64\n",
      "MAX_AMTCR_0M_6M_TYPE_EQ_CLOSED                                                     float64\n",
      "MEAN_AMTCR_0M_6M_TYPE_EQ_CLOSED                                                    float64\n",
      "MEDIAN_AMTCR_0M_6M_TYPE_EQ_CLOSED                                                  float64\n",
      "STD_AMTCR_0M_6M_TYPE_EQ_CLOSED                                                     float64\n",
      "MIN_DPD_0M_INFM                                                                    float64\n",
      "MAX_DPD_0M_INFM                                                                    float64\n",
      "MEAN_DPD_0M_INFM                                                                   float64\n",
      "MEDIAN_DPD_0M_INFM                                                                 float64\n",
      "STD_DPD_0M_INFM                                                                    float64\n",
      "MIN_DPD_0M_6M                                                                      float64\n",
      "MAX_DPD_0M_6M                                                                      float64\n",
      "MEAN_DPD_0M_6M                                                                     float64\n",
      "MEDIAN_DPD_0M_6M                                                                   float64\n",
      "STD_DPD_0M_6M                                                                      float64\n",
      "MIN_DPD_0M_INFM_TYPE_EQ_ACTIVE                                                     float64\n",
      "MAX_DPD_0M_INFM_TYPE_EQ_ACTIVE                                                     float64\n",
      "MEAN_DPD_0M_INFM_TYPE_EQ_ACTIVE                                                    float64\n",
      "MEDIAN_DPD_0M_INFM_TYPE_EQ_ACTIVE                                                  float64\n",
      "STD_DPD_0M_INFM_TYPE_EQ_ACTIVE                                                     float64\n",
      "MIN_DPD_0M_6M_TYPE_EQ_ACTIVE                                                       float64\n",
      "MAX_DPD_0M_6M_TYPE_EQ_ACTIVE                                                       float64\n",
      "MEAN_DPD_0M_6M_TYPE_EQ_ACTIVE                                                      float64\n",
      "MEDIAN_DPD_0M_6M_TYPE_EQ_ACTIVE                                                    float64\n",
      "STD_DPD_0M_6M_TYPE_EQ_ACTIVE                                                       float64\n",
      "MIN_DPD_0M_INFM_TYPE_EQ_CLOSED                                                     float64\n",
      "MAX_DPD_0M_INFM_TYPE_EQ_CLOSED                                                     float64\n",
      "MEAN_DPD_0M_INFM_TYPE_EQ_CLOSED                                                    float64\n",
      "MEDIAN_DPD_0M_INFM_TYPE_EQ_CLOSED                                                  float64\n",
      "STD_DPD_0M_INFM_TYPE_EQ_CLOSED                                                     float64\n",
      "MIN_DPD_0M_6M_TYPE_EQ_CLOSED                                                       float64\n",
      "MAX_DPD_0M_6M_TYPE_EQ_CLOSED                                                       float64\n",
      "MEAN_DPD_0M_6M_TYPE_EQ_CLOSED                                                      float64\n",
      "MEDIAN_DPD_0M_6M_TYPE_EQ_CLOSED                                                    float64\n",
      "STD_DPD_0M_6M_TYPE_EQ_CLOSED                                                       float64\n",
      "MEAN_AMTCR_1M_3M_DIV_MEAN_AMTCR_3M_12M                                             float64\n",
      "MEAN_AMTCR_1M_3M_TYPE_EQ_ACTIVE_DIV_MEAN_AMTCR_3M_12M_TYPE_EQ_ACTIVE               float64\n",
      "MEAN_AMTCR_1M_3M_TYPE_EQ_CLOSED_DIV_MEAN_AMTCR_3M_12M_TYPE_EQ_CLOSED               float64\n",
      "MEAN_AMTCR_OVERDUE_0M_INFM_DIV_MEAN_AMTCR_0M_INFM                                  float64\n",
      "MEAN_AMTCR_OVERDUE_0M_12M_DIV_MEAN_AMTCR_0M_12M                                    float64\n",
      "MEAN_AMTCR_OVERDUE_0M_INFM_TYPE_EQ_ACTIVE_DIV_MEAN_AMTCR_0M_INFM_TYPE_EQ_ACTIVE    float64\n",
      "MEAN_AMTCR_OVERDUE_0M_12M_TYPE_EQ_ACTIVE_DIV_MEAN_AMTCR_0M_12M_TYPE_EQ_ACTIVE      float64\n",
      "MEAN_AMTCR_OVERDUE_0M_INFM_TYPE_EQ_CLOSED_DIV_MEAN_AMTCR_0M_INFM_TYPE_EQ_CLOSED    float64\n",
      "MEAN_AMTCR_OVERDUE_0M_12M_TYPE_EQ_CLOSED_DIV_MEAN_AMTCR_0M_12M_TYPE_EQ_CLOSED      float64\n",
      "FIRST_TRANSACTION_TIME_MONTHS                                                      float64\n",
      "LAST_TRANSACTION_TIME_MONTHS                                                       float64\n",
      "dtype: object\n",
      "\n",
      "Categorical predictors:\n",
      "-----------------------\n",
      "NAME_CONTRACT_TYPE            object\n",
      "CODE_GENDER                   object\n",
      "FLAG_OWN_CAR                  object\n",
      "FLAG_OWN_REALTY               object\n",
      "NAME_TYPE_SUITE               object\n",
      "NAME_INCOME_TYPE              object\n",
      "NAME_EDUCATION_TYPE           object\n",
      "NAME_FAMILY_STATUS            object\n",
      "NAME_HOUSING_TYPE             object\n",
      "OCCUPATION_TYPE               object\n",
      "WEEKDAY_APPR_PROCESS_START    object\n",
      "ORGANIZATION_TYPE             object\n",
      "FONDKAPREMONT_MODE            object\n",
      "HOUSETYPE_MODE                object\n",
      "WALLSMATERIAL_MODE            object\n",
      "EMERGENCYSTATE_MODE           object\n",
      "dtype: object\n"
     ]
    }
   ],
   "source": [
    "# define list of predictors\n",
    "cols_pred = list(data.columns[1:-4])\n",
    "\n",
    "# define list of numerical predictors\n",
    "cols_pred_num = [col for col in cols_pred if data[col].dtype != 'O']\n",
    "# define list of categorical predictors\n",
    "cols_pred_cat = [col for col in cols_pred if data[col].dtype == 'O']\n",
    "\n",
    "print('Numerical predictors:')\n",
    "print('---------------------')\n",
    "print(data[cols_pred_num].dtypes)\n",
    "print()\n",
    "print('Categorical predictors:')\n",
    "print('-----------------------')\n",
    "print(data[cols_pred_cat].dtypes)"
   ]
  },
  {
   "cell_type": "code",
   "execution_count": 8,
   "metadata": {
    "ExecuteTime": {
     "end_time": "2021-12-04T18:32:57.666026Z",
     "start_time": "2021-12-04T18:32:56.943865Z"
    }
   },
   "outputs": [],
   "source": [
    "# convert col_time to date\n",
    "if data[col_time].dtype == 'O':\n",
    "    data[col_time] = data[col_time].apply(lambda x: datetime.datetime.strptime(x, '%Y-%m-%d').date())"
   ]
  },
  {
   "cell_type": "markdown",
   "metadata": {},
   "source": [
    "# Data Split"
   ]
  },
  {
   "cell_type": "code",
   "execution_count": 9,
   "metadata": {
    "ExecuteTime": {
     "end_time": "2021-12-04T18:32:57.996319Z",
     "start_time": "2021-12-04T18:32:57.976284Z"
    }
   },
   "outputs": [],
   "source": [
    "# define function to plot default rate in time for different samples\n",
    "def default_rate_in_time_per_sample(dt, col_target, col_month, col_sample):\n",
    "    # group by over month and sample\n",
    "    dt_grp = dt.groupby([col_month, col_sample]).agg(\n",
    "        def_rt = (col_target, 'mean')\n",
    "    ).reset_index()\n",
    "    \n",
    "    # pivot sample values to columns\n",
    "    dt_grp_pivot = dt_grp.pivot(index = col_month, columns = col_sample, values = 'def_rt')\n",
    "\n",
    "    # plot default rate in time\n",
    "    lines = plt.plot(range(len(dt_grp_pivot)), dt_grp_pivot, marker = 'o')\n",
    "    plt.xticks(range(len(dt_grp_pivot)), dt_grp_pivot.index, rotation = 90)\n",
    "    # set legend\n",
    "    plt.legend(iter(lines), tuple(dt_grp_pivot.columns), loc='best', bbox_to_anchor=(1.05, 1))\n",
    "    \n",
    "    plt.ylim([0, 0.1])\n",
    "    plt.ylabel('default rate')\n",
    "    plt.xlabel('month')\n",
    "    \n",
    "    ax = plt.gca()\n",
    "    ax.spines['top'].set_visible(False)\n",
    "    ax.spines['right'].set_visible(False)\n",
    "    ax.spines['left'].set_color('gray')\n",
    "    ax.spines['bottom'].set_color('gray')\n",
    "    ax.tick_params(axis='y', colors='gray')\n",
    "    ax.tick_params(axis='x', colors='gray')\n",
    "        \n",
    "    plt.show()"
   ]
  },
  {
   "cell_type": "code",
   "execution_count": 10,
   "metadata": {
    "ExecuteTime": {
     "end_time": "2021-12-04T18:32:59.282027Z",
     "start_time": "2021-12-04T18:32:58.455288Z"
    }
   },
   "outputs": [],
   "source": [
    "data['sample'] = 'default'\n",
    "\n",
    "# define 'hoot' and 'oot' sample\n",
    "data.loc[data[col_month] <= 201701, 'sample'] = 'hoot'\n",
    "data.loc[data[col_month] >= 201911, 'sample'] = 'oot'\n",
    "\n",
    "# define intime mask\n",
    "intime_mask = (data[col_month] > 201701) & (data[col_month] < 201911)\n",
    "# use train_test_split to split the intime into train and rest (don't forget seed); use stratification\n",
    "data_train, data_rest = train_test_split(data[intime_mask], test_size=0.4, random_state = 12, stratify = (data[intime_mask][[col_month, col_target]]))\n",
    "data.loc[data_train.index, 'sample'] = 'train'\n",
    "# use train_test_split to split the rest into valid and test (don't forget seed); use stratification\n",
    "data_valid, data_test = train_test_split(data_rest, test_size=0.5, random_state = 12, stratify = (data_rest[[col_month, col_target]]))\n",
    "data.loc[data_valid.index, 'sample'] = 'valid'\n",
    "data.loc[data_test.index, 'sample'] = 'test'"
   ]
  },
  {
   "cell_type": "code",
   "execution_count": 11,
   "metadata": {
    "ExecuteTime": {
     "end_time": "2021-12-04T18:33:00.384779Z",
     "start_time": "2021-12-04T18:32:59.707996Z"
    },
    "scrolled": true
   },
   "outputs": [
    {
     "data": {
      "image/png": "[encoded data removed]",
      "text/plain": [
       "<Figure size 640x480 with 1 Axes>"
      ]
     },
     "metadata": {},
     "output_type": "display_data"
    }
   ],
   "source": [
    "default_rate_in_time_per_sample(data, col_target, col_month, 'sample')"
   ]
  },
  {
   "cell_type": "markdown",
   "metadata": {},
   "source": [
    "## Define Sample Masks"
   ]
  },
  {
   "cell_type": "code",
   "execution_count": 12,
   "metadata": {
    "ExecuteTime": {
     "end_time": "2021-12-04T18:33:00.890136Z",
     "start_time": "2021-12-04T18:33:00.843614Z"
    }
   },
   "outputs": [],
   "source": [
    "# define sample masks\n",
    "train_mask = (data['sample'] == 'train')\n",
    "valid_mask = (data['sample'] == 'valid') \n",
    "test_mask = (data['sample'] == 'test') \n",
    "oot_mask = (data['sample'] == 'oot')  \n",
    "hoot_mask = (data['sample'] == 'hoot')"
   ]
  },
  {
   "cell_type": "markdown",
   "metadata": {},
   "source": [
    "# Data preprocessing"
   ]
  },
  {
   "cell_type": "markdown",
   "metadata": {},
   "source": [
    "## Replace infinity"
   ]
  },
  {
   "cell_type": "code",
   "execution_count": 13,
   "metadata": {
    "ExecuteTime": {
     "end_time": "2021-12-04T18:33:01.487177Z",
     "start_time": "2021-12-04T18:33:01.344178Z"
    }
   },
   "outputs": [
    {
     "name": "stdout",
     "output_type": "stream",
     "text": [
      "Column MEAN_AMTCR_1M_3M_DIV_MEAN_AMTCR_3M_12M includes infinity values.\n",
      "Column MEAN_AMTCR_1M_3M_TYPE_EQ_ACTIVE_DIV_MEAN_AMTCR_3M_12M_TYPE_EQ_ACTIVE includes infinity values.\n",
      "Column MEAN_AMTCR_1M_3M_TYPE_EQ_CLOSED_DIV_MEAN_AMTCR_3M_12M_TYPE_EQ_CLOSED includes infinity values.\n",
      "Column MEAN_AMTCR_OVERDUE_0M_INFM_DIV_MEAN_AMTCR_0M_INFM includes infinity values.\n",
      "Column MEAN_AMTCR_OVERDUE_0M_12M_DIV_MEAN_AMTCR_0M_12M includes infinity values.\n",
      "Column MEAN_AMTCR_OVERDUE_0M_INFM_TYPE_EQ_ACTIVE_DIV_MEAN_AMTCR_0M_INFM_TYPE_EQ_ACTIVE includes infinity values.\n",
      "Column MEAN_AMTCR_OVERDUE_0M_12M_TYPE_EQ_ACTIVE_DIV_MEAN_AMTCR_0M_12M_TYPE_EQ_ACTIVE includes infinity values.\n"
     ]
    }
   ],
   "source": [
    "# find columns with infinity values\n",
    "cols_with_inf = []\n",
    "for col in cols_pred_num:\n",
    "    if np.any(np.isinf(data[col])):\n",
    "        cols_with_inf.append(col)\n",
    "        print(f'Column {col} includes infinity values.')\n",
    "\n",
    "# find columns with negative infinity values\n",
    "cols_with_neginf = []\n",
    "for col in cols_pred_num:\n",
    "    if np.any(np.isneginf(data[col])):\n",
    "        cols_with_neginf.append(col)\n",
    "        print(f'Column {col} includes negative infinity values.')"
   ]
  },
  {
   "cell_type": "code",
   "execution_count": 14,
   "metadata": {
    "ExecuteTime": {
     "end_time": "2021-12-04T18:33:02.597235Z",
     "start_time": "2021-12-04T18:33:02.583192Z"
    }
   },
   "outputs": [],
   "source": [
    "# replace infinity values\n",
    "for col in cols_with_inf:\n",
    "    data[col] = data[col].replace(np.inf, 9999999)"
   ]
  },
  {
   "cell_type": "markdown",
   "metadata": {},
   "source": [
    "## Encode Categorical Predictors\n",
    "- Category encoding is defined by:\n",
    "$$ CategoryEncoding = \\frac{f_{categ}\\cdot DR_{category} + \\alpha \\cdot DR}{f_{categ} + \\alpha} $$\n",
    "where $f_{categ}$ is frequency of category to be encoded, $DR_{category}$ default rate in this category and $DR$ is total default rate."
   ]
  },
  {
   "cell_type": "code",
   "execution_count": 15,
   "metadata": {},
   "outputs": [],
   "source": [
    "def mean_target_encoding(dt, predictor, target, alpha = 0.01):\n",
    "    total_cnt = len(dt)\n",
    "    total_dr = np.mean(dt[target])\n",
    "    dt_grp = dt.groupby(predictor).agg(\n",
    "        categ_dr = (target, 'mean'),\n",
    "        categ_cnt = (target, len)\n",
    "    )\n",
    "    \n",
    "    dt_grp['categ_freq'] = dt_grp['categ_cnt'] / total_cnt\n",
    "    dt_grp['categ_encoding'] = (dt_grp['categ_freq'] * dt_grp['categ_dr'] + alpha * total_dr) / (dt_grp['categ_freq'] + alpha)\n",
    "    \n",
    "    return dt_grp[['categ_encoding']].to_dict()['categ_encoding']"
   ]
  },
  {
   "cell_type": "code",
   "execution_count": 16,
   "metadata": {
    "ExecuteTime": {
     "end_time": "2021-12-04T18:33:07.867552Z",
     "start_time": "2021-12-04T18:33:04.603506Z"
    }
   },
   "outputs": [
    {
     "data": {
      "application/vnd.jupyter.widget-view+json": {
       "model_id": "466cd7223d8141b98466255fe42e34aa",
       "version_major": 2,
       "version_minor": 0
      },
      "text/plain": [
       "  0%|          | 0/16 [00:00<?, ?it/s]"
      ]
     },
     "metadata": {},
     "output_type": "display_data"
    }
   ],
   "source": [
    "total_dr = np.mean(data[train_mask][col_target])\n",
    "\n",
    "# encode categorical predictors\n",
    "for pred in tqdm(cols_pred_cat):\n",
    "    if len(data[pred].unique()) < 0:\n",
    "        dummies = pd.get_dummies(\n",
    "            data[pred], \n",
    "            prefix = pred,\n",
    "            prefix_sep = '_',\n",
    "            dummy_na = True if data[pred].isnull().sum() > 0 else False,\n",
    "            drop_first = False\n",
    "        )\n",
    "        \n",
    "        for d in dummies.columns:\n",
    "            if d in data.columns:\n",
    "                del data[d]\n",
    "                \n",
    "        data = data.join(dummies)\n",
    "        \n",
    "        for col in dummies.columns:\n",
    "            if col not in cols_pred:\n",
    "                cols_pred.append(col)\n",
    "        \n",
    "        if pred in cols_pred:\n",
    "            cols_pred.remove(pred)\n",
    "    else:\n",
    "        new_vals = mean_target_encoding(\n",
    "            dt=data[train_mask], \n",
    "            predictor=pred, \n",
    "            target=col_target\n",
    "        )\n",
    "\n",
    "        additional_values = set(data[data[pred].notnull()][pred].unique()) - set(new_vals.keys())\n",
    "        for p in additional_values:\n",
    "            new_vals[p] = total_dr\n",
    "\n",
    "        data['MTE_' + pred] = data[pred].map(new_vals)\n",
    "        \n",
    "        if 'MTE_' + pred not in cols_pred:\n",
    "            cols_pred.append('MTE_' + pred)\n",
    "        \n",
    "        if pred in cols_pred:\n",
    "            cols_pred.remove(pred)"
   ]
  },
  {
   "cell_type": "code",
   "execution_count": null,
   "metadata": {},
   "outputs": [],
   "source": [
    "cols_pred"
   ]
  },
  {
   "cell_type": "markdown",
   "metadata": {
    "ExecuteTime": {
     "end_time": "2020-12-02T07:55:49.334779Z",
     "start_time": "2020-12-02T07:55:49.304770Z"
    }
   },
   "source": [
    "# XGBoost model\n",
    "- XGBoost model is provided in package `xgboost`\n",
    "- https://xgboost.readthedocs.io/en/stable/"
   ]
  },
  {
   "cell_type": "markdown",
   "metadata": {},
   "source": [
    "## First XGBoost model\n",
    "- **early stopping:** Model is trained on training sample and we control model performance on evaluation sample (can be valid or test). If the model does not improve after *n* iterations, we stop the training.\n",
    "- Data must be passed to training as *xgb.DMatrix* data type.\n",
    "- Parameter *dtrain* defines data set to be used for training. Parameter evals is used for passing evaluation data sets - eval_metric will be evaluated on those sets in each iteration. Last data set from evals is used for early stopping."
   ]
  },
  {
   "cell_type": "code",
   "execution_count": 17,
   "metadata": {
    "ExecuteTime": {
     "end_time": "2021-12-04T18:33:14.723939Z",
     "start_time": "2021-12-04T18:33:09.854398Z"
    }
   },
   "outputs": [
    {
     "name": "stdout",
     "output_type": "stream",
     "text": [
      "[0]\ttrain-auc:0.70168\ttest-auc:0.68210\tvalid-auc:0.69549\n",
      "[1]\ttrain-auc:0.72069\ttest-auc:0.69062\tvalid-auc:0.71143\n",
      "[2]\ttrain-auc:0.72766\ttest-auc:0.69807\tvalid-auc:0.71985\n",
      "[3]\ttrain-auc:0.73470\ttest-auc:0.70518\tvalid-auc:0.72487\n",
      "[4]\ttrain-auc:0.74030\ttest-auc:0.71063\tvalid-auc:0.72654\n",
      "[5]\ttrain-auc:0.74478\ttest-auc:0.71502\tvalid-auc:0.73006\n",
      "[6]\ttrain-auc:0.74860\ttest-auc:0.71631\tvalid-auc:0.73345\n",
      "[7]\ttrain-auc:0.75453\ttest-auc:0.71829\tvalid-auc:0.73586\n",
      "[8]\ttrain-auc:0.75997\ttest-auc:0.72193\tvalid-auc:0.73957\n",
      "[9]\ttrain-auc:0.76326\ttest-auc:0.72419\tvalid-auc:0.74302\n",
      "[10]\ttrain-auc:0.76711\ttest-auc:0.72605\tvalid-auc:0.74339\n",
      "[11]\ttrain-auc:0.77048\ttest-auc:0.72828\tvalid-auc:0.74525\n",
      "[12]\ttrain-auc:0.77218\ttest-auc:0.72856\tvalid-auc:0.74446\n",
      "[13]\ttrain-auc:0.77457\ttest-auc:0.72887\tvalid-auc:0.74471\n",
      "[14]\ttrain-auc:0.77756\ttest-auc:0.73002\tvalid-auc:0.74572\n",
      "[15]\ttrain-auc:0.77954\ttest-auc:0.72973\tvalid-auc:0.74643\n",
      "[16]\ttrain-auc:0.78255\ttest-auc:0.73080\tvalid-auc:0.74812\n",
      "[17]\ttrain-auc:0.78418\ttest-auc:0.73069\tvalid-auc:0.74855\n",
      "[18]\ttrain-auc:0.78607\ttest-auc:0.73085\tvalid-auc:0.74924\n",
      "[19]\ttrain-auc:0.78917\ttest-auc:0.73101\tvalid-auc:0.74920\n",
      "[20]\ttrain-auc:0.79141\ttest-auc:0.73047\tvalid-auc:0.74972\n",
      "[21]\ttrain-auc:0.79340\ttest-auc:0.73040\tvalid-auc:0.75011\n",
      "[22]\ttrain-auc:0.79563\ttest-auc:0.73061\tvalid-auc:0.75123\n",
      "[23]\ttrain-auc:0.79702\ttest-auc:0.73044\tvalid-auc:0.75115\n",
      "[24]\ttrain-auc:0.79814\ttest-auc:0.73044\tvalid-auc:0.75107\n",
      "[25]\ttrain-auc:0.80001\ttest-auc:0.73047\tvalid-auc:0.75213\n",
      "[26]\ttrain-auc:0.80158\ttest-auc:0.73039\tvalid-auc:0.75227\n",
      "[27]\ttrain-auc:0.80362\ttest-auc:0.73033\tvalid-auc:0.75211\n",
      "[28]\ttrain-auc:0.80402\ttest-auc:0.72974\tvalid-auc:0.75214\n",
      "[29]\ttrain-auc:0.80461\ttest-auc:0.72969\tvalid-auc:0.75221\n",
      "[30]\ttrain-auc:0.80603\ttest-auc:0.72971\tvalid-auc:0.75272\n",
      "[31]\ttrain-auc:0.80795\ttest-auc:0.72921\tvalid-auc:0.75369\n",
      "[32]\ttrain-auc:0.80895\ttest-auc:0.72896\tvalid-auc:0.75351\n",
      "[33]\ttrain-auc:0.81027\ttest-auc:0.72946\tvalid-auc:0.75389\n",
      "[34]\ttrain-auc:0.81096\ttest-auc:0.72930\tvalid-auc:0.75402\n",
      "[35]\ttrain-auc:0.81168\ttest-auc:0.73006\tvalid-auc:0.75409\n",
      "[36]\ttrain-auc:0.81334\ttest-auc:0.72994\tvalid-auc:0.75338\n",
      "[37]\ttrain-auc:0.81532\ttest-auc:0.72934\tvalid-auc:0.75386\n",
      "[38]\ttrain-auc:0.81606\ttest-auc:0.72942\tvalid-auc:0.75343\n",
      "[39]\ttrain-auc:0.81680\ttest-auc:0.72912\tvalid-auc:0.75332\n",
      "[40]\ttrain-auc:0.81775\ttest-auc:0.72922\tvalid-auc:0.75307\n",
      "[41]\ttrain-auc:0.81947\ttest-auc:0.72963\tvalid-auc:0.75226\n",
      "[42]\ttrain-auc:0.82104\ttest-auc:0.73009\tvalid-auc:0.75236\n",
      "[43]\ttrain-auc:0.82304\ttest-auc:0.72970\tvalid-auc:0.75243\n",
      "[44]\ttrain-auc:0.82425\ttest-auc:0.72896\tvalid-auc:0.75239\n"
     ]
    }
   ],
   "source": [
    "# set best parameters to be used in XGBoost\n",
    "params = {    \n",
    "    'max_depth': 4,\n",
    "    \n",
    "    'objective': 'binary:logistic',\n",
    "    'eval_metric': ['auc'],\n",
    "}\n",
    "\n",
    "evals_result = {}\n",
    "booster = xgb.train(\n",
    "    params = params,\n",
    "    dtrain = xgb.DMatrix(data[train_mask][cols_pred], data[train_mask][col_target]),\n",
    "    num_boost_round = 1000,\n",
    "    evals = (\n",
    "        (xgb.DMatrix(data[train_mask][cols_pred], data[train_mask][col_target]), 'train'),\n",
    "        (xgb.DMatrix(data[test_mask][cols_pred], data[test_mask][col_target]), 'test'),\n",
    "        (xgb.DMatrix(data[valid_mask][cols_pred], data[valid_mask][col_target]), 'valid'),        \n",
    "    ),\n",
    "    evals_result = evals_result,\n",
    "    early_stopping_rounds = 10\n",
    ")\n"
   ]
  },
  {
   "cell_type": "code",
   "execution_count": 19,
   "metadata": {
    "ExecuteTime": {
     "end_time": "2021-12-04T18:33:15.781566Z",
     "start_time": "2021-12-04T18:33:15.261322Z"
    }
   },
   "outputs": [
    {
     "data": {
      "image/png": "[encoded data removed]",
      "text/plain": [
       "<Figure size 600x500 with 1 Axes>"
      ]
     },
     "metadata": {},
     "output_type": "display_data"
    }
   ],
   "source": [
    "metric = 'auc'\n",
    "\n",
    "fig = plt.figure(figsize=(6,5))\n",
    "ax = plt.subplot(1,1,1)\n",
    "total_iteration_count = len(evals_result[list(evals_result.keys())[0]][metric])\n",
    "for sample, vals in evals_result.items():\n",
    "    ax.plot(\n",
    "        range(1, total_iteration_count + 1), \n",
    "        vals[metric],\n",
    "        label=sample\n",
    "    )\n",
    "\n",
    "best_score = booster.best_score\n",
    "#best_iteration = booster.best_iteration+1\n",
    "best_iteration = 36\n",
    "ax.plot([1, total_iteration_count], [best_score, best_score], color='black', ls='--', lw=1)\n",
    "ax.scatter([best_iteration], [best_score], color = 'black')\n",
    "ax.annotate(\n",
    "    '{:d}; {:0.3f}'.format(best_iteration, best_score), \n",
    "    xy = (best_iteration, best_score), \n",
    "    xytext = (best_iteration,best_score+0.005),\n",
    ")\n",
    "ax.set_xlabel('iteration', color='gray')\n",
    "ax.set_ylabel(metric, color='gray')\n",
    "ax.legend(loc='best')\n",
    "ax.set_title(f'Model training - {metric} curves')\n",
    "\n",
    "ax.spines['top'].set_visible(False)\n",
    "ax.spines['right'].set_visible(False)\n",
    "ax.spines['left'].set_color('gray')\n",
    "ax.spines['bottom'].set_color('gray')\n",
    "ax.tick_params(axis='y', colors='gray')\n",
    "ax.tick_params(axis='x', colors='gray')\n",
    "\n",
    "# plt.savefig('test.svg', format='svg')\n",
    "# plt.close()"
   ]
  },
  {
   "cell_type": "code",
   "execution_count": 26,
   "metadata": {
    "ExecuteTime": {
     "end_time": "2021-12-04T18:33:16.553565Z",
     "start_time": "2021-12-04T18:33:16.289569Z"
    }
   },
   "outputs": [
    {
     "data": {
      "image/png": "[encoded data removed]",
      "text/plain": [
       "<Figure size 600x500 with 1 Axes>"
      ]
     },
     "metadata": {},
     "output_type": "display_data"
    }
   ],
   "source": [
    "importance_type = 'total_gain'\n",
    "\n",
    "predictor_strength = sorted([(k, v) for k,v in booster.get_score(importance_type = importance_type).items()], key = lambda x: x[1], reverse = True)\n",
    "predictor_strength = pd.DataFrame(predictor_strength, columns = ['predictor', 'strength'])\n",
    "\n",
    "fig = plt.figure(figsize=(6,5))\n",
    "\n",
    "n_strongest = 20\n",
    "plt.barh(range(n_strongest, 0, -1), predictor_strength['strength'].iloc[0:20])\n",
    "plt.yticks(range(n_strongest, 0, -1), predictor_strength['predictor'].iloc[0:20])\n",
    "plt.xlabel(importance_type)\n",
    "plt.title('Predictor importance')\n",
    "\n",
    "ax = plt.gca()\n",
    "ax.spines['right'].set_visible(False)\n",
    "ax.spines['top'].set_visible(False)\n",
    "ax.spines['left'].set_color('gray')\n",
    "ax.spines['bottom'].set_color('gray')\n",
    "ax.tick_params(axis='y', colors='gray')\n",
    "ax.tick_params(axis='x', colors='gray')\n",
    "\n",
    "plt.show()"
   ]
  },
  {
   "cell_type": "markdown",
   "metadata": {},
   "source": [
    "<span style=\"color:red\">**TO DO:** change the hyperparameters and observe performance and training</span>"
   ]
  },
  {
   "cell_type": "markdown",
   "metadata": {},
   "source": [
    "## XGBoost in sklearn"
   ]
  },
  {
   "cell_type": "code",
   "execution_count": 22,
   "metadata": {
    "ExecuteTime": {
     "end_time": "2021-12-04T18:33:21.582361Z",
     "start_time": "2021-12-04T18:33:17.109690Z"
    },
    "scrolled": true
   },
   "outputs": [
    {
     "name": "stdout",
     "output_type": "stream",
     "text": [
      "[0]\tvalidation_0-auc:0.73120\tvalidation_1-auc:0.69253\tvalidation_2-auc:0.70443\n",
      "[1]\tvalidation_0-auc:0.75211\tvalidation_1-auc:0.70149\tvalidation_2-auc:0.71902\n",
      "[2]\tvalidation_0-auc:0.76328\tvalidation_1-auc:0.70445\tvalidation_2-auc:0.72631\n",
      "[3]\tvalidation_0-auc:0.77283\tvalidation_1-auc:0.70780\tvalidation_2-auc:0.73126\n",
      "[4]\tvalidation_0-auc:0.78162\tvalidation_1-auc:0.71231\tvalidation_2-auc:0.73557\n",
      "[5]\tvalidation_0-auc:0.79075\tvalidation_1-auc:0.71275\tvalidation_2-auc:0.73370\n",
      "[6]\tvalidation_0-auc:0.80037\tvalidation_1-auc:0.71481\tvalidation_2-auc:0.73449\n",
      "[7]\tvalidation_0-auc:0.80586\tvalidation_1-auc:0.71796\tvalidation_2-auc:0.73700\n",
      "[8]\tvalidation_0-auc:0.81279\tvalidation_1-auc:0.71922\tvalidation_2-auc:0.73812\n",
      "[9]\tvalidation_0-auc:0.81800\tvalidation_1-auc:0.71972\tvalidation_2-auc:0.73865\n",
      "[10]\tvalidation_0-auc:0.82195\tvalidation_1-auc:0.72024\tvalidation_2-auc:0.74123\n",
      "[11]\tvalidation_0-auc:0.82779\tvalidation_1-auc:0.72175\tvalidation_2-auc:0.74327\n",
      "[12]\tvalidation_0-auc:0.83117\tvalidation_1-auc:0.72183\tvalidation_2-auc:0.74472\n",
      "[13]\tvalidation_0-auc:0.83593\tvalidation_1-auc:0.72342\tvalidation_2-auc:0.74576\n",
      "[14]\tvalidation_0-auc:0.84182\tvalidation_1-auc:0.72336\tvalidation_2-auc:0.74613\n",
      "[15]\tvalidation_0-auc:0.84598\tvalidation_1-auc:0.72373\tvalidation_2-auc:0.74628\n",
      "[16]\tvalidation_0-auc:0.84823\tvalidation_1-auc:0.72439\tvalidation_2-auc:0.74571\n",
      "[17]\tvalidation_0-auc:0.85325\tvalidation_1-auc:0.72493\tvalidation_2-auc:0.74527\n",
      "[18]\tvalidation_0-auc:0.85494\tvalidation_1-auc:0.72572\tvalidation_2-auc:0.74616\n",
      "[19]\tvalidation_0-auc:0.85835\tvalidation_1-auc:0.72562\tvalidation_2-auc:0.74519\n",
      "[20]\tvalidation_0-auc:0.86047\tvalidation_1-auc:0.72714\tvalidation_2-auc:0.74612\n",
      "[21]\tvalidation_0-auc:0.86134\tvalidation_1-auc:0.72634\tvalidation_2-auc:0.74620\n",
      "[22]\tvalidation_0-auc:0.86271\tvalidation_1-auc:0.72666\tvalidation_2-auc:0.74634\n",
      "[23]\tvalidation_0-auc:0.86504\tvalidation_1-auc:0.72600\tvalidation_2-auc:0.74616\n",
      "[24]\tvalidation_0-auc:0.86703\tvalidation_1-auc:0.72619\tvalidation_2-auc:0.74564\n",
      "[25]\tvalidation_0-auc:0.87047\tvalidation_1-auc:0.72532\tvalidation_2-auc:0.74617\n",
      "[26]\tvalidation_0-auc:0.87425\tvalidation_1-auc:0.72491\tvalidation_2-auc:0.74390\n",
      "[27]\tvalidation_0-auc:0.87762\tvalidation_1-auc:0.72463\tvalidation_2-auc:0.74259\n",
      "[28]\tvalidation_0-auc:0.87951\tvalidation_1-auc:0.72418\tvalidation_2-auc:0.74130\n",
      "[29]\tvalidation_0-auc:0.88025\tvalidation_1-auc:0.72422\tvalidation_2-auc:0.74106\n",
      "[30]\tvalidation_0-auc:0.88456\tvalidation_1-auc:0.72292\tvalidation_2-auc:0.74091\n",
      "[31]\tvalidation_0-auc:0.88633\tvalidation_1-auc:0.72276\tvalidation_2-auc:0.74083\n",
      "[32]\tvalidation_0-auc:0.88690\tvalidation_1-auc:0.72271\tvalidation_2-auc:0.74080\n"
     ]
    },
    {
     "data": {
      "text/html": [
       "<style>#sk-container-id-2 {\n",
       "  /* Definition of color scheme common for light and dark mode */\n",
       "  --sklearn-color-text: black;\n",
       "  --sklearn-color-line: gray;\n",
       "  /* Definition of color scheme for unfitted estimators */\n",
       "  --sklearn-color-unfitted-level-0: #fff5e6;\n",
       "  --sklearn-color-unfitted-level-1: #f6e4d2;\n",
       "  --sklearn-color-unfitted-level-2: #ffe0b3;\n",
       "  --sklearn-color-unfitted-level-3: chocolate;\n",
       "  /* Definition of color scheme for fitted estimators */\n",
       "  --sklearn-color-fitted-level-0: #f0f8ff;\n",
       "  --sklearn-color-fitted-level-1: #d4ebff;\n",
       "  --sklearn-color-fitted-level-2: #b3dbfd;\n",
       "  --sklearn-color-fitted-level-3: cornflowerblue;\n",
       "\n",
       "  /* Specific color for light theme */\n",
       "  --sklearn-color-text-on-default-background: var(--sg-text-color, var(--theme-code-foreground, var(--jp-content-font-color1, black)));\n",
       "  --sklearn-color-background: var(--sg-background-color, var(--theme-background, var(--jp-layout-color0, white)));\n",
       "  --sklearn-color-border-box: var(--sg-text-color, var(--theme-code-foreground, var(--jp-content-font-color1, black)));\n",
       "  --sklearn-color-icon: #696969;\n",
       "\n",
       "  @media (prefers-color-scheme: dark) {\n",
       "    /* Redefinition of color scheme for dark theme */\n",
       "    --sklearn-color-text-on-default-background: var(--sg-text-color, var(--theme-code-foreground, var(--jp-content-font-color1, white)));\n",
       "    --sklearn-color-background: var(--sg-background-color, var(--theme-background, var(--jp-layout-color0, #111)));\n",
       "    --sklearn-color-border-box: var(--sg-text-color, var(--theme-code-foreground, var(--jp-content-font-color1, white)));\n",
       "    --sklearn-color-icon: #878787;\n",
       "  }\n",
       "}\n",
       "\n",
       "#sk-container-id-2 {\n",
       "  color: var(--sklearn-color-text);\n",
       "}\n",
       "\n",
       "#sk-container-id-2 pre {\n",
       "  padding: 0;\n",
       "}\n",
       "\n",
       "#sk-container-id-2 input.sk-hidden--visually {\n",
       "  border: 0;\n",
       "  clip: rect(1px 1px 1px 1px);\n",
       "  clip: rect(1px, 1px, 1px, 1px);\n",
       "  height: 1px;\n",
       "  margin: -1px;\n",
       "  overflow: hidden;\n",
       "  padding: 0;\n",
       "  position: absolute;\n",
       "  width: 1px;\n",
       "}\n",
       "\n",
       "#sk-container-id-2 div.sk-dashed-wrapped {\n",
       "  border: 1px dashed var(--sklearn-color-line);\n",
       "  margin: 0 0.4em 0.5em 0.4em;\n",
       "  box-sizing: border-box;\n",
       "  padding-bottom: 0.4em;\n",
       "  background-color: var(--sklearn-color-background);\n",
       "}\n",
       "\n",
       "#sk-container-id-2 div.sk-container {\n",
       "  /* jupyter's `normalize.less` sets `[hidden] { display: none; }`\n",
       "     but bootstrap.min.css set `[hidden] { display: none !important; }`\n",
       "     so we also need the `!important` here to be able to override the\n",
       "     default hidden behavior on the sphinx rendered scikit-learn.org.\n",
       "     See: https://github.com/scikit-learn/scikit-learn/issues/21755 */\n",
       "  display: inline-block !important;\n",
       "  position: relative;\n",
       "}\n",
       "\n",
       "#sk-container-id-2 div.sk-text-repr-fallback {\n",
       "  display: none;\n",
       "}\n",
       "\n",
       "div.sk-parallel-item,\n",
       "div.sk-serial,\n",
       "div.sk-item {\n",
       "  /* draw centered vertical line to link estimators */\n",
       "  background-image: linear-gradient(var(--sklearn-color-text-on-default-background), var(--sklearn-color-text-on-default-background));\n",
       "  background-size: 2px 100%;\n",
       "  background-repeat: no-repeat;\n",
       "  background-position: center center;\n",
       "}\n",
       "\n",
       "/* Parallel-specific style estimator block */\n",
       "\n",
       "#sk-container-id-2 div.sk-parallel-item::after {\n",
       "  content: \"\";\n",
       "  width: 100%;\n",
       "  border-bottom: 2px solid var(--sklearn-color-text-on-default-background);\n",
       "  flex-grow: 1;\n",
       "}\n",
       "\n",
       "#sk-container-id-2 div.sk-parallel {\n",
       "  display: flex;\n",
       "  align-items: stretch;\n",
       "  justify-content: center;\n",
       "  background-color: var(--sklearn-color-background);\n",
       "  position: relative;\n",
       "}\n",
       "\n",
       "#sk-container-id-2 div.sk-parallel-item {\n",
       "  display: flex;\n",
       "  flex-direction: column;\n",
       "}\n",
       "\n",
       "#sk-container-id-2 div.sk-parallel-item:first-child::after {\n",
       "  align-self: flex-end;\n",
       "  width: 50%;\n",
       "}\n",
       "\n",
       "#sk-container-id-2 div.sk-parallel-item:last-child::after {\n",
       "  align-self: flex-start;\n",
       "  width: 50%;\n",
       "}\n",
       "\n",
       "#sk-container-id-2 div.sk-parallel-item:only-child::after {\n",
       "  width: 0;\n",
       "}\n",
       "\n",
       "/* Serial-specific style estimator block */\n",
       "\n",
       "#sk-container-id-2 div.sk-serial {\n",
       "  display: flex;\n",
       "  flex-direction: column;\n",
       "  align-items: center;\n",
       "  background-color: var(--sklearn-color-background);\n",
       "  padding-right: 1em;\n",
       "  padding-left: 1em;\n",
       "}\n",
       "\n",
       "\n",
       "/* Toggleable style: style used for estimator/Pipeline/ColumnTransformer box that is\n",
       "clickable and can be expanded/collapsed.\n",
       "- Pipeline and ColumnTransformer use this feature and define the default style\n",
       "- Estimators will overwrite some part of the style using the `sk-estimator` class\n",
       "*/\n",
       "\n",
       "/* Pipeline and ColumnTransformer style (default) */\n",
       "\n",
       "#sk-container-id-2 div.sk-toggleable {\n",
       "  /* Default theme specific background. It is overwritten whether we have a\n",
       "  specific estimator or a Pipeline/ColumnTransformer */\n",
       "  background-color: var(--sklearn-color-background);\n",
       "}\n",
       "\n",
       "/* Toggleable label */\n",
       "#sk-container-id-2 label.sk-toggleable__label {\n",
       "  cursor: pointer;\n",
       "  display: block;\n",
       "  width: 100%;\n",
       "  margin-bottom: 0;\n",
       "  padding: 0.5em;\n",
       "  box-sizing: border-box;\n",
       "  text-align: center;\n",
       "}\n",
       "\n",
       "#sk-container-id-2 label.sk-toggleable__label-arrow:before {\n",
       "  /* Arrow on the left of the label */\n",
       "  content: \"▸\";\n",
       "  float: left;\n",
       "  margin-right: 0.25em;\n",
       "  color: var(--sklearn-color-icon);\n",
       "}\n",
       "\n",
       "#sk-container-id-2 label.sk-toggleable__label-arrow:hover:before {\n",
       "  color: var(--sklearn-color-text);\n",
       "}\n",
       "\n",
       "/* Toggleable content - dropdown */\n",
       "\n",
       "#sk-container-id-2 div.sk-toggleable__content {\n",
       "  max-height: 0;\n",
       "  max-width: 0;\n",
       "  overflow: hidden;\n",
       "  text-align: left;\n",
       "  /* unfitted */\n",
       "  background-color: var(--sklearn-color-unfitted-level-0);\n",
       "}\n",
       "\n",
       "#sk-container-id-2 div.sk-toggleable__content.fitted {\n",
       "  /* fitted */\n",
       "  background-color: var(--sklearn-color-fitted-level-0);\n",
       "}\n",
       "\n",
       "#sk-container-id-2 div.sk-toggleable__content pre {\n",
       "  margin: 0.2em;\n",
       "  border-radius: 0.25em;\n",
       "  color: var(--sklearn-color-text);\n",
       "  /* unfitted */\n",
       "  background-color: var(--sklearn-color-unfitted-level-0);\n",
       "}\n",
       "\n",
       "#sk-container-id-2 div.sk-toggleable__content.fitted pre {\n",
       "  /* unfitted */\n",
       "  background-color: var(--sklearn-color-fitted-level-0);\n",
       "}\n",
       "\n",
       "#sk-container-id-2 input.sk-toggleable__control:checked~div.sk-toggleable__content {\n",
       "  /* Expand drop-down */\n",
       "  max-height: 200px;\n",
       "  max-width: 100%;\n",
       "  overflow: auto;\n",
       "}\n",
       "\n",
       "#sk-container-id-2 input.sk-toggleable__control:checked~label.sk-toggleable__label-arrow:before {\n",
       "  content: \"▾\";\n",
       "}\n",
       "\n",
       "/* Pipeline/ColumnTransformer-specific style */\n",
       "\n",
       "#sk-container-id-2 div.sk-label input.sk-toggleable__control:checked~label.sk-toggleable__label {\n",
       "  color: var(--sklearn-color-text);\n",
       "  background-color: var(--sklearn-color-unfitted-level-2);\n",
       "}\n",
       "\n",
       "#sk-container-id-2 div.sk-label.fitted input.sk-toggleable__control:checked~label.sk-toggleable__label {\n",
       "  background-color: var(--sklearn-color-fitted-level-2);\n",
       "}\n",
       "\n",
       "/* Estimator-specific style */\n",
       "\n",
       "/* Colorize estimator box */\n",
       "#sk-container-id-2 div.sk-estimator input.sk-toggleable__control:checked~label.sk-toggleable__label {\n",
       "  /* unfitted */\n",
       "  background-color: var(--sklearn-color-unfitted-level-2);\n",
       "}\n",
       "\n",
       "#sk-container-id-2 div.sk-estimator.fitted input.sk-toggleable__control:checked~label.sk-toggleable__label {\n",
       "  /* fitted */\n",
       "  background-color: var(--sklearn-color-fitted-level-2);\n",
       "}\n",
       "\n",
       "#sk-container-id-2 div.sk-label label.sk-toggleable__label,\n",
       "#sk-container-id-2 div.sk-label label {\n",
       "  /* The background is the default theme color */\n",
       "  color: var(--sklearn-color-text-on-default-background);\n",
       "}\n",
       "\n",
       "/* On hover, darken the color of the background */\n",
       "#sk-container-id-2 div.sk-label:hover label.sk-toggleable__label {\n",
       "  color: var(--sklearn-color-text);\n",
       "  background-color: var(--sklearn-color-unfitted-level-2);\n",
       "}\n",
       "\n",
       "/* Label box, darken color on hover, fitted */\n",
       "#sk-container-id-2 div.sk-label.fitted:hover label.sk-toggleable__label.fitted {\n",
       "  color: var(--sklearn-color-text);\n",
       "  background-color: var(--sklearn-color-fitted-level-2);\n",
       "}\n",
       "\n",
       "/* Estimator label */\n",
       "\n",
       "#sk-container-id-2 div.sk-label label {\n",
       "  font-family: monospace;\n",
       "  font-weight: bold;\n",
       "  display: inline-block;\n",
       "  line-height: 1.2em;\n",
       "}\n",
       "\n",
       "#sk-container-id-2 div.sk-label-container {\n",
       "  text-align: center;\n",
       "}\n",
       "\n",
       "/* Estimator-specific */\n",
       "#sk-container-id-2 div.sk-estimator {\n",
       "  font-family: monospace;\n",
       "  border: 1px dotted var(--sklearn-color-border-box);\n",
       "  border-radius: 0.25em;\n",
       "  box-sizing: border-box;\n",
       "  margin-bottom: 0.5em;\n",
       "  /* unfitted */\n",
       "  background-color: var(--sklearn-color-unfitted-level-0);\n",
       "}\n",
       "\n",
       "#sk-container-id-2 div.sk-estimator.fitted {\n",
       "  /* fitted */\n",
       "  background-color: var(--sklearn-color-fitted-level-0);\n",
       "}\n",
       "\n",
       "/* on hover */\n",
       "#sk-container-id-2 div.sk-estimator:hover {\n",
       "  /* unfitted */\n",
       "  background-color: var(--sklearn-color-unfitted-level-2);\n",
       "}\n",
       "\n",
       "#sk-container-id-2 div.sk-estimator.fitted:hover {\n",
       "  /* fitted */\n",
       "  background-color: var(--sklearn-color-fitted-level-2);\n",
       "}\n",
       "\n",
       "/* Specification for estimator info (e.g. \"i\" and \"?\") */\n",
       "\n",
       "/* Common style for \"i\" and \"?\" */\n",
       "\n",
       ".sk-estimator-doc-link,\n",
       "a:link.sk-estimator-doc-link,\n",
       "a:visited.sk-estimator-doc-link {\n",
       "  float: right;\n",
       "  font-size: smaller;\n",
       "  line-height: 1em;\n",
       "  font-family: monospace;\n",
       "  background-color: var(--sklearn-color-background);\n",
       "  border-radius: 1em;\n",
       "  height: 1em;\n",
       "  width: 1em;\n",
       "  text-decoration: none !important;\n",
       "  margin-left: 1ex;\n",
       "  /* unfitted */\n",
       "  border: var(--sklearn-color-unfitted-level-1) 1pt solid;\n",
       "  color: var(--sklearn-color-unfitted-level-1);\n",
       "}\n",
       "\n",
       ".sk-estimator-doc-link.fitted,\n",
       "a:link.sk-estimator-doc-link.fitted,\n",
       "a:visited.sk-estimator-doc-link.fitted {\n",
       "  /* fitted */\n",
       "  border: var(--sklearn-color-fitted-level-1) 1pt solid;\n",
       "  color: var(--sklearn-color-fitted-level-1);\n",
       "}\n",
       "\n",
       "/* On hover */\n",
       "div.sk-estimator:hover .sk-estimator-doc-link:hover,\n",
       ".sk-estimator-doc-link:hover,\n",
       "div.sk-label-container:hover .sk-estimator-doc-link:hover,\n",
       ".sk-estimator-doc-link:hover {\n",
       "  /* unfitted */\n",
       "  background-color: var(--sklearn-color-unfitted-level-3);\n",
       "  color: var(--sklearn-color-background);\n",
       "  text-decoration: none;\n",
       "}\n",
       "\n",
       "div.sk-estimator.fitted:hover .sk-estimator-doc-link.fitted:hover,\n",
       ".sk-estimator-doc-link.fitted:hover,\n",
       "div.sk-label-container:hover .sk-estimator-doc-link.fitted:hover,\n",
       ".sk-estimator-doc-link.fitted:hover {\n",
       "  /* fitted */\n",
       "  background-color: var(--sklearn-color-fitted-level-3);\n",
       "  color: var(--sklearn-color-background);\n",
       "  text-decoration: none;\n",
       "}\n",
       "\n",
       "/* Span, style for the box shown on hovering the info icon */\n",
       ".sk-estimator-doc-link span {\n",
       "  display: none;\n",
       "  z-index: 9999;\n",
       "  position: relative;\n",
       "  font-weight: normal;\n",
       "  right: .2ex;\n",
       "  padding: .5ex;\n",
       "  margin: .5ex;\n",
       "  width: min-content;\n",
       "  min-width: 20ex;\n",
       "  max-width: 50ex;\n",
       "  color: var(--sklearn-color-text);\n",
       "  box-shadow: 2pt 2pt 4pt #999;\n",
       "  /* unfitted */\n",
       "  background: var(--sklearn-color-unfitted-level-0);\n",
       "  border: .5pt solid var(--sklearn-color-unfitted-level-3);\n",
       "}\n",
       "\n",
       ".sk-estimator-doc-link.fitted span {\n",
       "  /* fitted */\n",
       "  background: var(--sklearn-color-fitted-level-0);\n",
       "  border: var(--sklearn-color-fitted-level-3);\n",
       "}\n",
       "\n",
       ".sk-estimator-doc-link:hover span {\n",
       "  display: block;\n",
       "}\n",
       "\n",
       "/* \"?\"-specific style due to the `<a>` HTML tag */\n",
       "\n",
       "#sk-container-id-2 a.estimator_doc_link {\n",
       "  float: right;\n",
       "  font-size: 1rem;\n",
       "  line-height: 1em;\n",
       "  font-family: monospace;\n",
       "  background-color: var(--sklearn-color-background);\n",
       "  border-radius: 1rem;\n",
       "  height: 1rem;\n",
       "  width: 1rem;\n",
       "  text-decoration: none;\n",
       "  /* unfitted */\n",
       "  color: var(--sklearn-color-unfitted-level-1);\n",
       "  border: var(--sklearn-color-unfitted-level-1) 1pt solid;\n",
       "}\n",
       "\n",
       "#sk-container-id-2 a.estimator_doc_link.fitted {\n",
       "  /* fitted */\n",
       "  border: var(--sklearn-color-fitted-level-1) 1pt solid;\n",
       "  color: var(--sklearn-color-fitted-level-1);\n",
       "}\n",
       "\n",
       "/* On hover */\n",
       "#sk-container-id-2 a.estimator_doc_link:hover {\n",
       "  /* unfitted */\n",
       "  background-color: var(--sklearn-color-unfitted-level-3);\n",
       "  color: var(--sklearn-color-background);\n",
       "  text-decoration: none;\n",
       "}\n",
       "\n",
       "#sk-container-id-2 a.estimator_doc_link.fitted:hover {\n",
       "  /* fitted */\n",
       "  background-color: var(--sklearn-color-fitted-level-3);\n",
       "}\n",
       "</style><div id=\"sk-container-id-2\" class=\"sk-top-container\"><div class=\"sk-text-repr-fallback\"><pre>XGBClassifier(base_score=None, booster=&#x27;gbtree&#x27;, callbacks=None,\n",
       "              colsample_bylevel=None, colsample_bynode=None,\n",
       "              colsample_bytree=None, device=None, early_stopping_rounds=10,\n",
       "              enable_categorical=False, eval_metric=&#x27;auc&#x27;, feature_types=None,\n",
       "              gamma=None, grow_policy=None, importance_type=None,\n",
       "              interaction_constraints=None, learning_rate=None, max_bin=None,\n",
       "              max_cat_threshold=None, max_cat_to_onehot=None,\n",
       "              max_delta_step=None, max_depth=None, max_leaves=None,\n",
       "              min_child_weight=None, missing=nan, monotone_constraints=None,\n",
       "              multi_strategy=None, n_estimators=None, n_jobs=None,\n",
       "              num_parallel_tree=None, random_state=12, ...)</pre><b>In a Jupyter environment, please rerun this cell to show the HTML representation or trust the notebook. <br />On GitHub, the HTML representation is unable to render, please try loading this page with nbviewer.org.</b></div><div class=\"sk-container\" hidden><div class=\"sk-item\"><div class=\"sk-estimator fitted sk-toggleable\"><input class=\"sk-toggleable__control sk-hidden--visually\" id=\"sk-estimator-id-2\" type=\"checkbox\" checked><label for=\"sk-estimator-id-2\" class=\"sk-toggleable__label fitted sk-toggleable__label-arrow fitted\">&nbsp;XGBClassifier<span class=\"sk-estimator-doc-link fitted\">i<span>Fitted</span></span></label><div class=\"sk-toggleable__content fitted\"><pre>XGBClassifier(base_score=None, booster=&#x27;gbtree&#x27;, callbacks=None,\n",
       "              colsample_bylevel=None, colsample_bynode=None,\n",
       "              colsample_bytree=None, device=None, early_stopping_rounds=10,\n",
       "              enable_categorical=False, eval_metric=&#x27;auc&#x27;, feature_types=None,\n",
       "              gamma=None, grow_policy=None, importance_type=None,\n",
       "              interaction_constraints=None, learning_rate=None, max_bin=None,\n",
       "              max_cat_threshold=None, max_cat_to_onehot=None,\n",
       "              max_delta_step=None, max_depth=None, max_leaves=None,\n",
       "              min_child_weight=None, missing=nan, monotone_constraints=None,\n",
       "              multi_strategy=None, n_estimators=None, n_jobs=None,\n",
       "              num_parallel_tree=None, random_state=12, ...)</pre></div> </div></div></div></div>"
      ],
      "text/plain": [
       "XGBClassifier(base_score=None, booster='gbtree', callbacks=None,\n",
       "              colsample_bylevel=None, colsample_bynode=None,\n",
       "              colsample_bytree=None, device=None, early_stopping_rounds=10,\n",
       "              enable_categorical=False, eval_metric='auc', feature_types=None,\n",
       "              gamma=None, grow_policy=None, importance_type=None,\n",
       "              interaction_constraints=None, learning_rate=None, max_bin=None,\n",
       "              max_cat_threshold=None, max_cat_to_onehot=None,\n",
       "              max_delta_step=None, max_depth=None, max_leaves=None,\n",
       "              min_child_weight=None, missing=nan, monotone_constraints=None,\n",
       "              multi_strategy=None, n_estimators=None, n_jobs=None,\n",
       "              num_parallel_tree=None, random_state=12, ...)"
      ]
     },
     "execution_count": 22,
     "metadata": {},
     "output_type": "execute_result"
    }
   ],
   "source": [
    "booster_sklearn = xgb.XGBClassifier(\n",
    "    booster='gbtree', #which booster to use\n",
    "    objective='binary:logistic', #specify the learning task (objective function)\n",
    "    random_state=12, #random seed\n",
    "    verbosity=1, #amount of info in printing\n",
    "    eval_metric='auc',\n",
    "    use_label_encoder=False,\n",
    "    early_stopping_rounds=10,#acttivates early stopping\n",
    ")\n",
    "\n",
    "booster_sklearn.fit(\n",
    "    data[train_mask][cols_pred].values, \n",
    "    data[train_mask][col_target].astype(int).values,\n",
    "    eval_set=[\n",
    "        (data[train_mask][cols_pred].values, data[train_mask][col_target].values),\n",
    "        (data[test_mask][cols_pred].values, data[test_mask][col_target].values),\n",
    "        (data[valid_mask][cols_pred].values, data[valid_mask][col_target].values),\n",
    "    ],\n",
    "    verbose=True,\n",
    ")"
   ]
  },
  {
   "cell_type": "markdown",
   "metadata": {},
   "source": [
    "## Final model\n",
    "Before fitting final model, selection of optimal predictors might be considered. A model with similar performance can be fitted using *n* strongest predictors or using all available predictors. Sometime implementation of the predictors into the production might take some time and therefore you prefer to have \"reasonable\" number of predictors in your model. On the contrary, having larger number of predictors might bring better robustness - if one of the predictors would broke, the impact for the model would be lower.\n",
    "\n",
    "For selection of optimal predictors, similar approach as forward (or backward) process can be used."
   ]
  },
  {
   "cell_type": "markdown",
   "metadata": {},
   "source": [
    "### Cross validation score"
   ]
  },
  {
   "cell_type": "code",
   "execution_count": 23,
   "metadata": {
    "ExecuteTime": {
     "end_time": "2021-12-04T18:37:55.425356Z",
     "start_time": "2021-12-04T18:37:37.863239Z"
    },
    "scrolled": true
   },
   "outputs": [
    {
     "name": "stdout",
     "output_type": "stream",
     "text": [
      "[0]\ttrain-auc:0.62299\ttest-auc:0.61155\n",
      "[1]\ttrain-auc:0.71242\ttest-auc:0.69761\n",
      "[2]\ttrain-auc:0.72132\ttest-auc:0.70633\n",
      "[3]\ttrain-auc:0.72428\ttest-auc:0.70864\n",
      "[4]\ttrain-auc:0.72612\ttest-auc:0.70988\n",
      "[5]\ttrain-auc:0.72644\ttest-auc:0.71149\n",
      "[6]\ttrain-auc:0.73185\ttest-auc:0.71443\n",
      "[7]\ttrain-auc:0.73382\ttest-auc:0.71749\n",
      "[8]\ttrain-auc:0.73393\ttest-auc:0.71780\n",
      "[9]\ttrain-auc:0.73471\ttest-auc:0.71713\n",
      "[10]\ttrain-auc:0.73467\ttest-auc:0.71709\n",
      "[11]\ttrain-auc:0.73583\ttest-auc:0.71834\n",
      "[12]\ttrain-auc:0.73582\ttest-auc:0.71887\n",
      "[13]\ttrain-auc:0.73647\ttest-auc:0.71942\n",
      "[14]\ttrain-auc:0.73841\ttest-auc:0.72072\n",
      "[15]\ttrain-auc:0.74109\ttest-auc:0.72250\n",
      "[16]\ttrain-auc:0.74224\ttest-auc:0.72345\n",
      "[17]\ttrain-auc:0.74266\ttest-auc:0.72364\n",
      "[18]\ttrain-auc:0.74303\ttest-auc:0.72356\n",
      "[19]\ttrain-auc:0.74402\ttest-auc:0.72428\n",
      "[20]\ttrain-auc:0.74476\ttest-auc:0.72430\n",
      "[21]\ttrain-auc:0.74562\ttest-auc:0.72500\n",
      "[22]\ttrain-auc:0.74721\ttest-auc:0.72622\n",
      "[23]\ttrain-auc:0.74808\ttest-auc:0.72696\n",
      "[24]\ttrain-auc:0.74905\ttest-auc:0.72699\n",
      "[25]\ttrain-auc:0.74987\ttest-auc:0.72673\n",
      "[26]\ttrain-auc:0.75075\ttest-auc:0.72738\n",
      "[27]\ttrain-auc:0.75196\ttest-auc:0.72849\n",
      "[28]\ttrain-auc:0.75308\ttest-auc:0.72940\n",
      "[29]\ttrain-auc:0.75406\ttest-auc:0.73037\n",
      "[30]\ttrain-auc:0.75487\ttest-auc:0.73103\n",
      "[31]\ttrain-auc:0.75575\ttest-auc:0.73175\n",
      "[32]\ttrain-auc:0.75659\ttest-auc:0.73199\n",
      "[33]\ttrain-auc:0.75811\ttest-auc:0.73254\n",
      "[34]\ttrain-auc:0.75888\ttest-auc:0.73328\n",
      "[35]\ttrain-auc:0.75955\ttest-auc:0.73347\n",
      "[36]\ttrain-auc:0.76023\ttest-auc:0.73380\n",
      "[37]\ttrain-auc:0.76109\ttest-auc:0.73417\n",
      "[38]\ttrain-auc:0.76185\ttest-auc:0.73459\n",
      "[39]\ttrain-auc:0.76304\ttest-auc:0.73552\n",
      "[40]\ttrain-auc:0.76362\ttest-auc:0.73542\n",
      "[41]\ttrain-auc:0.76384\ttest-auc:0.73539\n",
      "[42]\ttrain-auc:0.76439\ttest-auc:0.73543\n",
      "[43]\ttrain-auc:0.76508\ttest-auc:0.73582\n",
      "[44]\ttrain-auc:0.76568\ttest-auc:0.73574\n",
      "[45]\ttrain-auc:0.76678\ttest-auc:0.73610\n",
      "[46]\ttrain-auc:0.76735\ttest-auc:0.73652\n",
      "[47]\ttrain-auc:0.76826\ttest-auc:0.73672\n",
      "[48]\ttrain-auc:0.76872\ttest-auc:0.73695\n",
      "[49]\ttrain-auc:0.76967\ttest-auc:0.73711\n",
      "[50]\ttrain-auc:0.77035\ttest-auc:0.73743\n",
      "[51]\ttrain-auc:0.77089\ttest-auc:0.73775\n",
      "[52]\ttrain-auc:0.77145\ttest-auc:0.73777\n",
      "[53]\ttrain-auc:0.77174\ttest-auc:0.73804\n",
      "[54]\ttrain-auc:0.77238\ttest-auc:0.73816\n",
      "[55]\ttrain-auc:0.77280\ttest-auc:0.73848\n",
      "[56]\ttrain-auc:0.77318\ttest-auc:0.73848\n",
      "[57]\ttrain-auc:0.77345\ttest-auc:0.73831\n",
      "[58]\ttrain-auc:0.77399\ttest-auc:0.73849\n",
      "[59]\ttrain-auc:0.77448\ttest-auc:0.73860\n",
      "[60]\ttrain-auc:0.77520\ttest-auc:0.73890\n",
      "[61]\ttrain-auc:0.77578\ttest-auc:0.73887\n",
      "[62]\ttrain-auc:0.77655\ttest-auc:0.73899\n",
      "[63]\ttrain-auc:0.77724\ttest-auc:0.73932\n",
      "[64]\ttrain-auc:0.77756\ttest-auc:0.73946\n",
      "[65]\ttrain-auc:0.77834\ttest-auc:0.73944\n",
      "[66]\ttrain-auc:0.77899\ttest-auc:0.73969\n",
      "[67]\ttrain-auc:0.77969\ttest-auc:0.73971\n",
      "[68]\ttrain-auc:0.78023\ttest-auc:0.74005\n",
      "[69]\ttrain-auc:0.78064\ttest-auc:0.74042\n",
      "[70]\ttrain-auc:0.78116\ttest-auc:0.74049\n",
      "[71]\ttrain-auc:0.78170\ttest-auc:0.74032\n",
      "[72]\ttrain-auc:0.78195\ttest-auc:0.74039\n",
      "[73]\ttrain-auc:0.78276\ttest-auc:0.74020\n",
      "[74]\ttrain-auc:0.78321\ttest-auc:0.74026\n",
      "[75]\ttrain-auc:0.78388\ttest-auc:0.74031\n",
      "[76]\ttrain-auc:0.78427\ttest-auc:0.74036\n",
      "[77]\ttrain-auc:0.78463\ttest-auc:0.74035\n",
      "[78]\ttrain-auc:0.78506\ttest-auc:0.74061\n",
      "[79]\ttrain-auc:0.78566\ttest-auc:0.74066\n",
      "[80]\ttrain-auc:0.78586\ttest-auc:0.74066\n",
      "[81]\ttrain-auc:0.78630\ttest-auc:0.74060\n",
      "[82]\ttrain-auc:0.78677\ttest-auc:0.74071\n",
      "[83]\ttrain-auc:0.78717\ttest-auc:0.74074\n",
      "[84]\ttrain-auc:0.78748\ttest-auc:0.74070\n",
      "[85]\ttrain-auc:0.78796\ttest-auc:0.74086\n",
      "[86]\ttrain-auc:0.78826\ttest-auc:0.74092\n",
      "[87]\ttrain-auc:0.78868\ttest-auc:0.74085\n",
      "[88]\ttrain-auc:0.78937\ttest-auc:0.74079\n",
      "[89]\ttrain-auc:0.78974\ttest-auc:0.74077\n",
      "[90]\ttrain-auc:0.79029\ttest-auc:0.74109\n",
      "[91]\ttrain-auc:0.79083\ttest-auc:0.74123\n",
      "[92]\ttrain-auc:0.79132\ttest-auc:0.74108\n",
      "[93]\ttrain-auc:0.79162\ttest-auc:0.74120\n",
      "[94]\ttrain-auc:0.79177\ttest-auc:0.74122\n",
      "[95]\ttrain-auc:0.79189\ttest-auc:0.74118\n",
      "[96]\ttrain-auc:0.79208\ttest-auc:0.74124\n",
      "[97]\ttrain-auc:0.79259\ttest-auc:0.74119\n",
      "[98]\ttrain-auc:0.79275\ttest-auc:0.74126\n",
      "[99]\ttrain-auc:0.79313\ttest-auc:0.74121\n",
      "[100]\ttrain-auc:0.79362\ttest-auc:0.74128\n",
      "[101]\ttrain-auc:0.79402\ttest-auc:0.74140\n",
      "[102]\ttrain-auc:0.79448\ttest-auc:0.74149\n",
      "[103]\ttrain-auc:0.79505\ttest-auc:0.74164\n",
      "[104]\ttrain-auc:0.79552\ttest-auc:0.74159\n",
      "[105]\ttrain-auc:0.79592\ttest-auc:0.74156\n",
      "[106]\ttrain-auc:0.79616\ttest-auc:0.74178\n",
      "[107]\ttrain-auc:0.79637\ttest-auc:0.74182\n",
      "[108]\ttrain-auc:0.79691\ttest-auc:0.74178\n",
      "[109]\ttrain-auc:0.79719\ttest-auc:0.74173\n",
      "[110]\ttrain-auc:0.79770\ttest-auc:0.74169\n",
      "[111]\ttrain-auc:0.79814\ttest-auc:0.74167\n",
      "[112]\ttrain-auc:0.79849\ttest-auc:0.74168\n",
      "[113]\ttrain-auc:0.79895\ttest-auc:0.74152\n",
      "[114]\ttrain-auc:0.79928\ttest-auc:0.74149\n",
      "[115]\ttrain-auc:0.79949\ttest-auc:0.74147\n",
      "[116]\ttrain-auc:0.79971\ttest-auc:0.74140\n",
      "[117]\ttrain-auc:0.79995\ttest-auc:0.74143\n",
      "[0]\ttrain-auc:0.62976\ttest-auc:0.61519\n",
      "[1]\ttrain-auc:0.71522\ttest-auc:0.69689\n",
      "[2]\ttrain-auc:0.72082\ttest-auc:0.70067\n",
      "[3]\ttrain-auc:0.72296\ttest-auc:0.70475\n",
      "[4]\ttrain-auc:0.72369\ttest-auc:0.70424\n",
      "[5]\ttrain-auc:0.72545\ttest-auc:0.70628\n",
      "[6]\ttrain-auc:0.72944\ttest-auc:0.71032\n",
      "[7]\ttrain-auc:0.73324\ttest-auc:0.71410\n",
      "[8]\ttrain-auc:0.73462\ttest-auc:0.71614\n",
      "[9]\ttrain-auc:0.73592\ttest-auc:0.71881\n",
      "[10]\ttrain-auc:0.73656\ttest-auc:0.71917\n",
      "[11]\ttrain-auc:0.73630\ttest-auc:0.71882\n",
      "[12]\ttrain-auc:0.73805\ttest-auc:0.71876\n",
      "[13]\ttrain-auc:0.73772\ttest-auc:0.71902\n",
      "[14]\ttrain-auc:0.73840\ttest-auc:0.71993\n",
      "[15]\ttrain-auc:0.73940\ttest-auc:0.72088\n",
      "[16]\ttrain-auc:0.73962\ttest-auc:0.72116\n",
      "[17]\ttrain-auc:0.74020\ttest-auc:0.72170\n",
      "[18]\ttrain-auc:0.74089\ttest-auc:0.72224\n",
      "[19]\ttrain-auc:0.74223\ttest-auc:0.72315\n",
      "[20]\ttrain-auc:0.74318\ttest-auc:0.72386\n",
      "[21]\ttrain-auc:0.74388\ttest-auc:0.72431\n",
      "[22]\ttrain-auc:0.74494\ttest-auc:0.72541\n",
      "[23]\ttrain-auc:0.74578\ttest-auc:0.72606\n",
      "[24]\ttrain-auc:0.74600\ttest-auc:0.72595\n",
      "[25]\ttrain-auc:0.74651\ttest-auc:0.72616\n",
      "[26]\ttrain-auc:0.74693\ttest-auc:0.72587\n",
      "[27]\ttrain-auc:0.74721\ttest-auc:0.72635\n",
      "[28]\ttrain-auc:0.74916\ttest-auc:0.72774\n",
      "[29]\ttrain-auc:0.74983\ttest-auc:0.72788\n",
      "[30]\ttrain-auc:0.75103\ttest-auc:0.72900\n",
      "[31]\ttrain-auc:0.75229\ttest-auc:0.72999\n",
      "[32]\ttrain-auc:0.75335\ttest-auc:0.73102\n",
      "[33]\ttrain-auc:0.75468\ttest-auc:0.73234\n",
      "[34]\ttrain-auc:0.75561\ttest-auc:0.73328\n",
      "[35]\ttrain-auc:0.75595\ttest-auc:0.73339\n",
      "[36]\ttrain-auc:0.75660\ttest-auc:0.73380\n",
      "[37]\ttrain-auc:0.75719\ttest-auc:0.73418\n",
      "[38]\ttrain-auc:0.75802\ttest-auc:0.73456\n",
      "[39]\ttrain-auc:0.75863\ttest-auc:0.73493\n",
      "[40]\ttrain-auc:0.75944\ttest-auc:0.73542\n",
      "[41]\ttrain-auc:0.76043\ttest-auc:0.73608\n",
      "[42]\ttrain-auc:0.76073\ttest-auc:0.73604\n",
      "[43]\ttrain-auc:0.76119\ttest-auc:0.73624\n",
      "[44]\ttrain-auc:0.76223\ttest-auc:0.73695\n",
      "[45]\ttrain-auc:0.76261\ttest-auc:0.73708\n",
      "[46]\ttrain-auc:0.76322\ttest-auc:0.73771\n",
      "[47]\ttrain-auc:0.76395\ttest-auc:0.73805\n",
      "[48]\ttrain-auc:0.76433\ttest-auc:0.73844\n",
      "[49]\ttrain-auc:0.76523\ttest-auc:0.73900\n",
      "[50]\ttrain-auc:0.76575\ttest-auc:0.73926\n",
      "[51]\ttrain-auc:0.76627\ttest-auc:0.73972\n",
      "[52]\ttrain-auc:0.76698\ttest-auc:0.74009\n",
      "[53]\ttrain-auc:0.76740\ttest-auc:0.74037\n",
      "[54]\ttrain-auc:0.76804\ttest-auc:0.74049\n",
      "[55]\ttrain-auc:0.76837\ttest-auc:0.74058\n",
      "[56]\ttrain-auc:0.76877\ttest-auc:0.74061\n",
      "[57]\ttrain-auc:0.76913\ttest-auc:0.74094\n",
      "[58]\ttrain-auc:0.76945\ttest-auc:0.74108\n",
      "[59]\ttrain-auc:0.76998\ttest-auc:0.74121\n",
      "[60]\ttrain-auc:0.77046\ttest-auc:0.74134\n",
      "[61]\ttrain-auc:0.77090\ttest-auc:0.74170\n",
      "[62]\ttrain-auc:0.77114\ttest-auc:0.74199\n",
      "[63]\ttrain-auc:0.77152\ttest-auc:0.74217\n",
      "[64]\ttrain-auc:0.77198\ttest-auc:0.74210\n",
      "[65]\ttrain-auc:0.77256\ttest-auc:0.74192\n",
      "[66]\ttrain-auc:0.77287\ttest-auc:0.74199\n",
      "[67]\ttrain-auc:0.77329\ttest-auc:0.74231\n",
      "[68]\ttrain-auc:0.77365\ttest-auc:0.74224\n",
      "[69]\ttrain-auc:0.77422\ttest-auc:0.74227\n",
      "[70]\ttrain-auc:0.77468\ttest-auc:0.74247\n",
      "[71]\ttrain-auc:0.77528\ttest-auc:0.74261\n",
      "[72]\ttrain-auc:0.77572\ttest-auc:0.74241\n",
      "[73]\ttrain-auc:0.77602\ttest-auc:0.74243\n",
      "[74]\ttrain-auc:0.77665\ttest-auc:0.74271\n",
      "[75]\ttrain-auc:0.77694\ttest-auc:0.74282\n",
      "[76]\ttrain-auc:0.77740\ttest-auc:0.74295\n",
      "[77]\ttrain-auc:0.77781\ttest-auc:0.74320\n",
      "[78]\ttrain-auc:0.77822\ttest-auc:0.74376\n",
      "[79]\ttrain-auc:0.77849\ttest-auc:0.74373\n",
      "[80]\ttrain-auc:0.77910\ttest-auc:0.74376\n",
      "[81]\ttrain-auc:0.77945\ttest-auc:0.74373\n",
      "[82]\ttrain-auc:0.78019\ttest-auc:0.74418\n",
      "[83]\ttrain-auc:0.78039\ttest-auc:0.74421\n",
      "[84]\ttrain-auc:0.78075\ttest-auc:0.74421\n",
      "[85]\ttrain-auc:0.78112\ttest-auc:0.74400\n",
      "[86]\ttrain-auc:0.78145\ttest-auc:0.74394\n",
      "[87]\ttrain-auc:0.78209\ttest-auc:0.74396\n",
      "[88]\ttrain-auc:0.78248\ttest-auc:0.74414\n",
      "[89]\ttrain-auc:0.78270\ttest-auc:0.74420\n",
      "[90]\ttrain-auc:0.78309\ttest-auc:0.74418\n",
      "[91]\ttrain-auc:0.78360\ttest-auc:0.74407\n",
      "[92]\ttrain-auc:0.78389\ttest-auc:0.74422\n",
      "[93]\ttrain-auc:0.78436\ttest-auc:0.74427\n",
      "[94]\ttrain-auc:0.78470\ttest-auc:0.74430\n",
      "[95]\ttrain-auc:0.78497\ttest-auc:0.74426\n",
      "[96]\ttrain-auc:0.78529\ttest-auc:0.74440\n",
      "[97]\ttrain-auc:0.78563\ttest-auc:0.74432\n",
      "[98]\ttrain-auc:0.78627\ttest-auc:0.74456\n",
      "[99]\ttrain-auc:0.78654\ttest-auc:0.74463\n",
      "[100]\ttrain-auc:0.78709\ttest-auc:0.74501\n",
      "[101]\ttrain-auc:0.78757\ttest-auc:0.74506\n",
      "[102]\ttrain-auc:0.78780\ttest-auc:0.74494\n",
      "[103]\ttrain-auc:0.78828\ttest-auc:0.74502\n",
      "[104]\ttrain-auc:0.78886\ttest-auc:0.74523\n",
      "[105]\ttrain-auc:0.78901\ttest-auc:0.74523\n",
      "[106]\ttrain-auc:0.78915\ttest-auc:0.74521\n",
      "[107]\ttrain-auc:0.78932\ttest-auc:0.74529\n",
      "[108]\ttrain-auc:0.78961\ttest-auc:0.74542\n",
      "[109]\ttrain-auc:0.78995\ttest-auc:0.74520\n",
      "[110]\ttrain-auc:0.79020\ttest-auc:0.74529\n",
      "[111]\ttrain-auc:0.79066\ttest-auc:0.74541\n",
      "[112]\ttrain-auc:0.79096\ttest-auc:0.74549\n",
      "[113]\ttrain-auc:0.79142\ttest-auc:0.74570\n",
      "[114]\ttrain-auc:0.79169\ttest-auc:0.74558\n",
      "[115]\ttrain-auc:0.79207\ttest-auc:0.74555\n",
      "[116]\ttrain-auc:0.79243\ttest-auc:0.74554\n",
      "[117]\ttrain-auc:0.79272\ttest-auc:0.74549\n",
      "[118]\ttrain-auc:0.79300\ttest-auc:0.74549\n",
      "[119]\ttrain-auc:0.79375\ttest-auc:0.74540\n",
      "[120]\ttrain-auc:0.79401\ttest-auc:0.74558\n",
      "[121]\ttrain-auc:0.79422\ttest-auc:0.74560\n",
      "[122]\ttrain-auc:0.79460\ttest-auc:0.74537\n",
      "[123]\ttrain-auc:0.79495\ttest-auc:0.74544\n"
     ]
    }
   ],
   "source": [
    "params={\n",
    "    'eta': 0.1,\n",
    "    'max_depth': 3,\n",
    "    'subsample': 0.7,\n",
    "    'colsample_bytree': 0.7,\n",
    "\n",
    "    'eval_metric': 'auc',\n",
    "    'objective': 'binary:logistic' ,\n",
    "    'booster': 'gbtree',\n",
    "    'tree_method': 'exact',\n",
    "\n",
    "    'seed': 12\n",
    "}\n",
    "\n",
    "skf = StratifiedKFold(n_splits = 2, shuffle = True, random_state = 12)\n",
    "\n",
    "X = data[cols_pred].values\n",
    "y = data[col_target].values\n",
    "data['cv_score'] = -1.0\n",
    "cv_res = []\n",
    "for train_index, test_index in skf.split(X, y):\n",
    "    X_train, X_test = X[train_index], X[test_index]\n",
    "    y_train, y_test = y[train_index], y[test_index]\n",
    "\n",
    "    evals_result = {}\n",
    "    booster = xgb.train(\n",
    "        params = params,\n",
    "        dtrain = xgb.DMatrix(X_train, y_train),\n",
    "        num_boost_round = 1000,\n",
    "        evals = (\n",
    "            (xgb.DMatrix(X_train, y_train), 'train'),\n",
    "            (xgb.DMatrix(X_test, y_test), 'test'),\n",
    "        ),\n",
    "        evals_result = evals_result,\n",
    "        early_stopping_rounds = 10,\n",
    "        verbose_eval = True\n",
    "    )\n",
    "    \n",
    "    gini_train = 2 * roc_auc_score(y_train, booster.predict(xgb.DMatrix(X_train))) - 1\n",
    "    gini_test  = 2 * roc_auc_score(y_test,  booster.predict(xgb.DMatrix(X_test)))  - 1\n",
    "    best_iteration = booster.best_iteration\n",
    "    \n",
    "    cv_res += [(gini_train, gini_test, best_iteration)]\n",
    "    \n",
    "    data.iloc[test_index, list(data.columns).index('cv_score')] = list(booster.predict(xgb.DMatrix(X_test), iteration_range=(0, booster.best_iteration)))"
   ]
  },
  {
   "cell_type": "code",
   "execution_count": 24,
   "metadata": {
    "ExecuteTime": {
     "end_time": "2021-12-04T18:37:55.975440Z",
     "start_time": "2021-12-04T18:37:55.962248Z"
    }
   },
   "outputs": [
    {
     "data": {
      "text/plain": [
       "[(0.599903713278773, 0.4828592420069635, 107),\n",
       " (0.5899084863536961, 0.490873519140288, 113)]"
      ]
     },
     "execution_count": 24,
     "metadata": {},
     "output_type": "execute_result"
    }
   ],
   "source": [
    "# Performance during cross validation\n",
    "cv_res"
   ]
  },
  {
   "cell_type": "code",
   "execution_count": 25,
   "metadata": {
    "ExecuteTime": {
     "end_time": "2021-12-04T18:37:56.513472Z",
     "start_time": "2021-12-04T18:37:56.482471Z"
    }
   },
   "outputs": [
    {
     "name": "stdout",
     "output_type": "stream",
     "text": [
      "Cross validation score performance: 0.4872\n"
     ]
    }
   ],
   "source": [
    "gini_cv = 2 * roc_auc_score(data[col_target], data['cv_score']) - 1\n",
    "print(f'Cross validation score performance: {gini_cv:.4f}')"
   ]
  },
  {
   "cell_type": "code",
   "execution_count": 27,
   "metadata": {
    "ExecuteTime": {
     "end_time": "2021-12-04T18:38:09.453806Z",
     "start_time": "2021-12-04T18:37:57.013580Z"
    },
    "scrolled": true
   },
   "outputs": [
    {
     "name": "stdout",
     "output_type": "stream",
     "text": [
      "[0]\ttrain-auc:0.62183\n",
      "[1]\ttrain-auc:0.68658\n",
      "[2]\ttrain-auc:0.71522\n",
      "[3]\ttrain-auc:0.71690\n",
      "[4]\ttrain-auc:0.72012\n",
      "[5]\ttrain-auc:0.72280\n",
      "[6]\ttrain-auc:0.72185\n",
      "[7]\ttrain-auc:0.72281\n",
      "[8]\ttrain-auc:0.72515\n",
      "[9]\ttrain-auc:0.72510\n",
      "[10]\ttrain-auc:0.72455\n",
      "[11]\ttrain-auc:0.72594\n",
      "[12]\ttrain-auc:0.72600\n",
      "[13]\ttrain-auc:0.72693\n",
      "[14]\ttrain-auc:0.72842\n",
      "[15]\ttrain-auc:0.72936\n",
      "[16]\ttrain-auc:0.73070\n",
      "[17]\ttrain-auc:0.73198\n",
      "[18]\ttrain-auc:0.73311\n",
      "[19]\ttrain-auc:0.73402\n",
      "[20]\ttrain-auc:0.73591\n",
      "[21]\ttrain-auc:0.73742\n",
      "[22]\ttrain-auc:0.73787\n",
      "[23]\ttrain-auc:0.73813\n",
      "[24]\ttrain-auc:0.73878\n",
      "[25]\ttrain-auc:0.73886\n",
      "[26]\ttrain-auc:0.73919\n",
      "[27]\ttrain-auc:0.74002\n",
      "[28]\ttrain-auc:0.74074\n",
      "[29]\ttrain-auc:0.74211\n",
      "[30]\ttrain-auc:0.74276\n",
      "[31]\ttrain-auc:0.74318\n",
      "[32]\ttrain-auc:0.74493\n",
      "[33]\ttrain-auc:0.74558\n",
      "[34]\ttrain-auc:0.74592\n",
      "[35]\ttrain-auc:0.74682\n",
      "[36]\ttrain-auc:0.74765\n",
      "[37]\ttrain-auc:0.74841\n",
      "[38]\ttrain-auc:0.74968\n",
      "[39]\ttrain-auc:0.75038\n",
      "[40]\ttrain-auc:0.75117\n",
      "[41]\ttrain-auc:0.75129\n",
      "[42]\ttrain-auc:0.75184\n",
      "[43]\ttrain-auc:0.75235\n",
      "[44]\ttrain-auc:0.75300\n",
      "[45]\ttrain-auc:0.75325\n",
      "[46]\ttrain-auc:0.75402\n",
      "[47]\ttrain-auc:0.75464\n",
      "[48]\ttrain-auc:0.75529\n",
      "[49]\ttrain-auc:0.75559\n",
      "[50]\ttrain-auc:0.75602\n",
      "[51]\ttrain-auc:0.75643\n",
      "[52]\ttrain-auc:0.75694\n",
      "[53]\ttrain-auc:0.75752\n",
      "[54]\ttrain-auc:0.75783\n",
      "[55]\ttrain-auc:0.75833\n",
      "[56]\ttrain-auc:0.75881\n",
      "[57]\ttrain-auc:0.75923\n",
      "[58]\ttrain-auc:0.75981\n",
      "[59]\ttrain-auc:0.76024\n",
      "[60]\ttrain-auc:0.76066\n",
      "[61]\ttrain-auc:0.76099\n",
      "[62]\ttrain-auc:0.76136\n",
      "[63]\ttrain-auc:0.76174\n",
      "[64]\ttrain-auc:0.76203\n",
      "[65]\ttrain-auc:0.76221\n",
      "[66]\ttrain-auc:0.76257\n",
      "[67]\ttrain-auc:0.76304\n",
      "[68]\ttrain-auc:0.76343\n",
      "[69]\ttrain-auc:0.76377\n",
      "[70]\ttrain-auc:0.76404\n",
      "[71]\ttrain-auc:0.76433\n",
      "[72]\ttrain-auc:0.76459\n",
      "[73]\ttrain-auc:0.76514\n",
      "[74]\ttrain-auc:0.76561\n",
      "[75]\ttrain-auc:0.76591\n",
      "[76]\ttrain-auc:0.76615\n",
      "[77]\ttrain-auc:0.76641\n",
      "[78]\ttrain-auc:0.76684\n",
      "[79]\ttrain-auc:0.76696\n",
      "[80]\ttrain-auc:0.76729\n",
      "[81]\ttrain-auc:0.76758\n",
      "[82]\ttrain-auc:0.76782\n",
      "[83]\ttrain-auc:0.76820\n",
      "[84]\ttrain-auc:0.76843\n",
      "[85]\ttrain-auc:0.76865\n",
      "[86]\ttrain-auc:0.76892\n",
      "[87]\ttrain-auc:0.76915\n",
      "[88]\ttrain-auc:0.76952\n",
      "[89]\ttrain-auc:0.76967\n",
      "[90]\ttrain-auc:0.76994\n",
      "[91]\ttrain-auc:0.77020\n",
      "[92]\ttrain-auc:0.77045\n",
      "[93]\ttrain-auc:0.77072\n",
      "[94]\ttrain-auc:0.77105\n",
      "[95]\ttrain-auc:0.77129\n",
      "[96]\ttrain-auc:0.77146\n",
      "[97]\ttrain-auc:0.77178\n",
      "[98]\ttrain-auc:0.77195\n",
      "[99]\ttrain-auc:0.77231\n",
      "[100]\ttrain-auc:0.77260\n",
      "[101]\ttrain-auc:0.77280\n",
      "[102]\ttrain-auc:0.77301\n",
      "[103]\ttrain-auc:0.77325\n",
      "[104]\ttrain-auc:0.77349\n",
      "[105]\ttrain-auc:0.77361\n",
      "[106]\ttrain-auc:0.77375\n",
      "[107]\ttrain-auc:0.77401\n",
      "[108]\ttrain-auc:0.77422\n",
      "[109]\ttrain-auc:0.77439\n",
      "[110]\ttrain-auc:0.77448\n",
      "[111]\ttrain-auc:0.77479\n",
      "[112]\ttrain-auc:0.77504\n",
      "[113]\ttrain-auc:0.77519\n",
      "[114]\ttrain-auc:0.77536\n",
      "[115]\ttrain-auc:0.77560\n",
      "[116]\ttrain-auc:0.77585\n",
      "[117]\ttrain-auc:0.77605\n",
      "[118]\ttrain-auc:0.77626\n",
      "[119]\ttrain-auc:0.77650\n",
      "[120]\ttrain-auc:0.77674\n",
      "[121]\ttrain-auc:0.77704\n",
      "[122]\ttrain-auc:0.77724\n",
      "[123]\ttrain-auc:0.77743\n",
      "[124]\ttrain-auc:0.77757\n",
      "[125]\ttrain-auc:0.77773\n",
      "[126]\ttrain-auc:0.77800\n",
      "[127]\ttrain-auc:0.77819\n",
      "[128]\ttrain-auc:0.77843\n",
      "[129]\ttrain-auc:0.77859\n"
     ]
    }
   ],
   "source": [
    "# Final model\n",
    "params = {    \n",
    "    'eta': 0.1,\n",
    "    'max_depth': 3,\n",
    "    'subsample': 0.7,\n",
    "    'colsample_bytree': 0.7,\n",
    "\n",
    "    'eval_metric': 'auc',\n",
    "    'objective': 'binary:logistic' ,\n",
    "    'booster': 'gbtree',\n",
    "    'tree_method': 'exact',\n",
    "\n",
    "    'seed': 12\n",
    "}\n",
    "\n",
    "evals_result = {}\n",
    "booster = xgb.train(\n",
    "    params = params,\n",
    "    dtrain = xgb.DMatrix(data[cols_pred], data[col_target]),\n",
    "    evals = (\n",
    "        (xgb.DMatrix(data[cols_pred], data[col_target]), 'train'),\n",
    "    ),\n",
    "    num_boost_round = 130,\n",
    "    evals_result = evals_result\n",
    ")"
   ]
  },
  {
   "cell_type": "code",
   "execution_count": 28,
   "metadata": {
    "ExecuteTime": {
     "end_time": "2021-12-04T18:38:10.400253Z",
     "start_time": "2021-12-04T18:38:10.039214Z"
    }
   },
   "outputs": [
    {
     "name": "stdout",
     "output_type": "stream",
     "text": [
      "0.557183625180905\n"
     ]
    }
   ],
   "source": [
    "gini_train = 2 * roc_auc_score(data[col_target], booster.predict(xgb.DMatrix(data[cols_pred]))) - 1\n",
    "print(gini_train)"
   ]
  },
  {
   "cell_type": "markdown",
   "metadata": {},
   "source": [
    "### Final model using splitted data"
   ]
  },
  {
   "cell_type": "code",
   "execution_count": 29,
   "metadata": {
    "ExecuteTime": {
     "end_time": "2021-12-04T18:38:23.657760Z",
     "start_time": "2021-12-04T18:38:14.127639Z"
    },
    "scrolled": true
   },
   "outputs": [
    {
     "name": "stdout",
     "output_type": "stream",
     "text": [
      "[0]\ttrain-logloss:0.30047\ttrain-auc:0.60952\ttest-logloss:0.30079\ttest-auc:0.58980\tvalid-logloss:0.30072\tvalid-auc:0.60881\n",
      "[1]\ttrain-logloss:0.29456\ttrain-auc:0.70777\ttest-logloss:0.29505\ttest-auc:0.68801\tvalid-logloss:0.29495\tvalid-auc:0.70544\n",
      "[2]\ttrain-logloss:0.28994\ttrain-auc:0.71626\ttest-logloss:0.29040\ttest-auc:0.70062\tvalid-logloss:0.29047\tvalid-auc:0.71153\n",
      "[3]\ttrain-logloss:0.28530\ttrain-auc:0.71932\ttest-logloss:0.28599\ttest-auc:0.70158\tvalid-logloss:0.28585\tvalid-auc:0.71635\n",
      "[4]\ttrain-logloss:0.28135\ttrain-auc:0.71917\ttest-logloss:0.28218\ttest-auc:0.70309\tvalid-logloss:0.28189\tvalid-auc:0.71644\n",
      "[5]\ttrain-logloss:0.27793\ttrain-auc:0.72168\ttest-logloss:0.27900\ttest-auc:0.70364\tvalid-logloss:0.27843\tvalid-auc:0.72039\n",
      "[6]\ttrain-logloss:0.27485\ttrain-auc:0.72286\ttest-logloss:0.27620\ttest-auc:0.70285\tvalid-logloss:0.27543\tvalid-auc:0.72159\n",
      "[7]\ttrain-logloss:0.27229\ttrain-auc:0.72571\ttest-logloss:0.27399\ttest-auc:0.70436\tvalid-logloss:0.27293\tvalid-auc:0.72394\n",
      "[8]\ttrain-logloss:0.26989\ttrain-auc:0.72551\ttest-logloss:0.27175\ttest-auc:0.70437\tvalid-logloss:0.27053\tvalid-auc:0.72399\n",
      "[9]\ttrain-logloss:0.26832\ttrain-auc:0.72920\ttest-logloss:0.27040\ttest-auc:0.70679\tvalid-logloss:0.26905\tvalid-auc:0.72697\n",
      "[10]\ttrain-logloss:0.26656\ttrain-auc:0.73047\ttest-logloss:0.26894\ttest-auc:0.70638\tvalid-logloss:0.26735\tvalid-auc:0.72819\n",
      "[11]\ttrain-logloss:0.26481\ttrain-auc:0.73065\ttest-logloss:0.26727\ttest-auc:0.70756\tvalid-logloss:0.26564\tvalid-auc:0.72813\n",
      "[12]\ttrain-logloss:0.26336\ttrain-auc:0.73216\ttest-logloss:0.26583\ttest-auc:0.70997\tvalid-logloss:0.26428\tvalid-auc:0.72963\n",
      "[13]\ttrain-logloss:0.26210\ttrain-auc:0.73401\ttest-logloss:0.26481\ttest-auc:0.71062\tvalid-logloss:0.26299\tvalid-auc:0.73149\n",
      "[14]\ttrain-logloss:0.26094\ttrain-auc:0.73519\ttest-logloss:0.26367\ttest-auc:0.71241\tvalid-logloss:0.26197\tvalid-auc:0.73206\n",
      "[15]\ttrain-logloss:0.25976\ttrain-auc:0.73511\ttest-logloss:0.26262\ttest-auc:0.71257\tvalid-logloss:0.26085\tvalid-auc:0.73178\n",
      "[16]\ttrain-logloss:0.25882\ttrain-auc:0.73614\ttest-logloss:0.26173\ttest-auc:0.71377\tvalid-logloss:0.26001\tvalid-auc:0.73204\n",
      "[17]\ttrain-logloss:0.25790\ttrain-auc:0.73636\ttest-logloss:0.26096\ttest-auc:0.71380\tvalid-logloss:0.25915\tvalid-auc:0.73228\n",
      "[18]\ttrain-logloss:0.25709\ttrain-auc:0.73754\ttest-logloss:0.26041\ttest-auc:0.71404\tvalid-logloss:0.25834\tvalid-auc:0.73369\n",
      "[19]\ttrain-logloss:0.25646\ttrain-auc:0.73883\ttest-logloss:0.26006\ttest-auc:0.71368\tvalid-logloss:0.25782\tvalid-auc:0.73464\n",
      "[20]\ttrain-logloss:0.25577\ttrain-auc:0.73933\ttest-logloss:0.25954\ttest-auc:0.71399\tvalid-logloss:0.25719\tvalid-auc:0.73488\n",
      "[21]\ttrain-logloss:0.25514\ttrain-auc:0.74076\ttest-logloss:0.25900\ttest-auc:0.71538\tvalid-logloss:0.25674\tvalid-auc:0.73529\n",
      "[22]\ttrain-logloss:0.25451\ttrain-auc:0.74198\ttest-logloss:0.25872\ttest-auc:0.71580\tvalid-logloss:0.25616\tvalid-auc:0.73662\n",
      "[23]\ttrain-logloss:0.25385\ttrain-auc:0.74230\ttest-logloss:0.25812\ttest-auc:0.71687\tvalid-logloss:0.25554\tvalid-auc:0.73742\n",
      "[24]\ttrain-logloss:0.25340\ttrain-auc:0.74288\ttest-logloss:0.25761\ttest-auc:0.71817\tvalid-logloss:0.25512\tvalid-auc:0.73819\n",
      "[25]\ttrain-logloss:0.25289\ttrain-auc:0.74369\ttest-logloss:0.25725\ttest-auc:0.71842\tvalid-logloss:0.25474\tvalid-auc:0.73833\n",
      "[26]\ttrain-logloss:0.25243\ttrain-auc:0.74412\ttest-logloss:0.25688\ttest-auc:0.71902\tvalid-logloss:0.25441\tvalid-auc:0.73824\n",
      "[27]\ttrain-logloss:0.25203\ttrain-auc:0.74491\ttest-logloss:0.25662\ttest-auc:0.71948\tvalid-logloss:0.25414\tvalid-auc:0.73839\n",
      "[28]\ttrain-logloss:0.25167\ttrain-auc:0.74599\ttest-logloss:0.25634\ttest-auc:0.72040\tvalid-logloss:0.25376\tvalid-auc:0.73955\n",
      "[29]\ttrain-logloss:0.25122\ttrain-auc:0.74792\ttest-logloss:0.25600\ttest-auc:0.72183\tvalid-logloss:0.25337\tvalid-auc:0.74120\n",
      "[30]\ttrain-logloss:0.25087\ttrain-auc:0.74887\ttest-logloss:0.25578\ttest-auc:0.72244\tvalid-logloss:0.25310\tvalid-auc:0.74207\n",
      "[31]\ttrain-logloss:0.25032\ttrain-auc:0.75046\ttest-logloss:0.25542\ttest-auc:0.72335\tvalid-logloss:0.25259\tvalid-auc:0.74374\n",
      "[32]\ttrain-logloss:0.24997\ttrain-auc:0.75115\ttest-logloss:0.25515\ttest-auc:0.72388\tvalid-logloss:0.25236\tvalid-auc:0.74410\n",
      "[33]\ttrain-logloss:0.24958\ttrain-auc:0.75218\ttest-logloss:0.25493\ttest-auc:0.72425\tvalid-logloss:0.25201\tvalid-auc:0.74500\n",
      "[34]\ttrain-logloss:0.24927\ttrain-auc:0.75288\ttest-logloss:0.25487\ttest-auc:0.72425\tvalid-logloss:0.25183\tvalid-auc:0.74518\n",
      "[35]\ttrain-logloss:0.24899\ttrain-auc:0.75392\ttest-logloss:0.25475\ttest-auc:0.72481\tvalid-logloss:0.25167\tvalid-auc:0.74558\n",
      "[36]\ttrain-logloss:0.24870\ttrain-auc:0.75467\ttest-logloss:0.25463\ttest-auc:0.72524\tvalid-logloss:0.25137\tvalid-auc:0.74642\n",
      "[37]\ttrain-logloss:0.24843\ttrain-auc:0.75568\ttest-logloss:0.25441\ttest-auc:0.72606\tvalid-logloss:0.25118\tvalid-auc:0.74703\n",
      "[38]\ttrain-logloss:0.24814\ttrain-auc:0.75661\ttest-logloss:0.25429\ttest-auc:0.72660\tvalid-logloss:0.25095\tvalid-auc:0.74798\n",
      "[39]\ttrain-logloss:0.24787\ttrain-auc:0.75741\ttest-logloss:0.25414\ttest-auc:0.72694\tvalid-logloss:0.25082\tvalid-auc:0.74852\n",
      "[40]\ttrain-logloss:0.24759\ttrain-auc:0.75829\ttest-logloss:0.25402\ttest-auc:0.72719\tvalid-logloss:0.25073\tvalid-auc:0.74854\n",
      "[41]\ttrain-logloss:0.24737\ttrain-auc:0.75834\ttest-logloss:0.25392\ttest-auc:0.72703\tvalid-logloss:0.25060\tvalid-auc:0.74830\n",
      "[42]\ttrain-logloss:0.24713\ttrain-auc:0.75893\ttest-logloss:0.25379\ttest-auc:0.72744\tvalid-logloss:0.25038\tvalid-auc:0.74905\n",
      "[43]\ttrain-logloss:0.24690\ttrain-auc:0.75923\ttest-logloss:0.25361\ttest-auc:0.72798\tvalid-logloss:0.25019\tvalid-auc:0.74924\n",
      "[44]\ttrain-logloss:0.24668\ttrain-auc:0.75984\ttest-logloss:0.25352\ttest-auc:0.72827\tvalid-logloss:0.25013\tvalid-auc:0.74933\n",
      "[45]\ttrain-logloss:0.24646\ttrain-auc:0.76053\ttest-logloss:0.25341\ttest-auc:0.72860\tvalid-logloss:0.25001\tvalid-auc:0.74975\n",
      "[46]\ttrain-logloss:0.24625\ttrain-auc:0.76096\ttest-logloss:0.25333\ttest-auc:0.72873\tvalid-logloss:0.24992\tvalid-auc:0.74980\n",
      "[47]\ttrain-logloss:0.24605\ttrain-auc:0.76141\ttest-logloss:0.25322\ttest-auc:0.72900\tvalid-logloss:0.24991\tvalid-auc:0.74950\n",
      "[48]\ttrain-logloss:0.24581\ttrain-auc:0.76211\ttest-logloss:0.25310\ttest-auc:0.72936\tvalid-logloss:0.24979\tvalid-auc:0.74983\n",
      "[49]\ttrain-logloss:0.24567\ttrain-auc:0.76239\ttest-logloss:0.25306\ttest-auc:0.72971\tvalid-logloss:0.24980\tvalid-auc:0.74994\n",
      "[50]\ttrain-logloss:0.24541\ttrain-auc:0.76332\ttest-logloss:0.25296\ttest-auc:0.72998\tvalid-logloss:0.24962\tvalid-auc:0.75057\n",
      "[51]\ttrain-logloss:0.24520\ttrain-auc:0.76377\ttest-logloss:0.25300\ttest-auc:0.72983\tvalid-logloss:0.24951\tvalid-auc:0.75081\n",
      "[52]\ttrain-logloss:0.24500\ttrain-auc:0.76423\ttest-logloss:0.25298\ttest-auc:0.72976\tvalid-logloss:0.24938\tvalid-auc:0.75109\n",
      "[53]\ttrain-logloss:0.24484\ttrain-auc:0.76449\ttest-logloss:0.25296\ttest-auc:0.72978\tvalid-logloss:0.24931\tvalid-auc:0.75134\n",
      "[54]\ttrain-logloss:0.24468\ttrain-auc:0.76508\ttest-logloss:0.25292\ttest-auc:0.72975\tvalid-logloss:0.24926\tvalid-auc:0.75153\n",
      "[55]\ttrain-logloss:0.24447\ttrain-auc:0.76565\ttest-logloss:0.25290\ttest-auc:0.73011\tvalid-logloss:0.24922\tvalid-auc:0.75157\n",
      "[56]\ttrain-logloss:0.24432\ttrain-auc:0.76607\ttest-logloss:0.25281\ttest-auc:0.73051\tvalid-logloss:0.24916\tvalid-auc:0.75174\n",
      "[57]\ttrain-logloss:0.24414\ttrain-auc:0.76666\ttest-logloss:0.25276\ttest-auc:0.73051\tvalid-logloss:0.24911\tvalid-auc:0.75184\n",
      "[58]\ttrain-logloss:0.24388\ttrain-auc:0.76730\ttest-logloss:0.25265\ttest-auc:0.73098\tvalid-logloss:0.24898\tvalid-auc:0.75209\n",
      "[59]\ttrain-logloss:0.24374\ttrain-auc:0.76774\ttest-logloss:0.25268\ttest-auc:0.73080\tvalid-logloss:0.24889\tvalid-auc:0.75233\n",
      "[60]\ttrain-logloss:0.24357\ttrain-auc:0.76826\ttest-logloss:0.25264\ttest-auc:0.73078\tvalid-logloss:0.24882\tvalid-auc:0.75252\n",
      "[61]\ttrain-logloss:0.24344\ttrain-auc:0.76861\ttest-logloss:0.25255\ttest-auc:0.73114\tvalid-logloss:0.24878\tvalid-auc:0.75251\n",
      "[62]\ttrain-logloss:0.24326\ttrain-auc:0.76903\ttest-logloss:0.25252\ttest-auc:0.73131\tvalid-logloss:0.24867\tvalid-auc:0.75281\n",
      "[63]\ttrain-logloss:0.24309\ttrain-auc:0.76959\ttest-logloss:0.25246\ttest-auc:0.73148\tvalid-logloss:0.24860\tvalid-auc:0.75289\n",
      "[64]\ttrain-logloss:0.24296\ttrain-auc:0.76983\ttest-logloss:0.25242\ttest-auc:0.73160\tvalid-logloss:0.24850\tvalid-auc:0.75323\n",
      "[65]\ttrain-logloss:0.24280\ttrain-auc:0.77029\ttest-logloss:0.25237\ttest-auc:0.73167\tvalid-logloss:0.24842\tvalid-auc:0.75343\n",
      "[66]\ttrain-logloss:0.24267\ttrain-auc:0.77072\ttest-logloss:0.25235\ttest-auc:0.73175\tvalid-logloss:0.24838\tvalid-auc:0.75358\n",
      "[67]\ttrain-logloss:0.24245\ttrain-auc:0.77152\ttest-logloss:0.25221\ttest-auc:0.73223\tvalid-logloss:0.24833\tvalid-auc:0.75381\n",
      "[68]\ttrain-logloss:0.24231\ttrain-auc:0.77204\ttest-logloss:0.25218\ttest-auc:0.73234\tvalid-logloss:0.24831\tvalid-auc:0.75374\n",
      "[69]\ttrain-logloss:0.24214\ttrain-auc:0.77256\ttest-logloss:0.25215\ttest-auc:0.73247\tvalid-logloss:0.24827\tvalid-auc:0.75392\n",
      "[70]\ttrain-logloss:0.24201\ttrain-auc:0.77301\ttest-logloss:0.25207\ttest-auc:0.73264\tvalid-logloss:0.24825\tvalid-auc:0.75396\n",
      "[71]\ttrain-logloss:0.24189\ttrain-auc:0.77308\ttest-logloss:0.25206\ttest-auc:0.73274\tvalid-logloss:0.24821\tvalid-auc:0.75384\n",
      "[72]\ttrain-logloss:0.24172\ttrain-auc:0.77352\ttest-logloss:0.25200\ttest-auc:0.73277\tvalid-logloss:0.24812\tvalid-auc:0.75417\n",
      "[73]\ttrain-logloss:0.24151\ttrain-auc:0.77419\ttest-logloss:0.25190\ttest-auc:0.73317\tvalid-logloss:0.24803\tvalid-auc:0.75443\n",
      "[74]\ttrain-logloss:0.24133\ttrain-auc:0.77474\ttest-logloss:0.25183\ttest-auc:0.73339\tvalid-logloss:0.24794\tvalid-auc:0.75475\n",
      "[75]\ttrain-logloss:0.24121\ttrain-auc:0.77512\ttest-logloss:0.25183\ttest-auc:0.73333\tvalid-logloss:0.24792\tvalid-auc:0.75484\n",
      "[76]\ttrain-logloss:0.24107\ttrain-auc:0.77562\ttest-logloss:0.25177\ttest-auc:0.73353\tvalid-logloss:0.24785\tvalid-auc:0.75503\n",
      "[77]\ttrain-logloss:0.24094\ttrain-auc:0.77596\ttest-logloss:0.25169\ttest-auc:0.73375\tvalid-logloss:0.24773\tvalid-auc:0.75554\n",
      "[78]\ttrain-logloss:0.24084\ttrain-auc:0.77624\ttest-logloss:0.25171\ttest-auc:0.73367\tvalid-logloss:0.24774\tvalid-auc:0.75550\n",
      "[79]\ttrain-logloss:0.24068\ttrain-auc:0.77660\ttest-logloss:0.25174\ttest-auc:0.73372\tvalid-logloss:0.24775\tvalid-auc:0.75544\n",
      "[80]\ttrain-logloss:0.24054\ttrain-auc:0.77684\ttest-logloss:0.25169\ttest-auc:0.73397\tvalid-logloss:0.24769\tvalid-auc:0.75553\n",
      "[81]\ttrain-logloss:0.24042\ttrain-auc:0.77710\ttest-logloss:0.25163\ttest-auc:0.73424\tvalid-logloss:0.24764\tvalid-auc:0.75557\n",
      "[82]\ttrain-logloss:0.24029\ttrain-auc:0.77755\ttest-logloss:0.25167\ttest-auc:0.73401\tvalid-logloss:0.24759\tvalid-auc:0.75570\n",
      "[83]\ttrain-logloss:0.24019\ttrain-auc:0.77793\ttest-logloss:0.25164\ttest-auc:0.73399\tvalid-logloss:0.24762\tvalid-auc:0.75559\n",
      "[84]\ttrain-logloss:0.24006\ttrain-auc:0.77813\ttest-logloss:0.25163\ttest-auc:0.73419\tvalid-logloss:0.24760\tvalid-auc:0.75560\n",
      "[85]\ttrain-logloss:0.23990\ttrain-auc:0.77850\ttest-logloss:0.25160\ttest-auc:0.73448\tvalid-logloss:0.24749\tvalid-auc:0.75591\n",
      "[86]\ttrain-logloss:0.23978\ttrain-auc:0.77882\ttest-logloss:0.25163\ttest-auc:0.73444\tvalid-logloss:0.24741\tvalid-auc:0.75619\n",
      "[87]\ttrain-logloss:0.23962\ttrain-auc:0.77942\ttest-logloss:0.25150\ttest-auc:0.73498\tvalid-logloss:0.24739\tvalid-auc:0.75623\n",
      "[88]\ttrain-logloss:0.23949\ttrain-auc:0.77970\ttest-logloss:0.25152\ttest-auc:0.73506\tvalid-logloss:0.24731\tvalid-auc:0.75643\n",
      "[89]\ttrain-logloss:0.23937\ttrain-auc:0.78007\ttest-logloss:0.25155\ttest-auc:0.73494\tvalid-logloss:0.24731\tvalid-auc:0.75634\n",
      "[90]\ttrain-logloss:0.23923\ttrain-auc:0.78058\ttest-logloss:0.25150\ttest-auc:0.73522\tvalid-logloss:0.24724\tvalid-auc:0.75674\n",
      "[91]\ttrain-logloss:0.23913\ttrain-auc:0.78081\ttest-logloss:0.25145\ttest-auc:0.73538\tvalid-logloss:0.24728\tvalid-auc:0.75655\n",
      "[92]\ttrain-logloss:0.23903\ttrain-auc:0.78122\ttest-logloss:0.25143\ttest-auc:0.73537\tvalid-logloss:0.24731\tvalid-auc:0.75640\n",
      "[93]\ttrain-logloss:0.23890\ttrain-auc:0.78162\ttest-logloss:0.25134\ttest-auc:0.73576\tvalid-logloss:0.24721\tvalid-auc:0.75674\n",
      "[94]\ttrain-logloss:0.23877\ttrain-auc:0.78195\ttest-logloss:0.25136\ttest-auc:0.73562\tvalid-logloss:0.24727\tvalid-auc:0.75642\n",
      "[95]\ttrain-logloss:0.23864\ttrain-auc:0.78247\ttest-logloss:0.25135\ttest-auc:0.73572\tvalid-logloss:0.24733\tvalid-auc:0.75610\n",
      "[96]\ttrain-logloss:0.23850\ttrain-auc:0.78274\ttest-logloss:0.25129\ttest-auc:0.73603\tvalid-logloss:0.24731\tvalid-auc:0.75632\n",
      "[97]\ttrain-logloss:0.23836\ttrain-auc:0.78316\ttest-logloss:0.25125\ttest-auc:0.73623\tvalid-logloss:0.24726\tvalid-auc:0.75644\n",
      "[98]\ttrain-logloss:0.23830\ttrain-auc:0.78326\ttest-logloss:0.25128\ttest-auc:0.73613\tvalid-logloss:0.24724\tvalid-auc:0.75643\n",
      "[99]\ttrain-logloss:0.23817\ttrain-auc:0.78373\ttest-logloss:0.25130\ttest-auc:0.73603\tvalid-logloss:0.24721\tvalid-auc:0.75668\n",
      "[100]\ttrain-logloss:0.23808\ttrain-auc:0.78406\ttest-logloss:0.25126\ttest-auc:0.73614\tvalid-logloss:0.24716\tvalid-auc:0.75688\n",
      "[101]\ttrain-logloss:0.23795\ttrain-auc:0.78436\ttest-logloss:0.25125\ttest-auc:0.73626\tvalid-logloss:0.24715\tvalid-auc:0.75692\n",
      "[102]\ttrain-logloss:0.23788\ttrain-auc:0.78462\ttest-logloss:0.25125\ttest-auc:0.73624\tvalid-logloss:0.24713\tvalid-auc:0.75699\n",
      "[103]\ttrain-logloss:0.23774\ttrain-auc:0.78509\ttest-logloss:0.25125\ttest-auc:0.73630\tvalid-logloss:0.24711\tvalid-auc:0.75710\n",
      "[104]\ttrain-logloss:0.23764\ttrain-auc:0.78518\ttest-logloss:0.25124\ttest-auc:0.73645\tvalid-logloss:0.24698\tvalid-auc:0.75754\n",
      "[105]\ttrain-logloss:0.23753\ttrain-auc:0.78547\ttest-logloss:0.25121\ttest-auc:0.73659\tvalid-logloss:0.24693\tvalid-auc:0.75771\n",
      "[106]\ttrain-logloss:0.23743\ttrain-auc:0.78582\ttest-logloss:0.25124\ttest-auc:0.73651\tvalid-logloss:0.24691\tvalid-auc:0.75773\n",
      "[107]\ttrain-logloss:0.23729\ttrain-auc:0.78621\ttest-logloss:0.25120\ttest-auc:0.73668\tvalid-logloss:0.24686\tvalid-auc:0.75783\n",
      "[108]\ttrain-logloss:0.23715\ttrain-auc:0.78665\ttest-logloss:0.25122\ttest-auc:0.73665\tvalid-logloss:0.24684\tvalid-auc:0.75789\n",
      "[109]\ttrain-logloss:0.23707\ttrain-auc:0.78685\ttest-logloss:0.25122\ttest-auc:0.73662\tvalid-logloss:0.24681\tvalid-auc:0.75799\n",
      "[110]\ttrain-logloss:0.23697\ttrain-auc:0.78710\ttest-logloss:0.25117\ttest-auc:0.73668\tvalid-logloss:0.24685\tvalid-auc:0.75791\n",
      "[111]\ttrain-logloss:0.23681\ttrain-auc:0.78755\ttest-logloss:0.25115\ttest-auc:0.73673\tvalid-logloss:0.24676\tvalid-auc:0.75830\n",
      "[112]\ttrain-logloss:0.23668\ttrain-auc:0.78803\ttest-logloss:0.25111\ttest-auc:0.73685\tvalid-logloss:0.24676\tvalid-auc:0.75822\n",
      "[113]\ttrain-logloss:0.23662\ttrain-auc:0.78820\ttest-logloss:0.25105\ttest-auc:0.73709\tvalid-logloss:0.24672\tvalid-auc:0.75840\n",
      "[114]\ttrain-logloss:0.23652\ttrain-auc:0.78849\ttest-logloss:0.25103\ttest-auc:0.73719\tvalid-logloss:0.24666\tvalid-auc:0.75864\n",
      "[115]\ttrain-logloss:0.23644\ttrain-auc:0.78874\ttest-logloss:0.25102\ttest-auc:0.73734\tvalid-logloss:0.24662\tvalid-auc:0.75874\n",
      "[116]\ttrain-logloss:0.23635\ttrain-auc:0.78895\ttest-logloss:0.25102\ttest-auc:0.73738\tvalid-logloss:0.24661\tvalid-auc:0.75876\n",
      "[117]\ttrain-logloss:0.23626\ttrain-auc:0.78926\ttest-logloss:0.25100\ttest-auc:0.73749\tvalid-logloss:0.24660\tvalid-auc:0.75864\n",
      "[118]\ttrain-logloss:0.23618\ttrain-auc:0.78958\ttest-logloss:0.25097\ttest-auc:0.73768\tvalid-logloss:0.24654\tvalid-auc:0.75884\n",
      "[119]\ttrain-logloss:0.23606\ttrain-auc:0.78993\ttest-logloss:0.25098\ttest-auc:0.73767\tvalid-logloss:0.24655\tvalid-auc:0.75873\n",
      "[120]\ttrain-logloss:0.23591\ttrain-auc:0.79046\ttest-logloss:0.25092\ttest-auc:0.73789\tvalid-logloss:0.24650\tvalid-auc:0.75891\n",
      "[121]\ttrain-logloss:0.23583\ttrain-auc:0.79077\ttest-logloss:0.25092\ttest-auc:0.73796\tvalid-logloss:0.24650\tvalid-auc:0.75890\n",
      "[122]\ttrain-logloss:0.23572\ttrain-auc:0.79116\ttest-logloss:0.25094\ttest-auc:0.73792\tvalid-logloss:0.24650\tvalid-auc:0.75896\n",
      "[123]\ttrain-logloss:0.23562\ttrain-auc:0.79142\ttest-logloss:0.25094\ttest-auc:0.73797\tvalid-logloss:0.24647\tvalid-auc:0.75901\n",
      "[124]\ttrain-logloss:0.23553\ttrain-auc:0.79158\ttest-logloss:0.25100\ttest-auc:0.73782\tvalid-logloss:0.24645\tvalid-auc:0.75902\n",
      "[125]\ttrain-logloss:0.23545\ttrain-auc:0.79184\ttest-logloss:0.25097\ttest-auc:0.73783\tvalid-logloss:0.24650\tvalid-auc:0.75892\n",
      "[126]\ttrain-logloss:0.23535\ttrain-auc:0.79219\ttest-logloss:0.25090\ttest-auc:0.73814\tvalid-logloss:0.24648\tvalid-auc:0.75892\n",
      "[127]\ttrain-logloss:0.23524\ttrain-auc:0.79251\ttest-logloss:0.25087\ttest-auc:0.73824\tvalid-logloss:0.24646\tvalid-auc:0.75887\n",
      "[128]\ttrain-logloss:0.23515\ttrain-auc:0.79274\ttest-logloss:0.25091\ttest-auc:0.73819\tvalid-logloss:0.24645\tvalid-auc:0.75894\n",
      "[129]\ttrain-logloss:0.23506\ttrain-auc:0.79303\ttest-logloss:0.25090\ttest-auc:0.73821\tvalid-logloss:0.24644\tvalid-auc:0.75906\n",
      "[130]\ttrain-logloss:0.23494\ttrain-auc:0.79347\ttest-logloss:0.25091\ttest-auc:0.73818\tvalid-logloss:0.24645\tvalid-auc:0.75902\n",
      "[131]\ttrain-logloss:0.23486\ttrain-auc:0.79368\ttest-logloss:0.25090\ttest-auc:0.73818\tvalid-logloss:0.24648\tvalid-auc:0.75892\n",
      "[132]\ttrain-logloss:0.23478\ttrain-auc:0.79391\ttest-logloss:0.25088\ttest-auc:0.73827\tvalid-logloss:0.24651\tvalid-auc:0.75884\n",
      "[133]\ttrain-logloss:0.23468\ttrain-auc:0.79427\ttest-logloss:0.25085\ttest-auc:0.73841\tvalid-logloss:0.24654\tvalid-auc:0.75892\n",
      "[134]\ttrain-logloss:0.23460\ttrain-auc:0.79438\ttest-logloss:0.25085\ttest-auc:0.73851\tvalid-logloss:0.24653\tvalid-auc:0.75892\n",
      "[135]\ttrain-logloss:0.23450\ttrain-auc:0.79462\ttest-logloss:0.25082\ttest-auc:0.73866\tvalid-logloss:0.24651\tvalid-auc:0.75894\n",
      "[136]\ttrain-logloss:0.23441\ttrain-auc:0.79490\ttest-logloss:0.25083\ttest-auc:0.73860\tvalid-logloss:0.24660\tvalid-auc:0.75868\n",
      "[137]\ttrain-logloss:0.23435\ttrain-auc:0.79505\ttest-logloss:0.25085\ttest-auc:0.73857\tvalid-logloss:0.24664\tvalid-auc:0.75855\n",
      "[138]\ttrain-logloss:0.23425\ttrain-auc:0.79541\ttest-logloss:0.25084\ttest-auc:0.73863\tvalid-logloss:0.24661\tvalid-auc:0.75871\n"
     ]
    }
   ],
   "source": [
    "# Final model\n",
    "params = {    \n",
    "    'eta': 0.1,\n",
    "    'max_depth': 3,\n",
    "    'subsample': 0.7,\n",
    "    'colsample_bytree': 0.7,\n",
    "\n",
    "    'eval_metric': ['logloss', 'auc'],\n",
    "    'objective': 'binary:logistic' ,\n",
    "    'booster': 'gbtree',\n",
    "    'tree_method': 'exact',\n",
    "\n",
    "    'seed': 12,\n",
    "}\n",
    "\n",
    "evals_result = {}\n",
    "booster = xgb.train(\n",
    "    params = params,\n",
    "    dtrain = xgb.DMatrix(data[train_mask][cols_pred], data[train_mask][col_target]),\n",
    "    num_boost_round = 300,\n",
    "    evals = (\n",
    "        (xgb.DMatrix(data[train_mask][cols_pred], data[train_mask][col_target]), 'train'),\n",
    "        (xgb.DMatrix(data[test_mask][cols_pred],  data[test_mask][col_target]), 'test'),\n",
    "        (xgb.DMatrix(data[valid_mask][cols_pred], data[valid_mask][col_target]), 'valid')\n",
    "    ),\n",
    "    evals_result = evals_result,\n",
    "    early_stopping_rounds = 10,\n",
    "    verbose_eval = True\n",
    ")"
   ]
  },
  {
   "cell_type": "code",
   "execution_count": 31,
   "metadata": {
    "ExecuteTime": {
     "end_time": "2021-12-04T18:38:24.590759Z",
     "start_time": "2021-12-04T18:38:24.227791Z"
    }
   },
   "outputs": [
    {
     "data": {
      "image/png": "[encoded data removed]",
      "text/plain": [
       "<Figure size 1200x500 with 2 Axes>"
      ]
     },
     "metadata": {},
     "output_type": "display_data"
    }
   ],
   "source": [
    "metric = 'logloss'\n",
    "\n",
    "fig, axs = plt.subplots(1,2, figsize = (12,5))\n",
    "plt.subplots_adjust(wspace=0.3)\n",
    "\n",
    "total_iteration_count = len(evals_result[list(evals_result.keys())[0]][metric])\n",
    "for sample, vals in evals_result.items():\n",
    "    axs[0].plot(\n",
    "        range(1, total_iteration_count + 1), \n",
    "        vals[metric],\n",
    "        label=sample\n",
    "    )\n",
    "\n",
    "    \n",
    "for sample, vals in evals_result.items():\n",
    "    axs[1].plot(\n",
    "        range(1, total_iteration_count + 1), \n",
    "        vals['auc'],\n",
    "        label=sample\n",
    "    )\n",
    "\n",
    "best_score = booster.best_score\n",
    "best_iteration = booster.best_iteration+1\n",
    "\n",
    "plt.plot([1, total_iteration_count], [best_score, best_score], color='black', ls='--', lw=1)\n",
    "plt.scatter([best_iteration], [best_score], color = 'black')\n",
    "plt.annotate(\n",
    "    '{:d}; {:0.3f}'.format(best_iteration, best_score), \n",
    "    xy = (best_iteration, best_score), \n",
    "    xytext = (best_iteration,best_score+0.005),\n",
    "#     textcoords = 'offset points'\n",
    ")\n",
    "\n",
    "axs[0].set_xlabel('iteration')\n",
    "axs[0].set_ylabel('logloss')\n",
    "axs[0].set_title(f'logloss curves')\n",
    "\n",
    "axs[0].spines['right'].set_visible(False)\n",
    "axs[0].spines['top'].set_visible(False)\n",
    "axs[0].spines['left'].set_color('gray')\n",
    "axs[0].spines['bottom'].set_color('gray')\n",
    "axs[0].tick_params(axis='y', colors='gray')\n",
    "axs[0].tick_params(axis='x', colors='gray')\n",
    "\n",
    "axs[1].set_xlabel('iteration')\n",
    "axs[1].set_ylabel('auc')\n",
    "axs[1].set_title(f'auc curves')\n",
    "\n",
    "axs[1].spines['right'].set_visible(False)\n",
    "axs[1].spines['top'].set_visible(False)\n",
    "axs[1].spines['left'].set_color('gray')\n",
    "axs[1].spines['bottom'].set_color('gray')\n",
    "axs[1].tick_params(axis='y', colors='gray')\n",
    "axs[1].tick_params(axis='x', colors='gray')\n",
    "\n",
    "plt.legend(loc='upper right',  bbox_to_anchor=(0.8, 0.5, 0.5, 0.5))\n",
    "\n",
    "plt.show()"
   ]
  },
  {
   "cell_type": "markdown",
   "metadata": {},
   "source": [
    "#### Applying monotone constraints"
   ]
  },
  {
   "cell_type": "markdown",
   "metadata": {},
   "source": [
    "<span style=\"color:red\">**TO DO:** Define function for marginal dependence.</span>\n",
    "\n",
    "Function should have following input parameters:\n",
    "- data ... pd.DataFrame with data to be used for marginal dependence calculation, TARGET is included in this dataframe\n",
    "- predictor ... name of the predictor to be analysed\n",
    "- bins ... number of bins to split the predictor into\n",
    "- col_target ... the TARGET column to compute default date\n",
    "\n",
    "\n",
    "It should output a graph with the default rate for each bin, for example\n",
    "marginal_dependence(data[train_mask], 'EXT_SOURCE_1', 10, col_target) should give something like\n",
    "\n",
    "<img src=\"marginal_dependence.png\" width=400px style=\"float: left\"/>\n",
    "\n",
    "\n"
   ]
  },
  {
   "cell_type": "code",
   "execution_count": null,
   "metadata": {},
   "outputs": [],
   "source": [
    "def maginal_dependence():\n",
    "    ..."
   ]
  },
  {
   "cell_type": "code",
   "execution_count": null,
   "metadata": {
    "ExecuteTime": {
     "end_time": "2021-12-04T18:38:25.902311Z",
     "start_time": "2021-12-04T18:38:25.888308Z"
    }
   },
   "outputs": [],
   "source": [
    "positive_monotone_constraint = [\n",
    "]\n",
    "\n",
    "negative_monotone_constraint = [\n",
    "    'EXT_SOURCE_1',\n",
    "    'EXT_SOURCE_2',\n",
    "    'EXT_SOURCE_3'\n",
    "]\n",
    "\n",
    "constr = []\n",
    "for col in cols_pred:\n",
    "    if col in positive_monotone_constraint:\n",
    "        constr.append('1')\n",
    "    elif col in negative_monotone_constraint:\n",
    "        constr.append('-1')\n",
    "    else:\n",
    "        constr.append('0')\n",
    "\n",
    "constr = '(' + ','.join(constr) + ')'\n",
    "constr"
   ]
  },
  {
   "cell_type": "code",
   "execution_count": null,
   "metadata": {
    "ExecuteTime": {
     "end_time": "2021-12-04T18:38:36.076568Z",
     "start_time": "2021-12-04T18:38:26.395130Z"
    },
    "scrolled": true
   },
   "outputs": [],
   "source": [
    "# Final model\n",
    "params = {    \n",
    "    'eta': 0.1,\n",
    "    'max_depth': 3,\n",
    "    'subsample': 0.7,\n",
    "    'colsample_bytree': 0.7,\n",
    "    'monotone_constraints': constr,\n",
    "    \n",
    "    'eval_metric': 'auc',\n",
    "    'objective': 'binary:logistic' ,\n",
    "    'booster': 'gbtree',\n",
    "    'tree_method': 'exact',\n",
    "\n",
    "    'seed': 12\n",
    "}\n",
    "\n",
    "evals_result = {}\n",
    "booster = xgb.train(\n",
    "    params = params,\n",
    "    dtrain = xgb.DMatrix(data[train_mask][cols_pred], data[train_mask][col_target]),\n",
    "    num_boost_round = 1000,\n",
    "    evals = (\n",
    "        (xgb.DMatrix(data[train_mask][cols_pred], data[train_mask][col_target]), 'train'),\n",
    "        (xgb.DMatrix(data[test_mask][cols_pred],  data[test_mask][col_target]), 'test'),\n",
    "        (xgb.DMatrix(data[valid_mask][cols_pred], data[valid_mask][col_target]), 'valid')\n",
    "    ),\n",
    "    evals_result = evals_result,\n",
    "    early_stopping_rounds = 10,\n",
    "    verbose_eval = True\n",
    ")"
   ]
  },
  {
   "cell_type": "code",
   "execution_count": null,
   "metadata": {
    "ExecuteTime": {
     "end_time": "2021-12-04T18:38:36.847962Z",
     "start_time": "2021-12-04T18:38:36.628944Z"
    }
   },
   "outputs": [],
   "source": [
    "metric = 'auc'\n",
    "\n",
    "fig = plt.figure(figsize=(6,5))\n",
    "total_iteration_count = len(evals_result[list(evals_result.keys())[0]][metric])\n",
    "for sample, vals in evals_result.items():\n",
    "    plt.plot(\n",
    "        range(1, total_iteration_count + 1), \n",
    "        vals[metric],\n",
    "        label=sample\n",
    "    )\n",
    "\n",
    "best_score = booster.best_score\n",
    "best_iteration = booster.best_iteration+1\n",
    "\n",
    "plt.plot([1, total_iteration_count], [best_score, best_score], color='black', ls='--', lw=1)\n",
    "plt.scatter([best_iteration], [best_score], color = 'black')\n",
    "plt.annotate(\n",
    "    '{:d}; {:0.3f}'.format(best_iteration, best_score), \n",
    "    xy = (best_iteration, best_score), \n",
    "    xytext = (best_iteration,best_score+0.005),\n",
    "#     textcoords = 'offset points'\n",
    ")\n",
    "plt.xlabel('iteration')\n",
    "plt.ylabel(metric)\n",
    "plt.legend(loc='best')\n",
    "plt.title(f'{metric} curves')\n",
    "\n",
    "ax = plt.gca()\n",
    "ax.spines['right'].set_visible(False)\n",
    "ax.spines['top'].set_visible(False)\n",
    "ax.spines['left'].set_color('gray')\n",
    "ax.spines['bottom'].set_color('gray')\n",
    "ax.tick_params(axis='y', colors='gray')\n",
    "ax.tick_params(axis='x', colors='gray')\n",
    "\n",
    "plt.show()"
   ]
  },
  {
   "cell_type": "markdown",
   "metadata": {},
   "source": [
    "# Model validation"
   ]
  },
  {
   "cell_type": "code",
   "execution_count": 32,
   "metadata": {
    "ExecuteTime": {
     "end_time": "2021-12-04T18:38:37.610912Z",
     "start_time": "2021-12-04T18:38:37.340911Z"
    }
   },
   "outputs": [],
   "source": [
    "data['predicted_pd'] = booster.predict(xgb.DMatrix(data[cols_pred]), iteration_range=(0,booster.best_iteration))\n",
    "data['predicted_score'] = np.log(data['predicted_pd'] / (1 - data['predicted_pd']))"
   ]
  },
  {
   "cell_type": "markdown",
   "metadata": {},
   "source": [
    "## Plot individual trees"
   ]
  },
  {
   "cell_type": "code",
   "execution_count": null,
   "metadata": {
    "ExecuteTime": {
     "end_time": "2021-12-04T18:38:39.685310Z",
     "start_time": "2021-12-04T18:38:38.130233Z"
    }
   },
   "outputs": [],
   "source": [
    "# TODO: To make the following line work you need to install graphviz (if you have not done so in one of the previous classes)\n",
    "# 1) follow the instructions https://graphviz.gitlab.io/download/?fbclid=IwAR1V-lrRhho5rSfBVYXYISsighqRwOCOgMHLmL_DclkQrPtMXQaKj3mFcqs\n",
    "# 2) this notebook has been tested with version 8.0.3\n",
    "# 3) make sure you add it to the PATH variable (you are specifically asked during the installation) at least for local user\n",
    "\n",
    "from xgboost import plot_tree\n",
    "from matplotlib.pylab import rcParams\n",
    "rcParams['figure.figsize'] = 80,50\n",
    "\n",
    "plot_tree(booster, num_trees = 0)\n",
    "plt.show()\n",
    "\n",
    "rcParams['figure.figsize'] = 5,5"
   ]
  },
  {
   "cell_type": "markdown",
   "metadata": {},
   "source": [
    "## Score distribution"
   ]
  },
  {
   "cell_type": "code",
   "execution_count": 33,
   "metadata": {
    "ExecuteTime": {
     "end_time": "2021-12-04T18:39:03.850516Z",
     "start_time": "2021-12-04T18:39:03.824480Z"
    }
   },
   "outputs": [],
   "source": [
    "def plot_score_calibration(dt, col_score, col_target, n_bins = 25):\n",
    "    min_score = dt[col_score].min() - 0.1\n",
    "    max_score = dt[col_score].max() + 0.1\n",
    "    \n",
    "    bins = [round(min_score + i * (max_score - min_score) / n_bins, 2) for i in range(n_bins+1)]\n",
    "    dt = dt.assign(score_bin = pd.cut(dt[col_score], bins = bins, include_lowest = False))\n",
    "    \n",
    "    dt_grp = dt.groupby('score_bin', observed=False).agg(\n",
    "        bad_cnt = (col_target, 'sum'),\n",
    "        tot_cnt = (col_target, len),\n",
    "        def_rt = (col_target, 'mean'),\n",
    "        avg_score = (col_score, 'mean')\n",
    "    )\n",
    "    dt_grp['good_cnt'] = dt_grp['tot_cnt'] - dt_grp['bad_cnt']\n",
    "    dt_grp['bad_cnt_norm'] = dt_grp['bad_cnt'] / dt_grp['tot_cnt']\n",
    "    dt_grp['good_cnt_norm'] = dt_grp['good_cnt'] / dt_grp['tot_cnt']\n",
    "    dt_grp['expected_pd'] = 1 / (1 + np.exp(-dt_grp['avg_score']))\n",
    "    \n",
    "    fig, axs = plt.subplots(1,2, figsize = (12,4))\n",
    "    fig.suptitle(col_score)\n",
    "    plt.subplots_adjust(wspace = 0.4)\n",
    "    axs[0].bar(range(len(dt_grp)), dt_grp['bad_cnt'], color = 'salmon', label = 'bads')\n",
    "    axs[0].bar(range(len(dt_grp)), dt_grp['good_cnt'], bottom = dt_grp['bad_cnt'], color = 'lightblue', label = 'goods')\n",
    "    axs[0].set_ylabel('observations count')\n",
    "    axs[0].set_xlabel('score')\n",
    "    axs[0].set_xticks(range(len(dt_grp)))\n",
    "    axs[0].set_xticklabels(dt_grp.index, rotation = 90)\n",
    "    \n",
    "    axs[0].spines['right'].set_color('gray')\n",
    "    axs[0].spines['top'].set_visible(False)\n",
    "    axs[0].spines['left'].set_color('gray')\n",
    "    axs[0].spines['bottom'].set_color('gray')\n",
    "    axs[0].tick_params(axis='y', colors='gray')\n",
    "    axs[0].tick_params(axis='x', colors='gray')\n",
    "    \n",
    "    ax0l = axs[0].twinx()\n",
    "    ax0l.plot(range(len(dt_grp)), dt_grp['def_rt'], marker = 'o', color = 'red')\n",
    "    ax0l.plot(range(len(dt_grp)), dt_grp['expected_pd'], color = 'black', ls = '--')\n",
    "    ax0l.set_ylabel('default rate', color = 'red')\n",
    "    \n",
    "    ax0l.spines['right'].set_color('gray')\n",
    "    ax0l.spines['top'].set_visible(False)\n",
    "    ax0l.spines['left'].set_color('gray')\n",
    "    ax0l.spines['bottom'].set_color('gray')\n",
    "    ax0l.tick_params(axis='y', colors='gray')\n",
    "    ax0l.tick_params(axis='x', colors='gray')\n",
    "    \n",
    "    axs[1].bar(range(len(dt_grp)), dt_grp['bad_cnt_norm'], color = 'salmon', label = 'bads')\n",
    "    axs[1].bar(range(len(dt_grp)), dt_grp['good_cnt_norm'], bottom = dt_grp['bad_cnt_norm'], color = 'lightblue', label = 'goods')\n",
    "    axs[1].set_ylabel('frequency')\n",
    "    axs[1].set_xlabel('score')\n",
    "    axs[1].set_xticks(range(len(dt_grp)))\n",
    "    axs[1].set_xticklabels(dt_grp.index, rotation = 90)\n",
    "    \n",
    "    axs[1].spines['right'].set_visible(False)\n",
    "    axs[1].spines['top'].set_visible(False)\n",
    "    axs[1].spines['left'].set_color('gray')\n",
    "    axs[1].spines['bottom'].set_color('gray')\n",
    "    axs[1].tick_params(axis='y', colors='gray')\n",
    "    axs[1].tick_params(axis='x', colors='gray')"
   ]
  },
  {
   "cell_type": "code",
   "execution_count": 34,
   "metadata": {
    "ExecuteTime": {
     "end_time": "2021-12-04T18:39:05.577568Z",
     "start_time": "2021-12-04T18:39:04.629363Z"
    }
   },
   "outputs": [
    {
     "data": {
      "image/png": "[encoded data removed]",
      "text/plain": [
       "<Figure size 1200x400 with 3 Axes>"
      ]
     },
     "metadata": {},
     "output_type": "display_data"
    }
   ],
   "source": [
    "plot_score_calibration(data[valid_mask | test_mask], 'predicted_score', col_target)"
   ]
  },
  {
   "cell_type": "markdown",
   "metadata": {},
   "source": [
    "## Permutation importance\n",
    "- Let's have dataset $D$ and model with score (AUC for instance) $s$\n",
    "- For each feature $j$ calculate permutation importance as follows:\n",
    "    - for $k$ in $1,\\ldots,K$:\n",
    "        - shuffle column $j$ in dataset $D$ -> $\\hat{D}_{k,j}$\n",
    "        - compute the score $s_{k,j}$ using $\\hat{D}_{k,j}$\n",
    "    - importance $i_j$ for feature $f_j$ is defined as:\n",
    "$$i_j = s - \\frac{1}{K}\\sum_{k=1}^K s_{k,j}$$"
   ]
  },
  {
   "cell_type": "code",
   "execution_count": 35,
   "metadata": {},
   "outputs": [],
   "source": [
    "from sklearn.inspection import permutation_importance"
   ]
  },
  {
   "cell_type": "code",
   "execution_count": 36,
   "metadata": {
    "scrolled": true
   },
   "outputs": [],
   "source": [
    "# for sklearn, there is a function\n",
    "r = permutation_importance(booster_sklearn, data[test_mask][cols_pred], data[test_mask][col_target], n_repeats=6)"
   ]
  },
  {
   "cell_type": "code",
   "execution_count": 37,
   "metadata": {},
   "outputs": [
    {
     "name": "stdout",
     "output_type": "stream",
     "text": [
      "AMT_CREDIT    0.0005 +/- 0.0002\n",
      "LAST_TRANSACTION_TIME_MONTHS    0.0002 +/- 0.0001\n",
      "YEARS_BEGINEXPLUATATION_MEDI    0.0001 +/- 0.0000\n"
     ]
    }
   ],
   "source": [
    "for i in r.importances_mean.argsort()[::-1]:\n",
    "    if r.importances_mean[i] - 2 * r.importances_std[i] > 0:\n",
    "        print(f\"{cols_pred[i]:<8}    \"\n",
    "              f\"{r.importances_mean[i]:.4f}\"\n",
    "              f\" +/- {r.importances_std[i]:.4f}\")"
   ]
  },
  {
   "cell_type": "code",
   "execution_count": 38,
   "metadata": {
    "ExecuteTime": {
     "end_time": "2021-12-04T18:39:11.361192Z",
     "start_time": "2021-12-04T18:39:11.350139Z"
    }
   },
   "outputs": [],
   "source": [
    "def permutation_importance(dt, predictor, target, model, n_iters = 10):\n",
    "    predictors = list(dt.columns)\n",
    "    predictors.remove(target)\n",
    "    \n",
    "    prediction = model.predict(xgb.DMatrix(dt[predictors]), iteration_range=(0,model.best_iteration))\n",
    "    s = roc_auc_score(dt[target], prediction)\n",
    "    \n",
    "    sk = []\n",
    "    for i in range(n_iters):\n",
    "        x = dt[predictor].to_list()\n",
    "        np.random.shuffle(x)\n",
    "        dt[predictor] = x\n",
    "        prediction = model.predict(xgb.DMatrix(dt[predictors]), iteration_range=(0,model.best_iteration))\n",
    "        sk.append(roc_auc_score(dt[target], prediction))\n",
    "    \n",
    "    sk_mean = np.mean(sk)\n",
    "    sk_perc05 = np.percentile(sk, q=5)\n",
    "    sk_perc95 = np.percentile(sk, q=95)\n",
    "    \n",
    "    return s - sk_mean, s - sk_perc05, s - sk_perc95    "
   ]
  },
  {
   "cell_type": "code",
   "execution_count": 39,
   "metadata": {
    "ExecuteTime": {
     "end_time": "2021-12-04T18:40:37.260050Z",
     "start_time": "2021-12-04T18:40:26.896732Z"
    }
   },
   "outputs": [
    {
     "data": {
      "application/vnd.jupyter.widget-view+json": {
       "model_id": "ee5ac3716acf4efc96f31614231bdb26",
       "version_major": 2,
       "version_minor": 0
      },
      "text/plain": [
       "  0%|          | 0/10 [00:00<?, ?it/s]"
      ]
     },
     "metadata": {},
     "output_type": "display_data"
    },
    {
     "data": {
      "text/html": [
       "<div>\n",
       "<style scoped>\n",
       "    .dataframe tbody tr th:only-of-type {\n",
       "        vertical-align: middle;\n",
       "    }\n",
       "\n",
       "    .dataframe tbody tr th {\n",
       "        vertical-align: top;\n",
       "    }\n",
       "\n",
       "    .dataframe thead th {\n",
       "        text-align: right;\n",
       "    }\n",
       "</style>\n",
       "<table border=\"1\" class=\"dataframe\">\n",
       "  <thead>\n",
       "    <tr style=\"text-align: right;\">\n",
       "      <th></th>\n",
       "      <th>predictor</th>\n",
       "      <th>permutation_importance</th>\n",
       "      <th>iqr05</th>\n",
       "      <th>iqr95</th>\n",
       "    </tr>\n",
       "  </thead>\n",
       "  <tbody>\n",
       "    <tr>\n",
       "      <th>0</th>\n",
       "      <td>CNT_CHILDREN</td>\n",
       "      <td>0.000055</td>\n",
       "      <td>-0.000031</td>\n",
       "      <td>0.000175</td>\n",
       "    </tr>\n",
       "    <tr>\n",
       "      <th>1</th>\n",
       "      <td>AMT_INCOME_TOTAL</td>\n",
       "      <td>-0.000091</td>\n",
       "      <td>-0.000190</td>\n",
       "      <td>0.000040</td>\n",
       "    </tr>\n",
       "    <tr>\n",
       "      <th>2</th>\n",
       "      <td>AMT_CREDIT</td>\n",
       "      <td>0.005137</td>\n",
       "      <td>0.003112</td>\n",
       "      <td>0.007115</td>\n",
       "    </tr>\n",
       "    <tr>\n",
       "      <th>3</th>\n",
       "      <td>AMT_ANNUITY</td>\n",
       "      <td>0.003547</td>\n",
       "      <td>0.002582</td>\n",
       "      <td>0.005227</td>\n",
       "    </tr>\n",
       "    <tr>\n",
       "      <th>4</th>\n",
       "      <td>AMT_GOODS_PRICE</td>\n",
       "      <td>0.008705</td>\n",
       "      <td>0.006394</td>\n",
       "      <td>0.011931</td>\n",
       "    </tr>\n",
       "    <tr>\n",
       "      <th>5</th>\n",
       "      <td>REGION_POPULATION_RELATIVE</td>\n",
       "      <td>0.000018</td>\n",
       "      <td>-0.000201</td>\n",
       "      <td>0.000282</td>\n",
       "    </tr>\n",
       "    <tr>\n",
       "      <th>6</th>\n",
       "      <td>DAYS_BIRTH</td>\n",
       "      <td>0.002190</td>\n",
       "      <td>0.001383</td>\n",
       "      <td>0.003270</td>\n",
       "    </tr>\n",
       "    <tr>\n",
       "      <th>7</th>\n",
       "      <td>DAYS_EMPLOYED</td>\n",
       "      <td>0.002630</td>\n",
       "      <td>0.001919</td>\n",
       "      <td>0.003418</td>\n",
       "    </tr>\n",
       "    <tr>\n",
       "      <th>8</th>\n",
       "      <td>DAYS_REGISTRATION</td>\n",
       "      <td>0.000174</td>\n",
       "      <td>-0.000522</td>\n",
       "      <td>0.000813</td>\n",
       "    </tr>\n",
       "    <tr>\n",
       "      <th>9</th>\n",
       "      <td>DAYS_ID_PUBLISH</td>\n",
       "      <td>0.001644</td>\n",
       "      <td>0.000670</td>\n",
       "      <td>0.002513</td>\n",
       "    </tr>\n",
       "  </tbody>\n",
       "</table>\n",
       "</div>"
      ],
      "text/plain": [
       "                    predictor  permutation_importance     iqr05     iqr95\n",
       "0                CNT_CHILDREN                0.000055 -0.000031  0.000175\n",
       "1            AMT_INCOME_TOTAL               -0.000091 -0.000190  0.000040\n",
       "2                  AMT_CREDIT                0.005137  0.003112  0.007115\n",
       "3                 AMT_ANNUITY                0.003547  0.002582  0.005227\n",
       "4             AMT_GOODS_PRICE                0.008705  0.006394  0.011931\n",
       "5  REGION_POPULATION_RELATIVE                0.000018 -0.000201  0.000282\n",
       "6                  DAYS_BIRTH                0.002190  0.001383  0.003270\n",
       "7               DAYS_EMPLOYED                0.002630  0.001919  0.003418\n",
       "8           DAYS_REGISTRATION                0.000174 -0.000522  0.000813\n",
       "9             DAYS_ID_PUBLISH                0.001644  0.000670  0.002513"
      ]
     },
     "execution_count": 39,
     "metadata": {},
     "output_type": "execute_result"
    }
   ],
   "source": [
    "res = []\n",
    "for pred in tqdm(cols_pred[0:10]):\n",
    "    pi, iqr95, iqr05 = permutation_importance(\n",
    "        dt=data[test_mask][cols_pred + [col_target]], \n",
    "        predictor=pred,\n",
    "        target=col_target,\n",
    "        model=booster,\n",
    "        n_iters=10\n",
    "    )\n",
    "    res.append((pred, pi, iqr05, iqr95))\n",
    "res = pd.DataFrame(res, columns = ['predictor', 'permutation_importance', 'iqr05', 'iqr95'])\n",
    "res"
   ]
  },
  {
   "cell_type": "markdown",
   "metadata": {},
   "source": [
    "## Marginal contribution"
   ]
  },
  {
   "cell_type": "code",
   "execution_count": 40,
   "metadata": {
    "ExecuteTime": {
     "end_time": "2021-12-04T18:51:12.904940Z",
     "start_time": "2021-12-04T18:50:48.400833Z"
    },
    "scrolled": true
   },
   "outputs": [
    {
     "data": {
      "application/vnd.jupyter.widget-view+json": {
       "model_id": "4cf3448bc5da48dd9e1aabd6c457bfd5",
       "version_major": 2,
       "version_minor": 0
      },
      "text/plain": [
       "  0%|          | 0/5 [00:00<?, ?it/s]"
      ]
     },
     "metadata": {},
     "output_type": "display_data"
    },
    {
     "name": "stdout",
     "output_type": "stream",
     "text": [
      "[0]\ttrain-auc:0.68472\ttest-auc:0.67386\tvalid-auc:0.68360\n",
      "[1]\ttrain-auc:0.70874\ttest-auc:0.68973\tvalid-auc:0.71066\n",
      "[2]\ttrain-auc:0.71631\ttest-auc:0.69490\tvalid-auc:0.71795\n",
      "[3]\ttrain-auc:0.72251\ttest-auc:0.69895\tvalid-auc:0.72242\n",
      "[4]\ttrain-auc:0.72644\ttest-auc:0.70214\tvalid-auc:0.72619\n",
      "[5]\ttrain-auc:0.72893\ttest-auc:0.70454\tvalid-auc:0.72746\n",
      "[6]\ttrain-auc:0.73252\ttest-auc:0.70720\tvalid-auc:0.72960\n",
      "[7]\ttrain-auc:0.73522\ttest-auc:0.70999\tvalid-auc:0.73168\n",
      "[8]\ttrain-auc:0.73686\ttest-auc:0.71063\tvalid-auc:0.73251\n",
      "[9]\ttrain-auc:0.74160\ttest-auc:0.71394\tvalid-auc:0.73608\n",
      "[10]\ttrain-auc:0.74294\ttest-auc:0.71564\tvalid-auc:0.73677\n",
      "[11]\ttrain-auc:0.74560\ttest-auc:0.71703\tvalid-auc:0.73830\n",
      "[12]\ttrain-auc:0.74756\ttest-auc:0.71876\tvalid-auc:0.73954\n",
      "[13]\ttrain-auc:0.74941\ttest-auc:0.71975\tvalid-auc:0.74115\n",
      "[14]\ttrain-auc:0.75104\ttest-auc:0.72109\tvalid-auc:0.74173\n",
      "[15]\ttrain-auc:0.75291\ttest-auc:0.72230\tvalid-auc:0.74265\n",
      "[16]\ttrain-auc:0.75508\ttest-auc:0.72326\tvalid-auc:0.74438\n",
      "[17]\ttrain-auc:0.75604\ttest-auc:0.72454\tvalid-auc:0.74507\n",
      "[18]\ttrain-auc:0.75889\ttest-auc:0.72701\tvalid-auc:0.74740\n",
      "[19]\ttrain-auc:0.76005\ttest-auc:0.72722\tvalid-auc:0.74822\n",
      "[20]\ttrain-auc:0.76091\ttest-auc:0.72771\tvalid-auc:0.74856\n",
      "[21]\ttrain-auc:0.76208\ttest-auc:0.72783\tvalid-auc:0.74960\n",
      "[22]\ttrain-auc:0.76335\ttest-auc:0.72803\tvalid-auc:0.74964\n",
      "[23]\ttrain-auc:0.76414\ttest-auc:0.72808\tvalid-auc:0.74993\n",
      "[24]\ttrain-auc:0.76536\ttest-auc:0.72855\tvalid-auc:0.75019\n",
      "[25]\ttrain-auc:0.76646\ttest-auc:0.72845\tvalid-auc:0.75067\n",
      "[26]\ttrain-auc:0.76736\ttest-auc:0.72955\tvalid-auc:0.75112\n",
      "[27]\ttrain-auc:0.76798\ttest-auc:0.72966\tvalid-auc:0.75116\n",
      "[28]\ttrain-auc:0.76926\ttest-auc:0.73053\tvalid-auc:0.75120\n",
      "[29]\ttrain-auc:0.77016\ttest-auc:0.73033\tvalid-auc:0.75094\n",
      "[30]\ttrain-auc:0.77121\ttest-auc:0.72984\tvalid-auc:0.75159\n",
      "[31]\ttrain-auc:0.77224\ttest-auc:0.72956\tvalid-auc:0.75190\n",
      "[32]\ttrain-auc:0.77278\ttest-auc:0.72984\tvalid-auc:0.75184\n",
      "[33]\ttrain-auc:0.77354\ttest-auc:0.73011\tvalid-auc:0.75170\n",
      "[34]\ttrain-auc:0.77447\ttest-auc:0.73045\tvalid-auc:0.75223\n",
      "[35]\ttrain-auc:0.77536\ttest-auc:0.73065\tvalid-auc:0.75235\n",
      "[36]\ttrain-auc:0.77658\ttest-auc:0.73055\tvalid-auc:0.75303\n",
      "[37]\ttrain-auc:0.77732\ttest-auc:0.73062\tvalid-auc:0.75324\n",
      "[38]\ttrain-auc:0.77820\ttest-auc:0.73074\tvalid-auc:0.75327\n",
      "[39]\ttrain-auc:0.77880\ttest-auc:0.73044\tvalid-auc:0.75313\n",
      "[40]\ttrain-auc:0.77936\ttest-auc:0.73055\tvalid-auc:0.75321\n",
      "[41]\ttrain-auc:0.77961\ttest-auc:0.73066\tvalid-auc:0.75338\n",
      "[42]\ttrain-auc:0.77977\ttest-auc:0.73048\tvalid-auc:0.75348\n",
      "[43]\ttrain-auc:0.78036\ttest-auc:0.73082\tvalid-auc:0.75364\n",
      "[44]\ttrain-auc:0.78134\ttest-auc:0.73135\tvalid-auc:0.75381\n",
      "[45]\ttrain-auc:0.78188\ttest-auc:0.73124\tvalid-auc:0.75364\n",
      "[46]\ttrain-auc:0.78272\ttest-auc:0.73140\tvalid-auc:0.75378\n",
      "[47]\ttrain-auc:0.78306\ttest-auc:0.73165\tvalid-auc:0.75400\n",
      "[48]\ttrain-auc:0.78363\ttest-auc:0.73167\tvalid-auc:0.75412\n",
      "[49]\ttrain-auc:0.78425\ttest-auc:0.73170\tvalid-auc:0.75445\n",
      "[50]\ttrain-auc:0.78484\ttest-auc:0.73183\tvalid-auc:0.75453\n",
      "[51]\ttrain-auc:0.78551\ttest-auc:0.73200\tvalid-auc:0.75487\n",
      "[52]\ttrain-auc:0.78588\ttest-auc:0.73197\tvalid-auc:0.75484\n",
      "[53]\ttrain-auc:0.78638\ttest-auc:0.73203\tvalid-auc:0.75411\n",
      "[54]\ttrain-auc:0.78716\ttest-auc:0.73207\tvalid-auc:0.75424\n",
      "[55]\ttrain-auc:0.78751\ttest-auc:0.73193\tvalid-auc:0.75424\n",
      "[56]\ttrain-auc:0.78841\ttest-auc:0.73216\tvalid-auc:0.75462\n",
      "[57]\ttrain-auc:0.78907\ttest-auc:0.73209\tvalid-auc:0.75485\n",
      "[58]\ttrain-auc:0.78940\ttest-auc:0.73225\tvalid-auc:0.75505\n",
      "[59]\ttrain-auc:0.78987\ttest-auc:0.73214\tvalid-auc:0.75489\n",
      "[60]\ttrain-auc:0.79040\ttest-auc:0.73231\tvalid-auc:0.75501\n",
      "[61]\ttrain-auc:0.79112\ttest-auc:0.73272\tvalid-auc:0.75481\n",
      "[62]\ttrain-auc:0.79164\ttest-auc:0.73244\tvalid-auc:0.75502\n",
      "[63]\ttrain-auc:0.79188\ttest-auc:0.73252\tvalid-auc:0.75522\n",
      "[64]\ttrain-auc:0.79237\ttest-auc:0.73258\tvalid-auc:0.75526\n",
      "[65]\ttrain-auc:0.79266\ttest-auc:0.73274\tvalid-auc:0.75525\n",
      "[66]\ttrain-auc:0.79293\ttest-auc:0.73280\tvalid-auc:0.75538\n",
      "[67]\ttrain-auc:0.79336\ttest-auc:0.73270\tvalid-auc:0.75514\n",
      "[68]\ttrain-auc:0.79360\ttest-auc:0.73293\tvalid-auc:0.75514\n",
      "[69]\ttrain-auc:0.79435\ttest-auc:0.73305\tvalid-auc:0.75551\n",
      "[70]\ttrain-auc:0.79531\ttest-auc:0.73375\tvalid-auc:0.75547\n",
      "[71]\ttrain-auc:0.79566\ttest-auc:0.73365\tvalid-auc:0.75539\n",
      "[72]\ttrain-auc:0.79603\ttest-auc:0.73334\tvalid-auc:0.75523\n",
      "[73]\ttrain-auc:0.79616\ttest-auc:0.73331\tvalid-auc:0.75499\n",
      "[74]\ttrain-auc:0.79629\ttest-auc:0.73327\tvalid-auc:0.75506\n",
      "[75]\ttrain-auc:0.79705\ttest-auc:0.73376\tvalid-auc:0.75546\n",
      "[76]\ttrain-auc:0.79733\ttest-auc:0.73374\tvalid-auc:0.75537\n",
      "[77]\ttrain-auc:0.79796\ttest-auc:0.73393\tvalid-auc:0.75525\n",
      "[78]\ttrain-auc:0.79891\ttest-auc:0.73395\tvalid-auc:0.75486\n",
      "[79]\ttrain-auc:0.79932\ttest-auc:0.73399\tvalid-auc:0.75528\n",
      "[80]\ttrain-auc:0.79955\ttest-auc:0.73394\tvalid-auc:0.75519\n",
      "[81]\ttrain-auc:0.80010\ttest-auc:0.73360\tvalid-auc:0.75509\n",
      "[82]\ttrain-auc:0.80067\ttest-auc:0.73354\tvalid-auc:0.75502\n",
      "[83]\ttrain-auc:0.80104\ttest-auc:0.73367\tvalid-auc:0.75511\n",
      "[84]\ttrain-auc:0.80175\ttest-auc:0.73375\tvalid-auc:0.75534\n",
      "[85]\ttrain-auc:0.80239\ttest-auc:0.73394\tvalid-auc:0.75460\n",
      "[86]\ttrain-auc:0.80294\ttest-auc:0.73388\tvalid-auc:0.75459\n",
      "[87]\ttrain-auc:0.80326\ttest-auc:0.73419\tvalid-auc:0.75521\n",
      "[88]\ttrain-auc:0.80380\ttest-auc:0.73430\tvalid-auc:0.75525\n",
      "[0]\ttrain-auc:0.68472\ttest-auc:0.67386\tvalid-auc:0.68360\n",
      "[1]\ttrain-auc:0.70874\ttest-auc:0.68973\tvalid-auc:0.71066\n",
      "[2]\ttrain-auc:0.71631\ttest-auc:0.69490\tvalid-auc:0.71795\n",
      "[3]\ttrain-auc:0.72251\ttest-auc:0.69895\tvalid-auc:0.72242\n",
      "[4]\ttrain-auc:0.72644\ttest-auc:0.70214\tvalid-auc:0.72619\n",
      "[5]\ttrain-auc:0.72893\ttest-auc:0.70454\tvalid-auc:0.72746\n",
      "[6]\ttrain-auc:0.73252\ttest-auc:0.70720\tvalid-auc:0.72960\n",
      "[7]\ttrain-auc:0.73522\ttest-auc:0.70999\tvalid-auc:0.73168\n",
      "[8]\ttrain-auc:0.73686\ttest-auc:0.71063\tvalid-auc:0.73251\n",
      "[9]\ttrain-auc:0.74160\ttest-auc:0.71394\tvalid-auc:0.73608\n",
      "[10]\ttrain-auc:0.74294\ttest-auc:0.71564\tvalid-auc:0.73677\n",
      "[11]\ttrain-auc:0.74560\ttest-auc:0.71703\tvalid-auc:0.73830\n",
      "[12]\ttrain-auc:0.74756\ttest-auc:0.71876\tvalid-auc:0.73954\n",
      "[13]\ttrain-auc:0.74941\ttest-auc:0.71975\tvalid-auc:0.74115\n",
      "[14]\ttrain-auc:0.75104\ttest-auc:0.72109\tvalid-auc:0.74173\n",
      "[15]\ttrain-auc:0.75291\ttest-auc:0.72230\tvalid-auc:0.74265\n",
      "[16]\ttrain-auc:0.75508\ttest-auc:0.72326\tvalid-auc:0.74438\n",
      "[17]\ttrain-auc:0.75604\ttest-auc:0.72454\tvalid-auc:0.74507\n",
      "[18]\ttrain-auc:0.75889\ttest-auc:0.72701\tvalid-auc:0.74740\n",
      "[19]\ttrain-auc:0.76005\ttest-auc:0.72722\tvalid-auc:0.74822\n",
      "[20]\ttrain-auc:0.76091\ttest-auc:0.72771\tvalid-auc:0.74856\n",
      "[21]\ttrain-auc:0.76208\ttest-auc:0.72783\tvalid-auc:0.74960\n",
      "[22]\ttrain-auc:0.76335\ttest-auc:0.72803\tvalid-auc:0.74964\n",
      "[23]\ttrain-auc:0.76414\ttest-auc:0.72808\tvalid-auc:0.74993\n",
      "[24]\ttrain-auc:0.76536\ttest-auc:0.72855\tvalid-auc:0.75019\n",
      "[25]\ttrain-auc:0.76646\ttest-auc:0.72845\tvalid-auc:0.75067\n",
      "[26]\ttrain-auc:0.76736\ttest-auc:0.72955\tvalid-auc:0.75112\n",
      "[27]\ttrain-auc:0.76798\ttest-auc:0.72966\tvalid-auc:0.75116\n",
      "[28]\ttrain-auc:0.76926\ttest-auc:0.73053\tvalid-auc:0.75120\n",
      "[29]\ttrain-auc:0.77016\ttest-auc:0.73033\tvalid-auc:0.75094\n",
      "[30]\ttrain-auc:0.77121\ttest-auc:0.72984\tvalid-auc:0.75159\n",
      "[31]\ttrain-auc:0.77224\ttest-auc:0.72956\tvalid-auc:0.75190\n",
      "[32]\ttrain-auc:0.77278\ttest-auc:0.72984\tvalid-auc:0.75184\n",
      "[33]\ttrain-auc:0.77354\ttest-auc:0.73011\tvalid-auc:0.75170\n",
      "[34]\ttrain-auc:0.77447\ttest-auc:0.73045\tvalid-auc:0.75223\n",
      "[35]\ttrain-auc:0.77536\ttest-auc:0.73065\tvalid-auc:0.75235\n",
      "[36]\ttrain-auc:0.77658\ttest-auc:0.73055\tvalid-auc:0.75303\n",
      "[37]\ttrain-auc:0.77732\ttest-auc:0.73062\tvalid-auc:0.75324\n",
      "[38]\ttrain-auc:0.77820\ttest-auc:0.73074\tvalid-auc:0.75327\n",
      "[39]\ttrain-auc:0.77880\ttest-auc:0.73044\tvalid-auc:0.75313\n",
      "[40]\ttrain-auc:0.77936\ttest-auc:0.73055\tvalid-auc:0.75321\n",
      "[41]\ttrain-auc:0.77961\ttest-auc:0.73066\tvalid-auc:0.75338\n",
      "[42]\ttrain-auc:0.77977\ttest-auc:0.73048\tvalid-auc:0.75348\n",
      "[43]\ttrain-auc:0.78036\ttest-auc:0.73082\tvalid-auc:0.75364\n",
      "[44]\ttrain-auc:0.78134\ttest-auc:0.73135\tvalid-auc:0.75381\n",
      "[45]\ttrain-auc:0.78188\ttest-auc:0.73124\tvalid-auc:0.75364\n",
      "[46]\ttrain-auc:0.78272\ttest-auc:0.73140\tvalid-auc:0.75378\n",
      "[47]\ttrain-auc:0.78306\ttest-auc:0.73165\tvalid-auc:0.75400\n",
      "[48]\ttrain-auc:0.78363\ttest-auc:0.73167\tvalid-auc:0.75412\n",
      "[49]\ttrain-auc:0.78425\ttest-auc:0.73170\tvalid-auc:0.75445\n",
      "[50]\ttrain-auc:0.78484\ttest-auc:0.73183\tvalid-auc:0.75453\n",
      "[51]\ttrain-auc:0.78551\ttest-auc:0.73200\tvalid-auc:0.75487\n",
      "[52]\ttrain-auc:0.78591\ttest-auc:0.73200\tvalid-auc:0.75504\n",
      "[53]\ttrain-auc:0.78641\ttest-auc:0.73206\tvalid-auc:0.75431\n",
      "[54]\ttrain-auc:0.78720\ttest-auc:0.73210\tvalid-auc:0.75444\n",
      "[55]\ttrain-auc:0.78783\ttest-auc:0.73204\tvalid-auc:0.75468\n",
      "[56]\ttrain-auc:0.78838\ttest-auc:0.73195\tvalid-auc:0.75452\n",
      "[57]\ttrain-auc:0.78906\ttest-auc:0.73188\tvalid-auc:0.75476\n",
      "[58]\ttrain-auc:0.78937\ttest-auc:0.73210\tvalid-auc:0.75496\n",
      "[59]\ttrain-auc:0.78993\ttest-auc:0.73245\tvalid-auc:0.75530\n",
      "[60]\ttrain-auc:0.79064\ttest-auc:0.73281\tvalid-auc:0.75522\n",
      "[61]\ttrain-auc:0.79094\ttest-auc:0.73283\tvalid-auc:0.75547\n",
      "[62]\ttrain-auc:0.79136\ttest-auc:0.73307\tvalid-auc:0.75561\n",
      "[63]\ttrain-auc:0.79172\ttest-auc:0.73323\tvalid-auc:0.75548\n",
      "[64]\ttrain-auc:0.79225\ttest-auc:0.73302\tvalid-auc:0.75526\n",
      "[65]\ttrain-auc:0.79264\ttest-auc:0.73309\tvalid-auc:0.75550\n",
      "[66]\ttrain-auc:0.79346\ttest-auc:0.73308\tvalid-auc:0.75523\n",
      "[67]\ttrain-auc:0.79364\ttest-auc:0.73304\tvalid-auc:0.75532\n",
      "[68]\ttrain-auc:0.79423\ttest-auc:0.73323\tvalid-auc:0.75565\n",
      "[69]\ttrain-auc:0.79449\ttest-auc:0.73292\tvalid-auc:0.75547\n",
      "[70]\ttrain-auc:0.79461\ttest-auc:0.73289\tvalid-auc:0.75524\n",
      "[71]\ttrain-auc:0.79479\ttest-auc:0.73276\tvalid-auc:0.75532\n",
      "[72]\ttrain-auc:0.79524\ttest-auc:0.73271\tvalid-auc:0.75525\n",
      "[73]\ttrain-auc:0.79577\ttest-auc:0.73257\tvalid-auc:0.75527\n",
      "[74]\ttrain-auc:0.79645\ttest-auc:0.73243\tvalid-auc:0.75519\n",
      "[75]\ttrain-auc:0.79692\ttest-auc:0.73255\tvalid-auc:0.75504\n",
      "[76]\ttrain-auc:0.79728\ttest-auc:0.73262\tvalid-auc:0.75511\n",
      "[77]\ttrain-auc:0.79774\ttest-auc:0.73292\tvalid-auc:0.75527\n",
      "[78]\ttrain-auc:0.79817\ttest-auc:0.73275\tvalid-auc:0.75509\n",
      "[79]\ttrain-auc:0.79832\ttest-auc:0.73284\tvalid-auc:0.75509\n",
      "[80]\ttrain-auc:0.79855\ttest-auc:0.73298\tvalid-auc:0.75528\n",
      "[81]\ttrain-auc:0.79870\ttest-auc:0.73295\tvalid-auc:0.75510\n",
      "[82]\ttrain-auc:0.79929\ttest-auc:0.73293\tvalid-auc:0.75511\n",
      "[83]\ttrain-auc:0.79995\ttest-auc:0.73313\tvalid-auc:0.75433\n",
      "[84]\ttrain-auc:0.80042\ttest-auc:0.73285\tvalid-auc:0.75427\n",
      "[85]\ttrain-auc:0.80085\ttest-auc:0.73274\tvalid-auc:0.75427\n",
      "[86]\ttrain-auc:0.80145\ttest-auc:0.73342\tvalid-auc:0.75472\n",
      "[87]\ttrain-auc:0.80188\ttest-auc:0.73371\tvalid-auc:0.75485\n",
      "[0]\ttrain-auc:0.68472\ttest-auc:0.67386\tvalid-auc:0.68360\n",
      "[1]\ttrain-auc:0.70874\ttest-auc:0.68973\tvalid-auc:0.71066\n",
      "[2]\ttrain-auc:0.71631\ttest-auc:0.69490\tvalid-auc:0.71795\n",
      "[3]\ttrain-auc:0.72251\ttest-auc:0.69895\tvalid-auc:0.72242\n",
      "[4]\ttrain-auc:0.72644\ttest-auc:0.70214\tvalid-auc:0.72619\n",
      "[5]\ttrain-auc:0.72893\ttest-auc:0.70454\tvalid-auc:0.72746\n",
      "[6]\ttrain-auc:0.73252\ttest-auc:0.70720\tvalid-auc:0.72960\n",
      "[7]\ttrain-auc:0.73522\ttest-auc:0.70999\tvalid-auc:0.73168\n",
      "[8]\ttrain-auc:0.73686\ttest-auc:0.71063\tvalid-auc:0.73251\n",
      "[9]\ttrain-auc:0.74132\ttest-auc:0.71406\tvalid-auc:0.73567\n",
      "[10]\ttrain-auc:0.74395\ttest-auc:0.71646\tvalid-auc:0.73790\n",
      "[11]\ttrain-auc:0.74515\ttest-auc:0.71760\tvalid-auc:0.73802\n",
      "[12]\ttrain-auc:0.74705\ttest-auc:0.71925\tvalid-auc:0.73929\n",
      "[13]\ttrain-auc:0.74960\ttest-auc:0.72060\tvalid-auc:0.74163\n",
      "[14]\ttrain-auc:0.75181\ttest-auc:0.72195\tvalid-auc:0.74244\n",
      "[15]\ttrain-auc:0.75384\ttest-auc:0.72328\tvalid-auc:0.74463\n",
      "[16]\ttrain-auc:0.75474\ttest-auc:0.72410\tvalid-auc:0.74427\n",
      "[17]\ttrain-auc:0.75610\ttest-auc:0.72508\tvalid-auc:0.74499\n",
      "[18]\ttrain-auc:0.75731\ttest-auc:0.72554\tvalid-auc:0.74562\n",
      "[19]\ttrain-auc:0.75905\ttest-auc:0.72589\tvalid-auc:0.74592\n",
      "[20]\ttrain-auc:0.76062\ttest-auc:0.72656\tvalid-auc:0.74591\n",
      "[21]\ttrain-auc:0.76187\ttest-auc:0.72742\tvalid-auc:0.74683\n",
      "[22]\ttrain-auc:0.76313\ttest-auc:0.72793\tvalid-auc:0.74758\n",
      "[23]\ttrain-auc:0.76377\ttest-auc:0.72803\tvalid-auc:0.74786\n",
      "[24]\ttrain-auc:0.76547\ttest-auc:0.72963\tvalid-auc:0.74957\n",
      "[25]\ttrain-auc:0.76623\ttest-auc:0.72980\tvalid-auc:0.74978\n",
      "[26]\ttrain-auc:0.76725\ttest-auc:0.72967\tvalid-auc:0.75005\n",
      "[27]\ttrain-auc:0.76792\ttest-auc:0.73002\tvalid-auc:0.75003\n",
      "[28]\ttrain-auc:0.76897\ttest-auc:0.73078\tvalid-auc:0.75047\n",
      "[29]\ttrain-auc:0.76998\ttest-auc:0.73125\tvalid-auc:0.75124\n",
      "[30]\ttrain-auc:0.77077\ttest-auc:0.73096\tvalid-auc:0.75176\n",
      "[31]\ttrain-auc:0.77168\ttest-auc:0.73066\tvalid-auc:0.75187\n",
      "[32]\ttrain-auc:0.77263\ttest-auc:0.73063\tvalid-auc:0.75204\n",
      "[33]\ttrain-auc:0.77325\ttest-auc:0.73071\tvalid-auc:0.75177\n",
      "[34]\ttrain-auc:0.77408\ttest-auc:0.73102\tvalid-auc:0.75215\n",
      "[35]\ttrain-auc:0.77499\ttest-auc:0.73114\tvalid-auc:0.75218\n",
      "[36]\ttrain-auc:0.77576\ttest-auc:0.73103\tvalid-auc:0.75248\n",
      "[37]\ttrain-auc:0.77679\ttest-auc:0.73145\tvalid-auc:0.75246\n",
      "[38]\ttrain-auc:0.77729\ttest-auc:0.73218\tvalid-auc:0.75245\n",
      "[39]\ttrain-auc:0.77772\ttest-auc:0.73250\tvalid-auc:0.75272\n",
      "[40]\ttrain-auc:0.77820\ttest-auc:0.73226\tvalid-auc:0.75277\n",
      "[41]\ttrain-auc:0.77869\ttest-auc:0.73258\tvalid-auc:0.75287\n",
      "[42]\ttrain-auc:0.77949\ttest-auc:0.73258\tvalid-auc:0.75297\n",
      "[43]\ttrain-auc:0.77994\ttest-auc:0.73294\tvalid-auc:0.75302\n",
      "[44]\ttrain-auc:0.78057\ttest-auc:0.73310\tvalid-auc:0.75305\n",
      "[45]\ttrain-auc:0.78104\ttest-auc:0.73304\tvalid-auc:0.75307\n",
      "[46]\ttrain-auc:0.78159\ttest-auc:0.73321\tvalid-auc:0.75323\n",
      "[47]\ttrain-auc:0.78197\ttest-auc:0.73307\tvalid-auc:0.75328\n",
      "[48]\ttrain-auc:0.78241\ttest-auc:0.73308\tvalid-auc:0.75345\n",
      "[49]\ttrain-auc:0.78336\ttest-auc:0.73282\tvalid-auc:0.75337\n",
      "[50]\ttrain-auc:0.78417\ttest-auc:0.73305\tvalid-auc:0.75260\n",
      "[51]\ttrain-auc:0.78504\ttest-auc:0.73316\tvalid-auc:0.75265\n",
      "[52]\ttrain-auc:0.78573\ttest-auc:0.73332\tvalid-auc:0.75260\n",
      "[53]\ttrain-auc:0.78617\ttest-auc:0.73317\tvalid-auc:0.75250\n",
      "[54]\ttrain-auc:0.78674\ttest-auc:0.73304\tvalid-auc:0.75307\n",
      "[55]\ttrain-auc:0.78698\ttest-auc:0.73291\tvalid-auc:0.75297\n",
      "[56]\ttrain-auc:0.78757\ttest-auc:0.73281\tvalid-auc:0.75269\n",
      "[57]\ttrain-auc:0.78806\ttest-auc:0.73297\tvalid-auc:0.75290\n",
      "[58]\ttrain-auc:0.78844\ttest-auc:0.73318\tvalid-auc:0.75316\n",
      "[59]\ttrain-auc:0.78878\ttest-auc:0.73306\tvalid-auc:0.75301\n",
      "[60]\ttrain-auc:0.78943\ttest-auc:0.73308\tvalid-auc:0.75330\n",
      "[61]\ttrain-auc:0.78965\ttest-auc:0.73324\tvalid-auc:0.75333\n",
      "[62]\ttrain-auc:0.78997\ttest-auc:0.73335\tvalid-auc:0.75318\n",
      "[63]\ttrain-auc:0.79049\ttest-auc:0.73349\tvalid-auc:0.75342\n",
      "[64]\ttrain-auc:0.79115\ttest-auc:0.73353\tvalid-auc:0.75340\n",
      "[65]\ttrain-auc:0.79176\ttest-auc:0.73362\tvalid-auc:0.75330\n",
      "[66]\ttrain-auc:0.79264\ttest-auc:0.73357\tvalid-auc:0.75294\n",
      "[67]\ttrain-auc:0.79280\ttest-auc:0.73352\tvalid-auc:0.75272\n",
      "[68]\ttrain-auc:0.79308\ttest-auc:0.73355\tvalid-auc:0.75294\n",
      "[0]\ttrain-auc:0.68472\ttest-auc:0.67386\tvalid-auc:0.68360\n",
      "[1]\ttrain-auc:0.70874\ttest-auc:0.68973\tvalid-auc:0.71066\n",
      "[2]\ttrain-auc:0.71631\ttest-auc:0.69490\tvalid-auc:0.71795\n",
      "[3]\ttrain-auc:0.72251\ttest-auc:0.69895\tvalid-auc:0.72242\n",
      "[4]\ttrain-auc:0.72644\ttest-auc:0.70214\tvalid-auc:0.72619\n",
      "[5]\ttrain-auc:0.72892\ttest-auc:0.70443\tvalid-auc:0.72741\n",
      "[6]\ttrain-auc:0.73251\ttest-auc:0.70710\tvalid-auc:0.72954\n",
      "[7]\ttrain-auc:0.73522\ttest-auc:0.70989\tvalid-auc:0.73163\n",
      "[8]\ttrain-auc:0.73848\ttest-auc:0.71147\tvalid-auc:0.73387\n",
      "[9]\ttrain-auc:0.74140\ttest-auc:0.71349\tvalid-auc:0.73472\n",
      "[10]\ttrain-auc:0.74422\ttest-auc:0.71568\tvalid-auc:0.73606\n",
      "[11]\ttrain-auc:0.74539\ttest-auc:0.71718\tvalid-auc:0.73669\n",
      "[12]\ttrain-auc:0.74720\ttest-auc:0.71869\tvalid-auc:0.73735\n",
      "[13]\ttrain-auc:0.74901\ttest-auc:0.71947\tvalid-auc:0.73877\n",
      "[14]\ttrain-auc:0.75090\ttest-auc:0.72075\tvalid-auc:0.74016\n",
      "[15]\ttrain-auc:0.75326\ttest-auc:0.72244\tvalid-auc:0.74194\n",
      "[16]\ttrain-auc:0.75533\ttest-auc:0.72340\tvalid-auc:0.74408\n",
      "[17]\ttrain-auc:0.75611\ttest-auc:0.72456\tvalid-auc:0.74509\n",
      "[18]\ttrain-auc:0.75722\ttest-auc:0.72531\tvalid-auc:0.74612\n",
      "[19]\ttrain-auc:0.75885\ttest-auc:0.72581\tvalid-auc:0.74652\n",
      "[20]\ttrain-auc:0.76104\ttest-auc:0.72722\tvalid-auc:0.74798\n",
      "[21]\ttrain-auc:0.76192\ttest-auc:0.72760\tvalid-auc:0.74830\n",
      "[22]\ttrain-auc:0.76300\ttest-auc:0.72758\tvalid-auc:0.74865\n",
      "[23]\ttrain-auc:0.76397\ttest-auc:0.72824\tvalid-auc:0.74946\n",
      "[24]\ttrain-auc:0.76496\ttest-auc:0.72808\tvalid-auc:0.74951\n",
      "[25]\ttrain-auc:0.76564\ttest-auc:0.72804\tvalid-auc:0.74950\n",
      "[26]\ttrain-auc:0.76677\ttest-auc:0.72766\tvalid-auc:0.75012\n",
      "[27]\ttrain-auc:0.76776\ttest-auc:0.72783\tvalid-auc:0.75021\n",
      "[28]\ttrain-auc:0.76830\ttest-auc:0.72823\tvalid-auc:0.75069\n",
      "[29]\ttrain-auc:0.76976\ttest-auc:0.72942\tvalid-auc:0.75152\n",
      "[30]\ttrain-auc:0.77038\ttest-auc:0.72988\tvalid-auc:0.75174\n",
      "[31]\ttrain-auc:0.77139\ttest-auc:0.73001\tvalid-auc:0.75173\n",
      "[32]\ttrain-auc:0.77218\ttest-auc:0.73004\tvalid-auc:0.75193\n",
      "[33]\ttrain-auc:0.77316\ttest-auc:0.73023\tvalid-auc:0.75244\n",
      "[34]\ttrain-auc:0.77420\ttest-auc:0.73017\tvalid-auc:0.75280\n",
      "[35]\ttrain-auc:0.77496\ttest-auc:0.73059\tvalid-auc:0.75285\n",
      "[36]\ttrain-auc:0.77587\ttest-auc:0.73054\tvalid-auc:0.75319\n",
      "[37]\ttrain-auc:0.77673\ttest-auc:0.73039\tvalid-auc:0.75309\n",
      "[38]\ttrain-auc:0.77751\ttest-auc:0.73040\tvalid-auc:0.75309\n",
      "[39]\ttrain-auc:0.77805\ttest-auc:0.73038\tvalid-auc:0.75308\n",
      "[40]\ttrain-auc:0.77854\ttest-auc:0.73047\tvalid-auc:0.75323\n",
      "[41]\ttrain-auc:0.77874\ttest-auc:0.73047\tvalid-auc:0.75307\n",
      "[42]\ttrain-auc:0.77928\ttest-auc:0.73072\tvalid-auc:0.75293\n",
      "[43]\ttrain-auc:0.77983\ttest-auc:0.73097\tvalid-auc:0.75324\n",
      "[44]\ttrain-auc:0.78032\ttest-auc:0.73100\tvalid-auc:0.75311\n",
      "[45]\ttrain-auc:0.78102\ttest-auc:0.73113\tvalid-auc:0.75311\n",
      "[46]\ttrain-auc:0.78131\ttest-auc:0.73098\tvalid-auc:0.75296\n",
      "[47]\ttrain-auc:0.78196\ttest-auc:0.73126\tvalid-auc:0.75321\n",
      "[48]\ttrain-auc:0.78253\ttest-auc:0.73136\tvalid-auc:0.75346\n",
      "[49]\ttrain-auc:0.78328\ttest-auc:0.73164\tvalid-auc:0.75333\n",
      "[50]\ttrain-auc:0.78367\ttest-auc:0.73158\tvalid-auc:0.75351\n",
      "[51]\ttrain-auc:0.78432\ttest-auc:0.73166\tvalid-auc:0.75362\n",
      "[52]\ttrain-auc:0.78506\ttest-auc:0.73166\tvalid-auc:0.75368\n",
      "[53]\ttrain-auc:0.78574\ttest-auc:0.73197\tvalid-auc:0.75368\n",
      "[54]\ttrain-auc:0.78634\ttest-auc:0.73210\tvalid-auc:0.75336\n",
      "[55]\ttrain-auc:0.78695\ttest-auc:0.73214\tvalid-auc:0.75349\n",
      "[56]\ttrain-auc:0.78724\ttest-auc:0.73223\tvalid-auc:0.75366\n",
      "[57]\ttrain-auc:0.78781\ttest-auc:0.73235\tvalid-auc:0.75330\n",
      "[58]\ttrain-auc:0.78849\ttest-auc:0.73225\tvalid-auc:0.75295\n",
      "[59]\ttrain-auc:0.78880\ttest-auc:0.73227\tvalid-auc:0.75326\n",
      "[60]\ttrain-auc:0.78915\ttest-auc:0.73228\tvalid-auc:0.75340\n",
      "[61]\ttrain-auc:0.78960\ttest-auc:0.73224\tvalid-auc:0.75356\n",
      "[62]\ttrain-auc:0.79002\ttest-auc:0.73197\tvalid-auc:0.75357\n",
      "[63]\ttrain-auc:0.79073\ttest-auc:0.73228\tvalid-auc:0.75371\n",
      "[64]\ttrain-auc:0.79108\ttest-auc:0.73253\tvalid-auc:0.75368\n",
      "[65]\ttrain-auc:0.79171\ttest-auc:0.73315\tvalid-auc:0.75381\n",
      "[66]\ttrain-auc:0.79209\ttest-auc:0.73342\tvalid-auc:0.75396\n",
      "[67]\ttrain-auc:0.79274\ttest-auc:0.73337\tvalid-auc:0.75424\n",
      "[68]\ttrain-auc:0.79332\ttest-auc:0.73330\tvalid-auc:0.75411\n",
      "[69]\ttrain-auc:0.79345\ttest-auc:0.73338\tvalid-auc:0.75419\n",
      "[70]\ttrain-auc:0.79390\ttest-auc:0.73334\tvalid-auc:0.75444\n",
      "[71]\ttrain-auc:0.79431\ttest-auc:0.73353\tvalid-auc:0.75434\n",
      "[72]\ttrain-auc:0.79535\ttest-auc:0.73356\tvalid-auc:0.75424\n",
      "[73]\ttrain-auc:0.79548\ttest-auc:0.73360\tvalid-auc:0.75439\n",
      "[74]\ttrain-auc:0.79584\ttest-auc:0.73363\tvalid-auc:0.75458\n",
      "[75]\ttrain-auc:0.79637\ttest-auc:0.73368\tvalid-auc:0.75453\n",
      "[76]\ttrain-auc:0.79666\ttest-auc:0.73378\tvalid-auc:0.75452\n",
      "[77]\ttrain-auc:0.79705\ttest-auc:0.73393\tvalid-auc:0.75458\n",
      "[78]\ttrain-auc:0.79727\ttest-auc:0.73366\tvalid-auc:0.75467\n",
      "[79]\ttrain-auc:0.79757\ttest-auc:0.73395\tvalid-auc:0.75495\n",
      "[80]\ttrain-auc:0.79822\ttest-auc:0.73380\tvalid-auc:0.75498\n",
      "[81]\ttrain-auc:0.79864\ttest-auc:0.73370\tvalid-auc:0.75500\n",
      "[82]\ttrain-auc:0.79931\ttest-auc:0.73371\tvalid-auc:0.75550\n",
      "[83]\ttrain-auc:0.79986\ttest-auc:0.73375\tvalid-auc:0.75535\n",
      "[84]\ttrain-auc:0.80002\ttest-auc:0.73385\tvalid-auc:0.75546\n",
      "[85]\ttrain-auc:0.80017\ttest-auc:0.73380\tvalid-auc:0.75538\n",
      "[86]\ttrain-auc:0.80031\ttest-auc:0.73378\tvalid-auc:0.75546\n",
      "[87]\ttrain-auc:0.80070\ttest-auc:0.73371\tvalid-auc:0.75545\n",
      "[88]\ttrain-auc:0.80102\ttest-auc:0.73378\tvalid-auc:0.75543\n",
      "[89]\ttrain-auc:0.80164\ttest-auc:0.73360\tvalid-auc:0.75526\n",
      "[90]\ttrain-auc:0.80228\ttest-auc:0.73397\tvalid-auc:0.75491\n",
      "[91]\ttrain-auc:0.80281\ttest-auc:0.73419\tvalid-auc:0.75500\n",
      "[92]\ttrain-auc:0.80337\ttest-auc:0.73424\tvalid-auc:0.75498\n",
      "[93]\ttrain-auc:0.80398\ttest-auc:0.73437\tvalid-auc:0.75514\n",
      "[94]\ttrain-auc:0.80477\ttest-auc:0.73450\tvalid-auc:0.75505\n",
      "[95]\ttrain-auc:0.80526\ttest-auc:0.73459\tvalid-auc:0.75475\n",
      "[96]\ttrain-auc:0.80551\ttest-auc:0.73459\tvalid-auc:0.75479\n",
      "[97]\ttrain-auc:0.80585\ttest-auc:0.73459\tvalid-auc:0.75469\n",
      "[98]\ttrain-auc:0.80619\ttest-auc:0.73468\tvalid-auc:0.75466\n",
      "[99]\ttrain-auc:0.80642\ttest-auc:0.73478\tvalid-auc:0.75481\n",
      "[100]\ttrain-auc:0.80657\ttest-auc:0.73477\tvalid-auc:0.75467\n",
      "[101]\ttrain-auc:0.80728\ttest-auc:0.73501\tvalid-auc:0.75487\n",
      "[102]\ttrain-auc:0.80748\ttest-auc:0.73489\tvalid-auc:0.75488\n",
      "[0]\ttrain-auc:0.68472\ttest-auc:0.67386\tvalid-auc:0.68360\n",
      "[1]\ttrain-auc:0.70874\ttest-auc:0.68973\tvalid-auc:0.71066\n",
      "[2]\ttrain-auc:0.71631\ttest-auc:0.69490\tvalid-auc:0.71795\n",
      "[3]\ttrain-auc:0.72251\ttest-auc:0.69895\tvalid-auc:0.72242\n",
      "[4]\ttrain-auc:0.72644\ttest-auc:0.70214\tvalid-auc:0.72619\n",
      "[5]\ttrain-auc:0.72886\ttest-auc:0.70427\tvalid-auc:0.72735\n",
      "[6]\ttrain-auc:0.73237\ttest-auc:0.70678\tvalid-auc:0.72947\n",
      "[7]\ttrain-auc:0.73513\ttest-auc:0.70947\tvalid-auc:0.73152\n",
      "[8]\ttrain-auc:0.73676\ttest-auc:0.71019\tvalid-auc:0.73241\n",
      "[9]\ttrain-auc:0.73981\ttest-auc:0.71265\tvalid-auc:0.73402\n",
      "[10]\ttrain-auc:0.74124\ttest-auc:0.71441\tvalid-auc:0.73479\n",
      "[11]\ttrain-auc:0.74378\ttest-auc:0.71576\tvalid-auc:0.73635\n",
      "[12]\ttrain-auc:0.74505\ttest-auc:0.71739\tvalid-auc:0.73706\n",
      "[13]\ttrain-auc:0.74726\ttest-auc:0.71933\tvalid-auc:0.73895\n",
      "[14]\ttrain-auc:0.74945\ttest-auc:0.72091\tvalid-auc:0.74021\n",
      "[15]\ttrain-auc:0.75083\ttest-auc:0.72216\tvalid-auc:0.74052\n",
      "[16]\ttrain-auc:0.75288\ttest-auc:0.72287\tvalid-auc:0.74177\n",
      "[17]\ttrain-auc:0.75441\ttest-auc:0.72341\tvalid-auc:0.74286\n",
      "[18]\ttrain-auc:0.75575\ttest-auc:0.72395\tvalid-auc:0.74364\n",
      "[19]\ttrain-auc:0.75727\ttest-auc:0.72442\tvalid-auc:0.74405\n",
      "[20]\ttrain-auc:0.75857\ttest-auc:0.72484\tvalid-auc:0.74466\n",
      "[21]\ttrain-auc:0.75963\ttest-auc:0.72517\tvalid-auc:0.74482\n",
      "[22]\ttrain-auc:0.76073\ttest-auc:0.72593\tvalid-auc:0.74590\n",
      "[23]\ttrain-auc:0.76147\ttest-auc:0.72601\tvalid-auc:0.74653\n",
      "[24]\ttrain-auc:0.76237\ttest-auc:0.72599\tvalid-auc:0.74668\n",
      "[25]\ttrain-auc:0.76321\ttest-auc:0.72694\tvalid-auc:0.74713\n",
      "[26]\ttrain-auc:0.76451\ttest-auc:0.72620\tvalid-auc:0.74743\n",
      "[27]\ttrain-auc:0.76595\ttest-auc:0.72667\tvalid-auc:0.74791\n",
      "[28]\ttrain-auc:0.76661\ttest-auc:0.72687\tvalid-auc:0.74780\n",
      "[29]\ttrain-auc:0.76751\ttest-auc:0.72695\tvalid-auc:0.74807\n",
      "[30]\ttrain-auc:0.76812\ttest-auc:0.72669\tvalid-auc:0.74795\n",
      "[31]\ttrain-auc:0.76923\ttest-auc:0.72698\tvalid-auc:0.74859\n",
      "[32]\ttrain-auc:0.77063\ttest-auc:0.72796\tvalid-auc:0.74907\n",
      "[33]\ttrain-auc:0.77151\ttest-auc:0.72805\tvalid-auc:0.74922\n",
      "[34]\ttrain-auc:0.77243\ttest-auc:0.72803\tvalid-auc:0.74959\n",
      "[35]\ttrain-auc:0.77292\ttest-auc:0.72794\tvalid-auc:0.74926\n",
      "[36]\ttrain-auc:0.77378\ttest-auc:0.72787\tvalid-auc:0.74912\n",
      "[37]\ttrain-auc:0.77463\ttest-auc:0.72811\tvalid-auc:0.74930\n",
      "[38]\ttrain-auc:0.77505\ttest-auc:0.72823\tvalid-auc:0.74929\n",
      "[39]\ttrain-auc:0.77548\ttest-auc:0.72851\tvalid-auc:0.74955\n",
      "[40]\ttrain-auc:0.77623\ttest-auc:0.72866\tvalid-auc:0.74986\n",
      "[41]\ttrain-auc:0.77696\ttest-auc:0.72906\tvalid-auc:0.74997\n",
      "[42]\ttrain-auc:0.77754\ttest-auc:0.72891\tvalid-auc:0.74995\n",
      "[43]\ttrain-auc:0.77776\ttest-auc:0.72901\tvalid-auc:0.75012\n",
      "[44]\ttrain-auc:0.77827\ttest-auc:0.72927\tvalid-auc:0.75041\n",
      "[45]\ttrain-auc:0.77919\ttest-auc:0.72920\tvalid-auc:0.75071\n",
      "[46]\ttrain-auc:0.77948\ttest-auc:0.72930\tvalid-auc:0.75091\n",
      "[47]\ttrain-auc:0.78007\ttest-auc:0.72950\tvalid-auc:0.75079\n",
      "[48]\ttrain-auc:0.78078\ttest-auc:0.72963\tvalid-auc:0.75121\n",
      "[49]\ttrain-auc:0.78100\ttest-auc:0.72958\tvalid-auc:0.75100\n",
      "[50]\ttrain-auc:0.78137\ttest-auc:0.72968\tvalid-auc:0.75106\n",
      "[51]\ttrain-auc:0.78222\ttest-auc:0.72967\tvalid-auc:0.75123\n",
      "[52]\ttrain-auc:0.78269\ttest-auc:0.72992\tvalid-auc:0.75113\n",
      "[53]\ttrain-auc:0.78343\ttest-auc:0.72988\tvalid-auc:0.75198\n",
      "[54]\ttrain-auc:0.78420\ttest-auc:0.73056\tvalid-auc:0.75250\n",
      "[55]\ttrain-auc:0.78502\ttest-auc:0.73089\tvalid-auc:0.75290\n",
      "[56]\ttrain-auc:0.78521\ttest-auc:0.73090\tvalid-auc:0.75289\n",
      "[57]\ttrain-auc:0.78560\ttest-auc:0.73091\tvalid-auc:0.75307\n",
      "[58]\ttrain-auc:0.78621\ttest-auc:0.73071\tvalid-auc:0.75312\n",
      "[59]\ttrain-auc:0.78707\ttest-auc:0.73061\tvalid-auc:0.75319\n",
      "[60]\ttrain-auc:0.78762\ttest-auc:0.73081\tvalid-auc:0.75348\n",
      "[61]\ttrain-auc:0.78805\ttest-auc:0.73083\tvalid-auc:0.75278\n",
      "[62]\ttrain-auc:0.78835\ttest-auc:0.73082\tvalid-auc:0.75281\n",
      "[63]\ttrain-auc:0.78886\ttest-auc:0.73069\tvalid-auc:0.75294\n",
      "[64]\ttrain-auc:0.78914\ttest-auc:0.73060\tvalid-auc:0.75297\n",
      "[65]\ttrain-auc:0.78927\ttest-auc:0.73071\tvalid-auc:0.75303\n",
      "[66]\ttrain-auc:0.78974\ttest-auc:0.73101\tvalid-auc:0.75299\n",
      "[67]\ttrain-auc:0.79021\ttest-auc:0.73083\tvalid-auc:0.75293\n",
      "[68]\ttrain-auc:0.79068\ttest-auc:0.73081\tvalid-auc:0.75299\n",
      "[69]\ttrain-auc:0.79133\ttest-auc:0.73104\tvalid-auc:0.75288\n",
      "[70]\ttrain-auc:0.79235\ttest-auc:0.73092\tvalid-auc:0.75268\n",
      "[71]\ttrain-auc:0.79290\ttest-auc:0.73102\tvalid-auc:0.75244\n",
      "[72]\ttrain-auc:0.79310\ttest-auc:0.73095\tvalid-auc:0.75220\n",
      "[73]\ttrain-auc:0.79378\ttest-auc:0.73111\tvalid-auc:0.75243\n",
      "[74]\ttrain-auc:0.79410\ttest-auc:0.73126\tvalid-auc:0.75246\n",
      "[75]\ttrain-auc:0.79460\ttest-auc:0.73170\tvalid-auc:0.75253\n",
      "[76]\ttrain-auc:0.79483\ttest-auc:0.73171\tvalid-auc:0.75250\n",
      "[77]\ttrain-auc:0.79542\ttest-auc:0.73146\tvalid-auc:0.75246\n",
      "[78]\ttrain-auc:0.79572\ttest-auc:0.73146\tvalid-auc:0.75297\n",
      "[79]\ttrain-auc:0.79604\ttest-auc:0.73147\tvalid-auc:0.75287\n",
      "[80]\ttrain-auc:0.79640\ttest-auc:0.73178\tvalid-auc:0.75278\n"
     ]
    }
   ],
   "source": [
    "def fit_model(predictors):\n",
    "    params={\n",
    "        'eta': 0.2,\n",
    "        'max_depth': 3,\n",
    "\n",
    "        'eval_metric': 'auc',\n",
    "        'objective': 'binary:logistic' ,\n",
    "        'booster': 'gbtree',\n",
    "        'tree_method': 'hist',\n",
    "\n",
    "        'base_score': 0.08,\n",
    "\n",
    "        'seed': 12\n",
    "    }\n",
    "\n",
    "    evals_result = {}\n",
    "\n",
    "    booster_mc = xgb.train(\n",
    "        params = params,\n",
    "        dtrain = xgb.DMatrix(data[train_mask][predictors], data[train_mask][col_target]),\n",
    "        num_boost_round = 1000,\n",
    "        evals = (\n",
    "            (xgb.DMatrix(data[train_mask][predictors], data[train_mask][col_target]), 'train'),\n",
    "            (xgb.DMatrix(data[test_mask][predictors], data[test_mask][col_target]), 'test'),\n",
    "            (xgb.DMatrix(data[valid_mask][predictors], data[valid_mask][col_target]), 'valid')\n",
    "        ),\n",
    "        evals_result = evals_result,\n",
    "        early_stopping_rounds = 20\n",
    "    )\n",
    "    \n",
    "    \n",
    "    prediction = booster_mc.predict(xgb.DMatrix(data[test_mask][predictors]))\n",
    "    return roc_auc_score(data[test_mask][col_target], prediction)\n",
    "\n",
    "prediction = booster.predict(xgb.DMatrix(data[test_mask][cols_pred]), iteration_range=(0,booster.best_iteration))\n",
    "auc_base = roc_auc_score(data[test_mask][col_target], prediction)\n",
    "\n",
    "marginal_contribution = []\n",
    "for pred in tqdm(cols_pred[0:5]):\n",
    "    auc = fit_model(predictors=[p for p in cols_pred if p != pred])\n",
    "    marginal_contribution.append((pred, auc_base - auc))"
   ]
  },
  {
   "cell_type": "code",
   "execution_count": 41,
   "metadata": {
    "ExecuteTime": {
     "end_time": "2021-12-04T18:51:17.293457Z",
     "start_time": "2021-12-04T18:51:17.288425Z"
    }
   },
   "outputs": [],
   "source": [
    "marginal_contribution = sorted(marginal_contribution, key=lambda x: x[1], reverse=False)"
   ]
  },
  {
   "cell_type": "code",
   "execution_count": 42,
   "metadata": {
    "ExecuteTime": {
     "end_time": "2021-12-04T18:51:18.107528Z",
     "start_time": "2021-12-04T18:51:18.091526Z"
    }
   },
   "outputs": [
    {
     "data": {
      "text/plain": [
       "[('AMT_ANNUITY', 0.003294343459197435),\n",
       " ('CNT_CHILDREN', 0.004005871015915763),\n",
       " ('AMT_INCOME_TOTAL', 0.004469701186495367),\n",
       " ('AMT_CREDIT', 0.0046338794839145825),\n",
       " ('AMT_GOODS_PRICE', 0.006407799507157974)]"
      ]
     },
     "execution_count": 42,
     "metadata": {},
     "output_type": "execute_result"
    }
   ],
   "source": [
    "marginal_contribution"
   ]
  },
  {
   "cell_type": "code",
   "execution_count": null,
   "metadata": {
    "ExecuteTime": {
     "end_time": "2021-12-04T18:51:19.935601Z",
     "start_time": "2021-12-04T18:51:19.779586Z"
    }
   },
   "outputs": [],
   "source": [
    "# feature_perm_importance = sorted(zip(cols_pred, pi['importances_mean']), key=lambda x: x[1], reverse=False)\n",
    "\n",
    "plt.figure(figsize=(6,10))\n",
    "ax = plt.subplot(1,1,1)\n",
    "ax.barh(range(len(marginal_contribution)), [imp for p, imp in marginal_contribution])\n",
    "ax.set_yticks(range(len(marginal_contribution)))\n",
    "ax.set_yticklabels([p for p, imp in marginal_contribution])\n",
    "\n",
    "ax.set_title('Feature marginal contribution')\n",
    "ax.spines['right'].set_visible(False)\n",
    "ax.spines['top'].set_visible(False)\n",
    "ax.spines['left'].set_color('gray')\n",
    "ax.spines['bottom'].set_color('gray')\n",
    "ax.tick_params(axis='x', colors='gray')\n",
    "ax.tick_params(axis='y', colors='gray')\n",
    "\n",
    "plt.show()"
   ]
  },
  {
   "cell_type": "markdown",
   "metadata": {},
   "source": [
    "## PDP plots\n",
    "- PDP = Partial Dependence Plot"
   ]
  },
  {
   "cell_type": "code",
   "execution_count": null,
   "metadata": {
    "ExecuteTime": {
     "end_time": "2021-12-04T18:51:41.486682Z",
     "start_time": "2021-12-04T18:51:41.475647Z"
    }
   },
   "outputs": [],
   "source": [
    "def partial_dependency(bst, X, y, feature_names, feature_ids = [], f_id = -1):\n",
    "\n",
    "    \"\"\"\n",
    "    Calculate the dependency (or partial dependency) of a response variable on a predictor (or multiple predictors)\n",
    "    1. Sample a grid of values of a predictor.\n",
    "    2. For each value, replace every row of that predictor with this value, calculate the average prediction.\n",
    "    \"\"\"\n",
    "    X_temp = X.copy()\n",
    "    grid = np.linspace(\n",
    "        np.percentile(X_temp[:, f_id], 0.1),\n",
    "        np.percentile(X_temp[:, f_id], 99.5),\n",
    "        50\n",
    "    )\n",
    "    y_pred = np.zeros(len(grid))\n",
    "\n",
    "    if len(feature_ids) == 0 or f_id == -1:\n",
    "        print ('Input error!')\n",
    "        return\n",
    "    else:\n",
    "        for i, val in enumerate(grid):\n",
    "\n",
    "            X_temp[:, f_id] = val\n",
    "            data = xgb.DMatrix(X_temp, feature_names = feature_names)\n",
    "\n",
    "            y_pred[i] = np.average(bst.predict(data))\n",
    "\n",
    "    return grid, y_pred"
   ]
  },
  {
   "cell_type": "code",
   "execution_count": null,
   "metadata": {
    "ExecuteTime": {
     "end_time": "2021-12-04T18:51:46.011344Z",
     "start_time": "2021-12-04T18:51:42.519843Z"
    }
   },
   "outputs": [],
   "source": [
    "lst_f = ['EXT_SOURCE_1','EXT_SOURCE_2','EXT_SOURCE_3']\n",
    "# cols_pred\n",
    "sampled_data = data.sample(frac=0.1, random_state=22)\n",
    "for f in lst_f:\n",
    "    f_id = cols_pred.index(f)\n",
    "    feature_ids = range(len(cols_pred))\n",
    "\n",
    "    mask = sampled_data[f].notnull()\n",
    "    grid, y_pred = partial_dependency(\n",
    "        booster,\n",
    "        sampled_data[mask][cols_pred].values,\n",
    "        sampled_data[mask][col_target].values,\n",
    "        feature_names = cols_pred,\n",
    "        feature_ids = feature_ids,\n",
    "        f_id = f_id\n",
    "    )\n",
    "\n",
    "    fig, ax = plt.subplots()\n",
    "    fig.set_size_inches(5, 5)\n",
    "    plt.subplots_adjust(left = 0.17, right = 0.94, bottom = 0.15, top = 0.9)\n",
    "\n",
    "    ax.plot(grid, y_pred, ls = '-', color = 'red', linewidth = 1.5, label='fit')\n",
    "\n",
    "    ax.set_xlim(min(grid), max(grid))\n",
    "    ax.set_ylim(0.98 * min(y_pred), 1.02 * max(y_pred))\n",
    "\n",
    "    ax.set_title(f)\n",
    "    ax.set_ylabel('Partial Dependence')\n",
    "    plt.xticks(rotation=45)\n",
    "\n",
    "    plt.show()"
   ]
  },
  {
   "cell_type": "markdown",
   "metadata": {},
   "source": [
    "## ICE plots\n",
    "- ICE = Individual Conditional Expectation"
   ]
  },
  {
   "cell_type": "code",
   "execution_count": null,
   "metadata": {
    "ExecuteTime": {
     "end_time": "2021-12-04T18:51:46.749372Z",
     "start_time": "2021-12-04T18:51:46.735309Z"
    }
   },
   "outputs": [],
   "source": [
    "def ice_data(bst, dt, predictor, n_points=20):\n",
    "    X = dt.copy()\n",
    "    grid = np.linspace(\n",
    "        dt[predictor].quantile(0.01),\n",
    "        dt[predictor].quantile(0.99),\n",
    "        n_points\n",
    "    )\n",
    "    \n",
    "    y_pred = np.zeros((len(dt), len(grid)))\n",
    "\n",
    "    if len(feature_ids) == 0 or f_id == -1:\n",
    "        print ('Input error!')\n",
    "        return\n",
    "    else:\n",
    "        for i, val in enumerate(grid):\n",
    "            X[predictor] = val\n",
    "            data = xgb.DMatrix(X, feature_names = X.columns.to_list())\n",
    "\n",
    "            y_pred[:,i] = bst.predict(data)\n",
    "    return grid, y_pred"
   ]
  },
  {
   "cell_type": "code",
   "execution_count": null,
   "metadata": {
    "ExecuteTime": {
     "end_time": "2021-12-04T18:51:50.994914Z",
     "start_time": "2021-12-04T18:51:47.351313Z"
    }
   },
   "outputs": [],
   "source": [
    "n_plots = 100\n",
    "cols_to_plot = ['EXT_SOURCE_1','EXT_SOURCE_2','EXT_SOURCE_3']\n",
    "\n",
    "sampled_data = data.sample(n=10000, random_state=22)\n",
    "\n",
    "for pred in cols_to_plot:\n",
    "    x, ice_data_plot = ice_data(booster, sampled_data[cols_pred], pred)\n",
    "\n",
    "    idx = np.random.randint(len(x), size=n_plots)\n",
    "    plt.plot(x, np.transpose(ice_data_plot[idx,:]), lw = 0.5, color = 'lightblue')\n",
    "    plt.plot(x, np.average(ice_data_plot[idx,:], axis = 0), lw = 2, ls = '--', color = 'blue', label = 'Partial dependance curve')\n",
    "    plt.title(pred)\n",
    "    plt.ylabel('Predicted value')\n",
    "    plt.xlabel('Values')\n",
    "    plt.legend(loc='best')\n",
    "    plt.show()"
   ]
  },
  {
   "cell_type": "markdown",
   "metadata": {},
   "source": [
    "## SHAP\n",
    "- SHAP = SHapley Additive exPlanations\n",
    "- Original paper presenting SHAP values can be downloaded here: <a href=https://arxiv.org/abs/1705.07874 target=\"_blank\">SHAP values</a>\n",
    "- SHAP values are defined by following equation:\n",
    "$$ \\phi_i = \\sum_{S\\subseteq F\\setminus\\lbrace i \\rbrace} \\frac{|S|!(|F|-|S|-1)!}{|F|!} [f_{S\\cup \\lbrace i\\rbrace}(x_{S\\cup \\lbrace i\\rbrace})-f_S(x_S)] $$\n",
    "where:\n",
    "\n",
    "    - $F$ ... set of all model features\n",
    "    - $S$ ... $S \\subseteq F \\setminus\\lbrace i\\rbrace$\n",
    "    - $\\phi_i$ ... SHAP value for predictor $x_i$\n",
    "    - $f_S(x_S)$ ... output of model build on feature set $S$ given feature values $x_S$"
   ]
  },
  {
   "cell_type": "code",
   "execution_count": null,
   "metadata": {
    "ExecuteTime": {
     "end_time": "2021-12-04T18:52:16.059606Z",
     "start_time": "2021-12-04T18:51:51.801737Z"
    }
   },
   "outputs": [],
   "source": [
    "import shap\n",
    "shap.initjs()"
   ]
  },
  {
   "cell_type": "code",
   "execution_count": null,
   "metadata": {
    "ExecuteTime": {
     "end_time": "2021-12-04T18:52:19.352886Z",
     "start_time": "2021-12-04T18:52:16.688607Z"
    }
   },
   "outputs": [],
   "source": [
    "explainer = shap.TreeExplainer(booster)\n",
    "shap_values = explainer.shap_values(data[cols_pred])"
   ]
  },
  {
   "cell_type": "code",
   "execution_count": null,
   "metadata": {
    "ExecuteTime": {
     "end_time": "2021-12-04T18:52:29.523033Z",
     "start_time": "2021-12-04T18:52:20.699484Z"
    }
   },
   "outputs": [],
   "source": [
    "plt.figure()\n",
    "shap.summary_plot(shap_values, data[cols_pred], max_display=20, show=True)\n",
    "plt.show()"
   ]
  },
  {
   "cell_type": "code",
   "execution_count": null,
   "metadata": {
    "ExecuteTime": {
     "end_time": "2021-12-04T18:52:30.267114Z",
     "start_time": "2021-12-04T18:52:30.206114Z"
    }
   },
   "outputs": [],
   "source": [
    "shap.force_plot(explainer.expected_value, shap_values[0,:], data[cols_pred].iloc[0,:])"
   ]
  },
  {
   "cell_type": "code",
   "execution_count": null,
   "metadata": {
    "ExecuteTime": {
     "end_time": "2021-12-04T18:52:32.276946Z",
     "start_time": "2021-12-04T18:52:30.932358Z"
    }
   },
   "outputs": [],
   "source": [
    "shap.plots._waterfall.waterfall_legacy(\n",
    "    expected_value=explainer.expected_value, \n",
    "    shap_values=shap_values[0, :], \n",
    "    feature_names=cols_pred, \n",
    "    max_display=20\n",
    ")"
   ]
  },
  {
   "cell_type": "markdown",
   "metadata": {},
   "source": [
    "### SHAP interaction values"
   ]
  },
  {
   "cell_type": "code",
   "execution_count": null,
   "metadata": {
    "ExecuteTime": {
     "end_time": "2021-12-04T18:52:47.486270Z",
     "start_time": "2021-12-04T18:52:32.985909Z"
    }
   },
   "outputs": [],
   "source": [
    "Xd = xgb.DMatrix(data[train_mask][cols_pred].iloc[:1000], data[train_mask][col_target].iloc[:1000])\n",
    "\n",
    "explainer = shap.TreeExplainer(booster)\n",
    "shap_interaction_values = explainer.shap_interaction_values(Xd)"
   ]
  },
  {
   "cell_type": "code",
   "execution_count": null,
   "metadata": {
    "ExecuteTime": {
     "end_time": "2021-12-04T18:52:51.969868Z",
     "start_time": "2021-12-04T18:52:48.751708Z"
    }
   },
   "outputs": [],
   "source": [
    "plt.figure(figsize=(15,13))\n",
    "\n",
    "sns.heatmap(\n",
    "    data=np.mean(abs(shap_interaction_values[:, 0:20, 0:20]), axis=0), \n",
    "    annot=True, \n",
    "    fmt='.2f', \n",
    "    xticklabels=cols_pred[0:20], \n",
    "    yticklabels=cols_pred[0:20],\n",
    "    cmap='winter',\n",
    "    vmax=0.05\n",
    ")\n",
    "\n",
    "plt.show()"
   ]
  },
  {
   "cell_type": "code",
   "execution_count": null,
   "metadata": {
    "ExecuteTime": {
     "end_time": "2021-12-04T18:52:52.980869Z",
     "start_time": "2021-12-04T18:52:52.571874Z"
    }
   },
   "outputs": [],
   "source": [
    "n_observations = 10000\n",
    "\n",
    "dt_shap = data.iloc[0:n_observations]\n",
    "dt_shap = dt_shap[cols_pred]\n",
    "shap.dependence_plot('AMT_GOODS_PRICE', shap_values[:n_observations], dt_shap, interaction_index = 'AMT_CREDIT')"
   ]
  },
  {
   "cell_type": "markdown",
   "metadata": {},
   "source": [
    "Better example of high interaction: https://h1ros.github.io/posts/explain-the-interaction-values-by-shap/"
   ]
  },
  {
   "cell_type": "code",
   "execution_count": null,
   "metadata": {},
   "outputs": [],
   "source": []
  },
  {
   "cell_type": "code",
   "execution_count": null,
   "metadata": {},
   "outputs": [],
   "source": [
    "# def marginal_dependence(data, predictor, bins, col_target):\n",
    "#     dt = data.copy()\n",
    "#     dt[predictor + 'bin'] = pd.qcut(dt[predictor], bins).copy()\n",
    "#     dt.groupby(predictor + 'bin').agg(\n",
    "#         def_rt=(col_target, np.mean),\n",
    "#     ).plot(figsize=(9, 6))"
   ]
  }
 ],
 "metadata": {
  "kernelspec": {
   "display_name": "Python 3 (ipykernel)",
   "language": "python",
   "name": "python3"
  },
  "language_info": {
   "codemirror_mode": {
    "name": "ipython",
    "version": 3
   },
   "file_extension": ".py",
   "mimetype": "text/x-python",
   "name": "python",
   "nbconvert_exporter": "python",
   "pygments_lexer": "ipython3",
   "version": "3.10.9"
  },
  "toc": {
   "base_numbering": 1,
   "nav_menu": {},
   "number_sections": true,
   "sideBar": true,
   "skip_h1_title": false,
   "title_cell": "Table of Contents",
   "title_sidebar": "Contents",
   "toc_cell": false,
   "toc_position": {
    "height": "calc(100% - 180px)",
    "left": "10px",
    "top": "150px",
    "width": "239.938px"
   },
   "toc_section_display": true,
   "toc_window_display": true
  },
  "varInspector": {
   "cols": {
    "lenName": 16,
    "lenType": 16,
    "lenVar": 40
   },
   "kernels_config": {
    "python": {
     "delete_cmd_postfix": "",
     "delete_cmd_prefix": "del ",
     "library": "var_list.py",
     "varRefreshCmd": "print(var_dic_list())"
    },
    "r": {
     "delete_cmd_postfix": ") ",
     "delete_cmd_prefix": "rm(",
     "library": "var_list.r",
     "varRefreshCmd": "cat(var_dic_list()) "
    }
   },
   "types_to_exclude": [
    "module",
    "function",
    "builtin_function_or_method",
    "instance",
    "_Feature"
   ],
   "window_display": false
  }
 },
 "nbformat": 4,
 "nbformat_minor": 4
}
